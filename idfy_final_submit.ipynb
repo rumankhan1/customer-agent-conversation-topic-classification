{
  "nbformat": 4,
  "nbformat_minor": 0,
  "metadata": {
    "colab": {
      "name": "idfy_final_submit.ipynb",
      "provenance": []
    },
    "kernelspec": {
      "name": "python3",
      "display_name": "Python 3"
    }
  },
  "cells": [
    {
      "cell_type": "markdown",
      "metadata": {
        "id": "91rEPq1k8p3h"
      },
      "source": [
        "## Agent-Customer Conversation Topic Classification\r\n"
      ]
    },
    {
      "cell_type": "code",
      "metadata": {
        "id": "jSd6bpPsAvzC"
      },
      "source": [
        "import os\r\n",
        "import io\r\n",
        "import re\r\n",
        "import numpy as np\r\n",
        "import pandas as %pdoc\r\n",
        "import seaborn as sns\r\n",
        "import matplotlib.pyplot as plt\r\n",
        "import pickle\r\n",
        "\r\n",
        "from sklearn.model_selection import train_test_split\r\n",
        "from sklearn.feature_extraction.text import CountVectorizer\r\n",
        "from sklearn.naive_bayes import MultinomialNB\r\n",
        "from sklearn import  preprocessing\r\n",
        "from sklearn import metrics\r\n",
        "from sklearn.multiclass import OneVsRestClassifier\r\n",
        "import math"
      ],
      "execution_count": 1,
      "outputs": []
    },
    {
      "cell_type": "markdown",
      "metadata": {
        "id": "xMTMjc8E-vlG"
      },
      "source": [
        "## Building model"
      ]
    },
    {
      "cell_type": "code",
      "metadata": {
        "colab": {
          "base_uri": "https://localhost:8080/",
          "height": 35
        },
        "id": "aW9F6l2xQyfr",
        "outputId": "584e706d-393f-4853-db28-ef172975e20c"
      },
      "source": [
        "os.chdir('/content/drive/MyDrive/projects_assignment/idfy_nlp_assignment')\r\n",
        "os.getcwd()"
      ],
      "execution_count": null,
      "outputs": [
        {
          "output_type": "execute_result",
          "data": {
            "application/vnd.google.colaboratory.intrinsic+json": {
              "type": "string"
            },
            "text/plain": [
              "'/content/drive/MyDrive/projects_assignment/idfy_nlp_assignment'"
            ]
          },
          "metadata": {
            "tags": []
          },
          "execution_count": 3
        }
      ]
    },
    {
      "cell_type": "markdown",
      "metadata": {
        "id": "rkL8HPV02aSu"
      },
      "source": [
        "Dictionary for expanding the contracted words"
      ]
    },
    {
      "cell_type": "code",
      "metadata": {
        "id": "q7ersbefc1aB"
      },
      "source": [
        "CONTRACTION_MAP = {\"ain't\": \"is not\", \"aren't\": \"are not\",\"can't\": \"cannot\", \r\n",
        "                   \"can't've\": \"cannot have\", \"'cause\": \"because\", \"could've\": \"could have\", \r\n",
        "                   \"couldn't\": \"could not\", \"couldn't've\": \"could not have\",\"didn't\": \"did not\", \r\n",
        "                   \"doesn't\": \"does not\", \"don't\": \"do not\", \"hadn't\": \"had not\", \r\n",
        "                   \"hadn't've\": \"had not have\", \"hasn't\": \"has not\", \"haven't\": \"have not\", \r\n",
        "                   \"he'd\": \"he would\", \"he'd've\": \"he would have\", \"he'll\": \"he will\", \r\n",
        "                   \"he'll've\": \"he he will have\", \"he's\": \"he is\", \"how'd\": \"how did\", \r\n",
        "                   \"how'd'y\": \"how do you\", \"how'll\": \"how will\", \"how's\": \"how is\", \r\n",
        "                   \"I'd\": \"I would\", \"I'd've\": \"I would have\", \"I'll\": \"I will\", \r\n",
        "                   \"I'll've\": \"I will have\",\"I'm\": \"I am\", \"I've\": \"I have\", \r\n",
        "                   \"i'd\": \"i would\", \"i'd've\": \"i would have\", \"i'll\": \"i will\", \r\n",
        "                   \"i'll've\": \"i will have\",\"i'm\": \"i am\", \"i've\": \"i have\", \r\n",
        "                   \"isn't\": \"is not\", \"it'd\": \"it would\", \"it'd've\": \"it would have\", \r\n",
        "                   \"it'll\": \"it will\", \"it'll've\": \"it will have\",\"it's\": \"it is\", \r\n",
        "                   \"let's\": \"let us\", \"ma'am\": \"madam\", \"mayn't\": \"may not\", \r\n",
        "                   \"might've\": \"might have\",\"mightn't\": \"might not\",\"mightn't've\": \"might not have\", \r\n",
        "                   \"must've\": \"must have\", \"mustn't\": \"must not\", \"mustn't've\": \"must not have\", \r\n",
        "                   \"needn't\": \"need not\", \"needn't've\": \"need not have\",\"o'clock\": \"of the clock\", \r\n",
        "                   \"oughtn't\": \"ought not\", \"oughtn't've\": \"ought not have\", \"shan't\": \"shall not\",\r\n",
        "                   \"sha'n't\": \"shall not\", \"shan't've\": \"shall not have\", \"she'd\": \"she would\", \r\n",
        "                   \"she'd've\": \"she would have\", \"she'll\": \"she will\", \"she'll've\": \"she will have\", \r\n",
        "                   \"she's\": \"she is\", \"should've\": \"should have\", \"shouldn't\": \"should not\", \r\n",
        "                   \"shouldn't've\": \"should not have\", \"so've\": \"so have\",\"so's\": \"so as\", \r\n",
        "                   \"this's\": \"this is\",\r\n",
        "                   \"that'd\": \"that would\", \"that'd've\": \"that would have\",\"that's\": \"that is\", \r\n",
        "                   \"there'd\": \"there would\", \"there'd've\": \"there would have\",\"there's\": \"there is\", \r\n",
        "                   \"they'd\": \"they would\", \"they'd've\": \"they would have\", \"they'll\": \"they will\", \r\n",
        "                   \"they'll've\": \"they will have\", \"they're\": \"they are\", \"they've\": \"they have\", \r\n",
        "                   \"to've\": \"to have\", \"wasn't\": \"was not\", \"we'd\": \"we would\", \r\n",
        "                   \"we'd've\": \"we would have\", \"we'll\": \"we will\", \"we'll've\": \"we will have\", \r\n",
        "                   \"we're\": \"we are\", \"we've\": \"we have\", \"weren't\": \"were not\", \r\n",
        "                   \"what'll\": \"what will\", \"what'll've\": \"what will have\", \"what're\": \"what are\", \r\n",
        "                   \"what's\": \"what is\", \"what've\": \"what have\", \"when's\": \"when is\", \r\n",
        "                   \"when've\": \"when have\", \"where'd\": \"where did\", \"where's\": \"where is\", \r\n",
        "                   \"where've\": \"where have\", \"who'll\": \"who will\", \"who'll've\": \"who will have\", \r\n",
        "                   \"who's\": \"who is\", \"who've\": \"who have\", \"why's\": \"why is\", \r\n",
        "                   \"why've\": \"why have\", \"will've\": \"will have\", \"won't\": \"will not\", \r\n",
        "                   \"won't've\": \"will not have\", \"would've\": \"would have\", \"wouldn't\": \"would not\", \r\n",
        "                   \"wouldn't've\": \"would not have\", \"y'all\": \"you all\", \"y'all'd\": \"you all would\",\r\n",
        "                   \"y'all'd've\": \"you all would have\",\"y'all're\": \"you all are\",\"y'all've\": \"you all have\",\r\n",
        "                   \"you'd\": \"you would\", \"you'd've\": \"you would have\", \"you'll\": \"you will\", \r\n",
        "                   \"you'll've\": \"you will have\", \"you're\": \"you are\", \"you've\": \"you have\" \r\n",
        "                   }"
      ],
      "execution_count": null,
      "outputs": []
    },
    {
      "cell_type": "markdown",
      "metadata": {
        "id": "BZI1FReo2lRe"
      },
      "source": [
        "### Data Cleaning\r\n",
        "Different helper methods to clean and Prepare the data"
      ]
    },
    {
      "cell_type": "code",
      "metadata": {
        "id": "GJDo-mV79DZg"
      },
      "source": [
        "def clean_script(script_text):\r\n",
        "  'This method takes the script_text:string as an input and returns the same after cleaning'\r\n",
        "\r\n",
        "  # print(script_text)\r\n",
        "  script_text = script_text.lower()\r\n",
        "\r\n",
        "  #removes the token like '[silence]' or [']\r\n",
        "  script_text = re.sub('[\\[[a-z]*\\-[a-z]*]|[\\[[a-z]*]', ' ', script_text)\r\n",
        "\r\n",
        "  #this removes all the extra whitespace\r\n",
        "  script_text = re.sub('[\\s]{2,}', ' ',script_text)\r\n",
        "\r\n",
        "  #this removes the repeating 'yeah'. As this token is important so removing the repeating one\r\n",
        "  #what is does that it replace the yeah yeah with yeah or yeah yeah yeah with yeah and so on\r\n",
        "  script_text = re.sub('yeah\\syeah|yeah\\syeah\\syeah|yeah\\syeah\\syeah\\syeah|yeah\\syeah\\syeah\\syeah\\syeah', 'yeah', script_text)\r\n",
        "  script_text = re.sub('[\\s]{2,}', ' ',script_text)\r\n",
        "  script_text = re.sub('yeah\\syeah|yeah\\syeah\\syeah|yeah\\syeah\\syeah\\syeah|yeah\\syeah\\syeah\\syeah\\syeah', 'yeah', script_text)\r\n",
        "\r\n",
        "  #this removes the 'um', 'uh', 'um-hum', 'i-', '-i' or '-' from the script as alomst useless. As these are repeating alot and not adding much of value \r\n",
        "  script_text = re.sub('um|uh|]\\s\\w\\-|\\-\\s|\\-\\w|\\w\\-', '',script_text)\r\n",
        "\r\n",
        "  #removing tag like <b_aside> or <e_aside>\r\n",
        "  script_text = re.sub('<.*?>' ,'', script_text)\r\n",
        "\r\n",
        "  #this removes all the extra whitespace\r\n",
        "  script_text = re.sub('[\\s]{2,}', ' ',script_text)\r\n",
        "  return ' '+script_text.strip()\r\n",
        "\r\n",
        "def pre_process_conv_script(txt_file): \r\n",
        "  'This method takes the conversation script file_path as input and returns the cleaned string'\r\n",
        "\r\n",
        "  #we'll get the file id from the text file name - will be used later to build the train and test dataset\r\n",
        "  file_id_search = re.search('[0-9]+', txt_file)\r\n",
        "  file_id = txt_file[file_id_search.start():file_id_search.end()]\r\n",
        "\r\n",
        "  final_str = ''\r\n",
        "  script_lines = io.open(txt_file,encoding='UTF-8').read().split('\\n')\r\n",
        "  for script in script_lines:\r\n",
        "    script = ' '.join(script.split(' ')[3:])\r\n",
        "   \r\n",
        "    script = clean_script(script)\r\n",
        "    \r\n",
        "    final_str += script\r\n",
        "\r\n",
        "  #just removes extra white spaces\r\n",
        "  final_str = re.sub('[\\s]{2,}', ' ',final_str)\r\n",
        "\r\n",
        "  return final_str.strip(), file_id\r\n",
        "    "
      ],
      "execution_count": null,
      "outputs": []
    },
    {
      "cell_type": "code",
      "metadata": {
        "id": "egOyZKflfLtc"
      },
      "source": [
        "# Prepare Data \r\n",
        "# For classical ML approach like Bow / tfidf we'll have to prepare the data with expanded contractions eg. 'don't' to 'do not'\r\n",
        "def expand_contraction(cleaned_script, key, value):\r\n",
        "  'This method expands the contracted word. Takes words, key and value as an input'\r\n",
        "  cleaned_script = re.sub(key, value, cleaned_script)\r\n",
        "  return cleaned_script\r\n",
        "\r\n",
        "# Modern state of the art algorithms like Bert do not care wether word is contracted or uncontracted. \r\n",
        "\r\n",
        "def prep_data():\r\n",
        "  'This method prepares the data. returns the label_list and list of cleaned conversation script'\r\n",
        "  #this list stores all the clean conv script\r\n",
        "  clean_script_list = []\r\n",
        "  clean_script_uncontracted = []\r\n",
        "  label_list = []\r\n",
        "  \r\n",
        "  # Storing all text files in a list\r\n",
        "  text_files = os.listdir('tagging_test')[:-1]\r\n",
        "  contraction_keys  = list(CONTRACTION_MAP.keys())\r\n",
        "  \r\n",
        "  for text_file in text_files:\r\n",
        "    # get the clean text for each text file\r\n",
        "    clean_script, label_id = pre_process_conv_script('tagging_test/'+text_file)\r\n",
        "    clean_script_list.append(clean_script)\r\n",
        "    label_list.append(label_id)\r\n",
        "\r\n",
        "    for key in contraction_keys:\r\n",
        "      clean_script = expand_contraction(clean_script, key, CONTRACTION_MAP.get(key))\r\n",
        "    clean_script_uncontracted.append(clean_script)\r\n",
        "\r\n",
        "  return label_list, clean_script_list, clean_script_uncontracted\r\n"
      ],
      "execution_count": null,
      "outputs": []
    },
    {
      "cell_type": "code",
      "metadata": {
        "id": "Lf4y_lTX3fk9"
      },
      "source": [
        "label_list, clean_script_list, clean_script_uncontracted = prep_data()"
      ],
      "execution_count": null,
      "outputs": []
    },
    {
      "cell_type": "markdown",
      "metadata": {
        "id": "gsKGsg814HMh"
      },
      "source": [
        "### Building dataframe\r\n",
        "We'll prepare data out of list returned by prep_data"
      ]
    },
    {
      "cell_type": "code",
      "metadata": {
        "id": "SOL17E9QSbOL"
      },
      "source": [
        "#prep pandas dataframe out of it\r\n",
        "data_uncontracted = pd.DataFrame(data=list(zip(label_list, clean_script_uncontracted)), columns = ['label_id', 'conv_script'])\r\n",
        "data_contracted  = pd.DataFrame(data=list(zip(label_list, clean_script_list)), columns = ['label_id', 'conv_script'])"
      ],
      "execution_count": null,
      "outputs": []
    },
    {
      "cell_type": "code",
      "metadata": {
        "colab": {
          "base_uri": "https://localhost:8080/",
          "height": 359
        },
        "id": "JUhAXfswXOqL",
        "outputId": "da447031-5014-415b-8f97-1e3e386af8db"
      },
      "source": [
        "data_uncontracted.sample(10)"
      ],
      "execution_count": null,
      "outputs": [
        {
          "output_type": "execute_result",
          "data": {
            "text/html": [
              "<div>\n",
              "<style scoped>\n",
              "    .dataframe tbody tr th:only-of-type {\n",
              "        vertical-align: middle;\n",
              "    }\n",
              "\n",
              "    .dataframe tbody tr th {\n",
              "        vertical-align: top;\n",
              "    }\n",
              "\n",
              "    .dataframe thead th {\n",
              "        text-align: right;\n",
              "    }\n",
              "</style>\n",
              "<table border=\"1\" class=\"dataframe\">\n",
              "  <thead>\n",
              "    <tr style=\"text-align: right;\">\n",
              "      <th></th>\n",
              "      <th>label_id</th>\n",
              "      <th>conv_script</th>\n",
              "    </tr>\n",
              "  </thead>\n",
              "  <tbody>\n",
              "    <tr>\n",
              "      <th>170</th>\n",
              "      <td>4615</td>\n",
              "      <td>why do not you go ahead first okay short term ...</td>\n",
              "    </tr>\n",
              "    <tr>\n",
              "      <th>165</th>\n",
              "      <td>4383</td>\n",
              "      <td>do you think should be done for the the huge b...</td>\n",
              "    </tr>\n",
              "    <tr>\n",
              "      <th>103</th>\n",
              "      <td>2478</td>\n",
              "      <td>colorado springs oh right up in ti out there y...</td>\n",
              "    </tr>\n",
              "    <tr>\n",
              "      <th>22</th>\n",
              "      <td>2092</td>\n",
              "      <td>well the thing is is that since i am in school...</td>\n",
              "    </tr>\n",
              "    <tr>\n",
              "      <th>106</th>\n",
              "      <td>2591</td>\n",
              "      <td>the whole savings and loan thing seems to be a...</td>\n",
              "    </tr>\n",
              "    <tr>\n",
              "      <th>46</th>\n",
              "      <td>2235</td>\n",
              "      <td>okay hi okay you wanna start hi yeah sure i th...</td>\n",
              "    </tr>\n",
              "    <tr>\n",
              "      <th>217</th>\n",
              "      <td>2791</td>\n",
              "      <td>okay official time well what do you think of a...</td>\n",
              "    </tr>\n",
              "    <tr>\n",
              "      <th>4</th>\n",
              "      <td>3077</td>\n",
              "      <td>americans like me and whether or not not i thi...</td>\n",
              "    </tr>\n",
              "    <tr>\n",
              "      <th>81</th>\n",
              "      <td>4240</td>\n",
              "      <td>so how do you like the benefits of ti well act...</td>\n",
              "    </tr>\n",
              "    <tr>\n",
              "      <th>147</th>\n",
              "      <td>2916</td>\n",
              "      <td>okay i do not think i have ever met anybody th...</td>\n",
              "    </tr>\n",
              "  </tbody>\n",
              "</table>\n",
              "</div>"
            ],
            "text/plain": [
              "    label_id                                        conv_script\n",
              "170     4615  why do not you go ahead first okay short term ...\n",
              "165     4383  do you think should be done for the the huge b...\n",
              "103     2478  colorado springs oh right up in ti out there y...\n",
              "22      2092  well the thing is is that since i am in school...\n",
              "106     2591  the whole savings and loan thing seems to be a...\n",
              "46      2235  okay hi okay you wanna start hi yeah sure i th...\n",
              "217     2791  okay official time well what do you think of a...\n",
              "4       3077  americans like me and whether or not not i thi...\n",
              "81      4240  so how do you like the benefits of ti well act...\n",
              "147     2916  okay i do not think i have ever met anybody th..."
            ]
          },
          "metadata": {
            "tags": []
          },
          "execution_count": 383
        }
      ]
    },
    {
      "cell_type": "code",
      "metadata": {
        "colab": {
          "base_uri": "https://localhost:8080/",
          "height": 359
        },
        "id": "X5yUf967erD6",
        "outputId": "b6615670-3c03-4d96-d47b-1dbe73033d6b"
      },
      "source": [
        "data_contracted.sample(10)"
      ],
      "execution_count": null,
      "outputs": [
        {
          "output_type": "execute_result",
          "data": {
            "text/html": [
              "<div>\n",
              "<style scoped>\n",
              "    .dataframe tbody tr th:only-of-type {\n",
              "        vertical-align: middle;\n",
              "    }\n",
              "\n",
              "    .dataframe tbody tr th {\n",
              "        vertical-align: top;\n",
              "    }\n",
              "\n",
              "    .dataframe thead th {\n",
              "        text-align: right;\n",
              "    }\n",
              "</style>\n",
              "<table border=\"1\" class=\"dataframe\">\n",
              "  <thead>\n",
              "    <tr style=\"text-align: right;\">\n",
              "      <th></th>\n",
              "      <th>label_id</th>\n",
              "      <th>conv_script</th>\n",
              "    </tr>\n",
              "  </thead>\n",
              "  <tbody>\n",
              "    <tr>\n",
              "      <th>22</th>\n",
              "      <td>2092</td>\n",
              "      <td>well the thing is is that since i'm in school ...</td>\n",
              "    </tr>\n",
              "    <tr>\n",
              "      <th>216</th>\n",
              "      <td>2447</td>\n",
              "      <td>probably the lifestyles and the size of the ar...</td>\n",
              "    </tr>\n",
              "    <tr>\n",
              "      <th>21</th>\n",
              "      <td>2234</td>\n",
              "      <td>well my family moved to texas about eight year...</td>\n",
              "    </tr>\n",
              "    <tr>\n",
              "      <th>8</th>\n",
              "      <td>3312</td>\n",
              "      <td>kind of options do you have in your work as fa...</td>\n",
              "    </tr>\n",
              "    <tr>\n",
              "      <th>130</th>\n",
              "      <td>2782</td>\n",
              "      <td>i guess so okay ready to talk okay i want to t...</td>\n",
              "    </tr>\n",
              "    <tr>\n",
              "      <th>54</th>\n",
              "      <td>3084</td>\n",
              "      <td>okay i guess we're going to talk about budgets...</td>\n",
              "    </tr>\n",
              "    <tr>\n",
              "      <th>167</th>\n",
              "      <td>3786</td>\n",
              "      <td>o okay so you were with ti h yeah i've been wi...</td>\n",
              "    </tr>\n",
              "    <tr>\n",
              "      <th>117</th>\n",
              "      <td>2508</td>\n",
              "      <td>how do you manage your budget well let's see w...</td>\n",
              "    </tr>\n",
              "    <tr>\n",
              "      <th>95</th>\n",
              "      <td>2917</td>\n",
              "      <td>hi what do you do with your credit cards oh we...</td>\n",
              "    </tr>\n",
              "    <tr>\n",
              "      <th>39</th>\n",
              "      <td>2250</td>\n",
              "      <td>so what kind of benefits do you have in your j...</td>\n",
              "    </tr>\n",
              "  </tbody>\n",
              "</table>\n",
              "</div>"
            ],
            "text/plain": [
              "    label_id                                        conv_script\n",
              "22      2092  well the thing is is that since i'm in school ...\n",
              "216     2447  probably the lifestyles and the size of the ar...\n",
              "21      2234  well my family moved to texas about eight year...\n",
              "8       3312  kind of options do you have in your work as fa...\n",
              "130     2782  i guess so okay ready to talk okay i want to t...\n",
              "54      3084  okay i guess we're going to talk about budgets...\n",
              "167     3786  o okay so you were with ti h yeah i've been wi...\n",
              "117     2508  how do you manage your budget well let's see w...\n",
              "95      2917  hi what do you do with your credit cards oh we...\n",
              "39      2250  so what kind of benefits do you have in your j..."
            ]
          },
          "metadata": {
            "tags": []
          },
          "execution_count": 384
        }
      ]
    },
    {
      "cell_type": "code",
      "metadata": {
        "colab": {
          "base_uri": "https://localhost:8080/",
          "height": 35
        },
        "id": "rQ4I2Ty4e8RK",
        "outputId": "6dd61d83-6a26-45c3-9c1b-8facce31b63c"
      },
      "source": [
        "os.getcwd()"
      ],
      "execution_count": null,
      "outputs": [
        {
          "output_type": "execute_result",
          "data": {
            "application/vnd.google.colaboratory.intrinsic+json": {
              "type": "string"
            },
            "text/plain": [
              "'/content/drive/My Drive/projects_assignment/idfy_nlp_assignment'"
            ]
          },
          "metadata": {
            "tags": []
          },
          "execution_count": 388
        }
      ]
    },
    {
      "cell_type": "markdown",
      "metadata": {
        "id": "MZhXAMnx4XmT"
      },
      "source": [
        "### Preparing class labels\r\n",
        "Since class labels for each conversation script is in different files so we'll have to process those all"
      ]
    },
    {
      "cell_type": "code",
      "metadata": {
        "id": "8BK1A_MipDvX"
      },
      "source": [
        "#now let's process the label text file and conact that with script dataFrame\r\n",
        "def prep_label():\r\n",
        "  'This methods prepares the lis of labels and label ids'\r\n",
        "  all_labels_list = []\r\n",
        "  all_labels_id = []\r\n",
        "\r\n",
        "  path_to_file = 'tagging_test/metadata/mapping_conv_topic.train.txt'\r\n",
        "  label_lines = io.open(path_to_file,encoding='UTF-8').read().split('\\n')\r\n",
        "\r\n",
        "  for label_line in label_lines:\r\n",
        "    \r\n",
        "    try:\r\n",
        "      all_labels_id.append(label_line.split()[0])\r\n",
        "      all_labels_list.append(re.sub('\"', '', ' '.join(label_line.split()[1:])))\r\n",
        "    #putting exception block as few problem with the text file in last line. So all good with exception\r\n",
        "    except:\r\n",
        "      continue\r\n",
        "    \r\n",
        "    \r\n",
        "  return all_labels_list, all_labels_id\r\n"
      ],
      "execution_count": null,
      "outputs": []
    },
    {
      "cell_type": "code",
      "metadata": {
        "id": "BUAV_GkjqpVS"
      },
      "source": [
        "all_labels_list, all_labels_id = prep_label()"
      ],
      "execution_count": null,
      "outputs": []
    },
    {
      "cell_type": "markdown",
      "metadata": {
        "id": "r6W5mdl04rYP"
      },
      "source": [
        "Building dataframe for the class labels"
      ]
    },
    {
      "cell_type": "code",
      "metadata": {
        "colab": {
          "base_uri": "https://localhost:8080/",
          "height": 204
        },
        "id": "yfDoFCWvsLoq",
        "outputId": "3e71e617-dc7b-448a-a919-3d95fbc192c4"
      },
      "source": [
        "data_label  = pd.DataFrame(data=list(zip(all_labels_id, all_labels_list)), columns = ['label_id', 'class_label'])\r\n",
        "data_label.sample(5)"
      ],
      "execution_count": null,
      "outputs": [
        {
          "output_type": "execute_result",
          "data": {
            "text/html": [
              "<div>\n",
              "<style scoped>\n",
              "    .dataframe tbody tr th:only-of-type {\n",
              "        vertical-align: middle;\n",
              "    }\n",
              "\n",
              "    .dataframe tbody tr th {\n",
              "        vertical-align: top;\n",
              "    }\n",
              "\n",
              "    .dataframe thead th {\n",
              "        text-align: right;\n",
              "    }\n",
              "</style>\n",
              "<table border=\"1\" class=\"dataframe\">\n",
              "  <thead>\n",
              "    <tr style=\"text-align: right;\">\n",
              "      <th></th>\n",
              "      <th>label_id</th>\n",
              "      <th>class_label</th>\n",
              "    </tr>\n",
              "  </thead>\n",
              "  <tbody>\n",
              "    <tr>\n",
              "      <th>142</th>\n",
              "      <td>4254</td>\n",
              "      <td>Job Benefits</td>\n",
              "    </tr>\n",
              "    <tr>\n",
              "      <th>16</th>\n",
              "      <td>2800</td>\n",
              "      <td>Credit Card</td>\n",
              "    </tr>\n",
              "    <tr>\n",
              "      <th>102</th>\n",
              "      <td>2129</td>\n",
              "      <td>Job Benefits</td>\n",
              "    </tr>\n",
              "    <tr>\n",
              "      <th>49</th>\n",
              "      <td>2327</td>\n",
              "      <td>Taxes</td>\n",
              "    </tr>\n",
              "    <tr>\n",
              "      <th>208</th>\n",
              "      <td>4379</td>\n",
              "      <td>Family Finance</td>\n",
              "    </tr>\n",
              "  </tbody>\n",
              "</table>\n",
              "</div>"
            ],
            "text/plain": [
              "    label_id     class_label\n",
              "142     4254    Job Benefits\n",
              "16      2800     Credit Card\n",
              "102     2129    Job Benefits\n",
              "49      2327           Taxes\n",
              "208     4379  Family Finance"
            ]
          },
          "metadata": {
            "tags": []
          },
          "execution_count": 416
        }
      ]
    },
    {
      "cell_type": "markdown",
      "metadata": {
        "id": "QYb76XMQ41K5"
      },
      "source": [
        "### Merging class labels and Conversation Scripts together"
      ]
    },
    {
      "cell_type": "code",
      "metadata": {
        "colab": {
          "base_uri": "https://localhost:8080/",
          "height": 419
        },
        "id": "8xCJh7JDqqNf",
        "outputId": "2282f717-5cdb-4acc-ff57-4369ca588815"
      },
      "source": [
        "#concatinatng Labels dataframe with the script\r\n",
        "data_uncontracted = data_uncontracted.merge(data_label)\r\n",
        "data_uncontracted"
      ],
      "execution_count": null,
      "outputs": [
        {
          "output_type": "execute_result",
          "data": {
            "text/html": [
              "<div>\n",
              "<style scoped>\n",
              "    .dataframe tbody tr th:only-of-type {\n",
              "        vertical-align: middle;\n",
              "    }\n",
              "\n",
              "    .dataframe tbody tr th {\n",
              "        vertical-align: top;\n",
              "    }\n",
              "\n",
              "    .dataframe thead th {\n",
              "        text-align: right;\n",
              "    }\n",
              "</style>\n",
              "<table border=\"1\" class=\"dataframe\">\n",
              "  <thead>\n",
              "    <tr style=\"text-align: right;\">\n",
              "      <th></th>\n",
              "      <th>label_id</th>\n",
              "      <th>conv_script</th>\n",
              "      <th>class_label</th>\n",
              "    </tr>\n",
              "  </thead>\n",
              "  <tbody>\n",
              "    <tr>\n",
              "      <th>0</th>\n",
              "      <td>4160</td>\n",
              "      <td>so do you keep a family budget well not a real...</td>\n",
              "      <td>Family Finance</td>\n",
              "    </tr>\n",
              "    <tr>\n",
              "      <th>1</th>\n",
              "      <td>3196</td>\n",
              "      <td>hello hello hi boy it took forever to find som...</td>\n",
              "      <td>Credit Card</td>\n",
              "    </tr>\n",
              "    <tr>\n",
              "      <th>2</th>\n",
              "      <td>2424</td>\n",
              "      <td>there we go okay well what do you think about ...</td>\n",
              "      <td>Taxes</td>\n",
              "    </tr>\n",
              "    <tr>\n",
              "      <th>3</th>\n",
              "      <td>3270</td>\n",
              "      <td>well i do not know if there is gonna be a solu...</td>\n",
              "      <td>Budget</td>\n",
              "    </tr>\n",
              "    <tr>\n",
              "      <th>4</th>\n",
              "      <td>3077</td>\n",
              "      <td>americans like me and whether or not not i thi...</td>\n",
              "      <td>Taxes</td>\n",
              "    </tr>\n",
              "    <tr>\n",
              "      <th>...</th>\n",
              "      <td>...</td>\n",
              "      <td>...</td>\n",
              "      <td>...</td>\n",
              "    </tr>\n",
              "    <tr>\n",
              "      <th>235</th>\n",
              "      <td>3673</td>\n",
              "      <td>you keep a budget yes i do okay how do you wor...</td>\n",
              "      <td>Family Finance</td>\n",
              "    </tr>\n",
              "    <tr>\n",
              "      <th>236</th>\n",
              "      <td>4031</td>\n",
              "      <td>is all you need h i think just one is all you ...</td>\n",
              "      <td>Family Finance</td>\n",
              "    </tr>\n",
              "    <tr>\n",
              "      <th>237</th>\n",
              "      <td>4209</td>\n",
              "      <td>jeff what do you think are you paying to much ...</td>\n",
              "      <td>Taxes</td>\n",
              "    </tr>\n",
              "    <tr>\n",
              "      <th>238</th>\n",
              "      <td>4222</td>\n",
              "      <td>cathy i am in boston hi i am ralph cincinnati ...</td>\n",
              "      <td>Taxes</td>\n",
              "    </tr>\n",
              "    <tr>\n",
              "      <th>239</th>\n",
              "      <td>2642</td>\n",
              "      <td>okay how do you feel about them_1 well i keep ...</td>\n",
              "      <td>Credit Card</td>\n",
              "    </tr>\n",
              "  </tbody>\n",
              "</table>\n",
              "<p>240 rows × 3 columns</p>\n",
              "</div>"
            ],
            "text/plain": [
              "    label_id                                        conv_script     class_label\n",
              "0       4160  so do you keep a family budget well not a real...  Family Finance\n",
              "1       3196  hello hello hi boy it took forever to find som...     Credit Card\n",
              "2       2424  there we go okay well what do you think about ...           Taxes\n",
              "3       3270  well i do not know if there is gonna be a solu...          Budget\n",
              "4       3077  americans like me and whether or not not i thi...           Taxes\n",
              "..       ...                                                ...             ...\n",
              "235     3673  you keep a budget yes i do okay how do you wor...  Family Finance\n",
              "236     4031  is all you need h i think just one is all you ...  Family Finance\n",
              "237     4209  jeff what do you think are you paying to much ...           Taxes\n",
              "238     4222  cathy i am in boston hi i am ralph cincinnati ...           Taxes\n",
              "239     2642  okay how do you feel about them_1 well i keep ...     Credit Card\n",
              "\n",
              "[240 rows x 3 columns]"
            ]
          },
          "metadata": {
            "tags": []
          },
          "execution_count": 421
        }
      ]
    },
    {
      "cell_type": "code",
      "metadata": {
        "colab": {
          "base_uri": "https://localhost:8080/",
          "height": 419
        },
        "id": "op1Zvgv6sCwA",
        "outputId": "463d6ebf-884d-4c9c-81ed-45fb6640902e"
      },
      "source": [
        "#concatinatng Labels dataframe with the script\r\n",
        "data_contracted = data_contracted.merge(data_label)\r\n",
        "data_contracted"
      ],
      "execution_count": null,
      "outputs": [
        {
          "output_type": "execute_result",
          "data": {
            "text/html": [
              "<div>\n",
              "<style scoped>\n",
              "    .dataframe tbody tr th:only-of-type {\n",
              "        vertical-align: middle;\n",
              "    }\n",
              "\n",
              "    .dataframe tbody tr th {\n",
              "        vertical-align: top;\n",
              "    }\n",
              "\n",
              "    .dataframe thead th {\n",
              "        text-align: right;\n",
              "    }\n",
              "</style>\n",
              "<table border=\"1\" class=\"dataframe\">\n",
              "  <thead>\n",
              "    <tr style=\"text-align: right;\">\n",
              "      <th></th>\n",
              "      <th>label_id</th>\n",
              "      <th>conv_script</th>\n",
              "      <th>class_label</th>\n",
              "    </tr>\n",
              "  </thead>\n",
              "  <tbody>\n",
              "    <tr>\n",
              "      <th>0</th>\n",
              "      <td>4160</td>\n",
              "      <td>so do you keep a family budget well not a real...</td>\n",
              "      <td>Family Finance</td>\n",
              "    </tr>\n",
              "    <tr>\n",
              "      <th>1</th>\n",
              "      <td>3196</td>\n",
              "      <td>hello hello hi boy it took forever to find som...</td>\n",
              "      <td>Credit Card</td>\n",
              "    </tr>\n",
              "    <tr>\n",
              "      <th>2</th>\n",
              "      <td>2424</td>\n",
              "      <td>there we go okay well what do you think about ...</td>\n",
              "      <td>Taxes</td>\n",
              "    </tr>\n",
              "    <tr>\n",
              "      <th>3</th>\n",
              "      <td>3270</td>\n",
              "      <td>well i don't know if there's gonna be a soluti...</td>\n",
              "      <td>Budget</td>\n",
              "    </tr>\n",
              "    <tr>\n",
              "      <th>4</th>\n",
              "      <td>3077</td>\n",
              "      <td>americans like me and whether or not not i thi...</td>\n",
              "      <td>Taxes</td>\n",
              "    </tr>\n",
              "    <tr>\n",
              "      <th>...</th>\n",
              "      <td>...</td>\n",
              "      <td>...</td>\n",
              "      <td>...</td>\n",
              "    </tr>\n",
              "    <tr>\n",
              "      <th>235</th>\n",
              "      <td>3673</td>\n",
              "      <td>you keep a budget yes i do okay how do you wor...</td>\n",
              "      <td>Family Finance</td>\n",
              "    </tr>\n",
              "    <tr>\n",
              "      <th>236</th>\n",
              "      <td>4031</td>\n",
              "      <td>is all you need h i think just one is all you ...</td>\n",
              "      <td>Family Finance</td>\n",
              "    </tr>\n",
              "    <tr>\n",
              "      <th>237</th>\n",
              "      <td>4209</td>\n",
              "      <td>jeff what do you think are you paying to much ...</td>\n",
              "      <td>Taxes</td>\n",
              "    </tr>\n",
              "    <tr>\n",
              "      <th>238</th>\n",
              "      <td>4222</td>\n",
              "      <td>cathy i'm in boston hi i'm ralph cincinnati hi...</td>\n",
              "      <td>Taxes</td>\n",
              "    </tr>\n",
              "    <tr>\n",
              "      <th>239</th>\n",
              "      <td>2642</td>\n",
              "      <td>okay how do you feel about them_1 well i keep ...</td>\n",
              "      <td>Credit Card</td>\n",
              "    </tr>\n",
              "  </tbody>\n",
              "</table>\n",
              "<p>240 rows × 3 columns</p>\n",
              "</div>"
            ],
            "text/plain": [
              "    label_id                                        conv_script     class_label\n",
              "0       4160  so do you keep a family budget well not a real...  Family Finance\n",
              "1       3196  hello hello hi boy it took forever to find som...     Credit Card\n",
              "2       2424  there we go okay well what do you think about ...           Taxes\n",
              "3       3270  well i don't know if there's gonna be a soluti...          Budget\n",
              "4       3077  americans like me and whether or not not i thi...           Taxes\n",
              "..       ...                                                ...             ...\n",
              "235     3673  you keep a budget yes i do okay how do you wor...  Family Finance\n",
              "236     4031  is all you need h i think just one is all you ...  Family Finance\n",
              "237     4209  jeff what do you think are you paying to much ...           Taxes\n",
              "238     4222  cathy i'm in boston hi i'm ralph cincinnati hi...           Taxes\n",
              "239     2642  okay how do you feel about them_1 well i keep ...     Credit Card\n",
              "\n",
              "[240 rows x 3 columns]"
            ]
          },
          "metadata": {
            "tags": []
          },
          "execution_count": 422
        }
      ]
    },
    {
      "cell_type": "markdown",
      "metadata": {
        "id": "khBRaPo747ex"
      },
      "source": [
        "Dumping files to the local disk to reload in future"
      ]
    },
    {
      "cell_type": "code",
      "metadata": {
        "id": "9Tu7LYU3yhpz"
      },
      "source": [
        "import pickle"
      ],
      "execution_count": null,
      "outputs": []
    },
    {
      "cell_type": "code",
      "metadata": {
        "id": "X7qIcrENxSw6"
      },
      "source": [
        "# Save all the on the disk to avoid re computation \r\n",
        "#pickle.dump((data_contracted, data_uncontracted),open('clean_data_with_label.pkl','wb'))\r\n",
        "\r\n",
        "# Loading \r\n",
        "data_contracted, data_uncontracted= pickle.load(open('clean_data_with_label.pkl', 'rb'))"
      ],
      "execution_count": null,
      "outputs": []
    },
    {
      "cell_type": "markdown",
      "metadata": {
        "id": "IK9oAUrs5DET"
      },
      "source": [
        "### Basic Analysis on Data\r\n",
        "We'll have a look at class distribution "
      ]
    },
    {
      "cell_type": "code",
      "metadata": {
        "colab": {
          "base_uri": "https://localhost:8080/"
        },
        "id": "lo4_cUtpyg7V",
        "outputId": "ec4baae9-396d-467d-ee93-0b49c9cfee39"
      },
      "source": [
        "# we'll do basic data Analysis\r\n",
        "\r\n",
        "# Looking at class distribution\r\n",
        "data_uncontracted.class_label.value_counts()\r\n"
      ],
      "execution_count": null,
      "outputs": [
        {
          "output_type": "execute_result",
          "data": {
            "text/plain": [
              "Family Finance    63\n",
              "Taxes             54\n",
              "Job Benefits      54\n",
              "Credit Card       41\n",
              "Budget            22\n",
              "Bank Bailout       6\n",
              "Name: class_label, dtype: int64"
            ]
          },
          "metadata": {
            "tags": []
          },
          "execution_count": 112
        }
      ]
    },
    {
      "cell_type": "markdown",
      "metadata": {
        "id": "DxyLTxrb5K87"
      },
      "source": [
        "we can see Bank Bailout is minor class here with just 6 examples. We'll have to look at this label while building model. <br>\r\n",
        "\r\n",
        "#### Let's visualize the class distribution"
      ]
    },
    {
      "cell_type": "code",
      "metadata": {
        "colab": {
          "base_uri": "https://localhost:8080/",
          "height": 333
        },
        "id": "1dqCgm7Y58nH",
        "outputId": "b0bbde92-59d6-49cf-9f16-3ad8d2a329ee"
      },
      "source": [
        "class_plot = data_uncontracted.class_label.value_counts()\r\n",
        "sns.set_style('darkgrid')\r\n",
        "sns.barplot(class_plot.index, class_plot.values)\r\n",
        "plt.xlabel(\"Class\")\r\n",
        "plt.ylabel(\"Project_count\")\r\n",
        "plt.show()"
      ],
      "execution_count": null,
      "outputs": [
        {
          "output_type": "stream",
          "text": [
            "/usr/local/lib/python3.7/dist-packages/seaborn/_decorators.py:43: FutureWarning: Pass the following variables as keyword args: x, y. From version 0.12, the only valid positional argument will be `data`, and passing other arguments without an explicit keyword will result in an error or misinterpretation.\n",
            "  FutureWarning\n"
          ],
          "name": "stderr"
        },
        {
          "output_type": "display_data",
          "data": {
            "image/png": "[encoded data removed]",
            "text/plain": [
              "<Figure size 432x288 with 1 Axes>"
            ]
          },
          "metadata": {
            "tags": []
          }
        }
      ]
    },
    {
      "cell_type": "markdown",
      "metadata": {
        "id": "w2U_uqO75bgT"
      },
      "source": [
        "#### Doing analysis on conversation Script"
      ]
    },
    {
      "cell_type": "code",
      "metadata": {
        "colab": {
          "base_uri": "https://localhost:8080/"
        },
        "id": "gJqDzr5C4ik_",
        "outputId": "65310db1-7377-4f38-bfb7-6e803eab1fd4"
      },
      "source": [
        "# like getting average size of conv script\r\n",
        "\r\n",
        "uncontracted_lengths = data_uncontracted['conv_script'].str.split().apply(len)\r\n",
        "contracted_lengths = data_contracted['conv_script'].str.split().apply(len)\r\n",
        "\r\n",
        "\r\n",
        "\r\n",
        "print('*******Conv Script with contracted words ***********')\r\n",
        "\r\n",
        "for i in range(0, 101,10):\r\n",
        "  print(i, 'percentile', np.percentile(contracted_lengths, i))\r\n",
        "print('\\n')\r\n",
        "for i in range(90, 102,2):\r\n",
        "  print(i, 'percentile', np.percentile(contracted_lengths, i))\r\n",
        "print('\\n')\r\n",
        "for i in [99.1,99.2,99.3,99.4,99.5,99.6,99.7,99.8,99.9,100]:\r\n",
        "  print(i, 'percentile', np.percentile(contracted_lengths, i))\r\n",
        "\r\n",
        "print('\\n')\r\n",
        "\r\n",
        "\r\n",
        "print('*******Conv Script with uncontracted words***********')\r\n",
        "\r\n",
        "for i in range(0, 101,10):\r\n",
        "  print(i, 'percentile', np.percentile(uncontracted_lengths, i))\r\n",
        "print('\\n')\r\n",
        "for i in range(90, 102,2):\r\n",
        "  print(i, 'percentile', np.percentile(uncontracted_lengths, i))\r\n",
        "print('\\n')\r\n",
        "for i in [99.1,99.2,99.3,99.4,99.5,99.6,99.7,99.8,99.9,100]:\r\n",
        "  print(i, 'percentile', np.percentile(uncontracted_lengths, i))"
      ],
      "execution_count": null,
      "outputs": [
        {
          "output_type": "stream",
          "text": [
            "*******Conv Script with contracted words ***********\n",
            "0 percentile 557.0\n",
            "10 percentile 796.0\n",
            "20 percentile 844.8000000000001\n",
            "30 percentile 893.7\n",
            "40 percentile 927.6\n",
            "50 percentile 996.0\n",
            "60 percentile 1063.6\n",
            "70 percentile 1351.3999999999996\n",
            "80 percentile 1621.0000000000007\n",
            "90 percentile 1898.1\n",
            "100 percentile 2249.0\n",
            "\n",
            "\n",
            "90 percentile 1898.1\n",
            "92 percentile 1923.52\n",
            "94 percentile 2000.86\n",
            "96 percentile 2074.2\n",
            "98 percentile 2113.7200000000003\n",
            "100 percentile 2249.0\n",
            "\n",
            "\n",
            "99.1 percentile 2207.617999999999\n",
            "99.2 percentile 2222.3759999999997\n",
            "99.3 percentile 2228.8289999999997\n",
            "99.4 percentile 2235.282000000001\n",
            "99.5 percentile 2241.735\n",
            "99.6 percentile 2247.088\n",
            "99.7 percentile 2247.566\n",
            "99.8 percentile 2248.044\n",
            "99.9 percentile 2248.522\n",
            "100 percentile 2249.0\n",
            "\n",
            "\n",
            "*******Conv Script with uncontracted words***********\n",
            "0 percentile 594.0\n",
            "10 percentile 840.3\n",
            "20 percentile 887.0\n",
            "30 percentile 935.7\n",
            "40 percentile 976.6\n",
            "50 percentile 1042.5\n",
            "60 percentile 1115.0\n",
            "70 percentile 1422.3\n",
            "80 percentile 1697.400000000001\n",
            "90 percentile 1988.3999999999999\n",
            "100 percentile 2398.0\n",
            "\n",
            "\n",
            "90 percentile 1988.3999999999999\n",
            "92 percentile 2036.9599999999998\n",
            "94 percentile 2111.6400000000003\n",
            "96 percentile 2188.64\n",
            "98 percentile 2227.44\n",
            "100 percentile 2398.0\n",
            "\n",
            "\n",
            "99.1 percentile 2292.0339999999997\n",
            "99.2 percentile 2306.5759999999996\n",
            "99.3 percentile 2319.004\n",
            "99.4 percentile 2331.4320000000016\n",
            "99.5 percentile 2343.8600000000006\n",
            "99.6 percentile 2355.936\n",
            "99.7 percentile 2366.4519999999993\n",
            "99.8 percentile 2376.968\n",
            "99.9 percentile 2387.4840000000013\n",
            "100 percentile 2398.0\n"
          ],
          "name": "stdout"
        }
      ]
    },
    {
      "cell_type": "markdown",
      "metadata": {
        "id": "s7_PLUAt5j1z"
      },
      "source": [
        "As we can see above each converation script is fairy large."
      ]
    },
    {
      "cell_type": "markdown",
      "metadata": {
        "id": "YOe6tY3o51K2"
      },
      "source": [
        "### Prepare data for Models"
      ]
    },
    {
      "cell_type": "code",
      "metadata": {
        "id": "OhWGphp3B7Zg"
      },
      "source": [
        "from sklearn.model_selection import train_test_split\r\n",
        "from sklearn.feature_extraction.text import CountVectorizer\r\n",
        "from sklearn.naive_bayes import MultinomialNB\r\n",
        "from sklearn import  preprocessing\r\n",
        "from sklearn import metrics\r\n",
        "from sklearn.multiclass import OneVsRestClassifier\r\n",
        "import math"
      ],
      "execution_count": null,
      "outputs": []
    },
    {
      "cell_type": "markdown",
      "metadata": {
        "id": "xMoZk9YZ54xS"
      },
      "source": [
        "#### Train, Test dataset"
      ]
    },
    {
      "cell_type": "code",
      "metadata": {
        "colab": {
          "base_uri": "https://localhost:8080/"
        },
        "id": "87246g69Byej",
        "outputId": "02794553-187b-4657-8bf8-00c9c85cdd1d"
      },
      "source": [
        "#we'll have to split into train and test data\r\n",
        "X_train, X_test, y_train, y_test = train_test_split(data_uncontracted['conv_script'], data_uncontracted['class_label'], test_size=0.30, stratify=data_uncontracted['class_label'])\r\n",
        "print(X_train.shape, X_test.shape)"
      ],
      "execution_count": null,
      "outputs": [
        {
          "output_type": "stream",
          "text": [
            "(168,) (72,)\n"
          ],
          "name": "stdout"
        }
      ]
    },
    {
      "cell_type": "code",
      "metadata": {
        "colab": {
          "base_uri": "https://localhost:8080/"
        },
        "id": "x6cbBesyCXh1",
        "outputId": "0f64d4b8-a93e-4110-9415-e5f235880c95"
      },
      "source": [
        "y_train.value_counts()"
      ],
      "execution_count": null,
      "outputs": [
        {
          "output_type": "execute_result",
          "data": {
            "text/plain": [
              "Family Finance    44\n",
              "Taxes             38\n",
              "Job Benefits      38\n",
              "Credit Card       29\n",
              "Budget            15\n",
              "Bank Bailout       4\n",
              "Name: class_label, dtype: int64"
            ]
          },
          "metadata": {
            "tags": []
          },
          "execution_count": 117
        }
      ]
    },
    {
      "cell_type": "code",
      "metadata": {
        "colab": {
          "base_uri": "https://localhost:8080/"
        },
        "id": "VoP1y_9IDfRN",
        "outputId": "71c4b332-b705-4a62-97b2-59547046785e"
      },
      "source": [
        "y_test.value_counts()"
      ],
      "execution_count": null,
      "outputs": [
        {
          "output_type": "execute_result",
          "data": {
            "text/plain": [
              "Family Finance    19\n",
              "Taxes             16\n",
              "Job Benefits      16\n",
              "Credit Card       12\n",
              "Budget             7\n",
              "Bank Bailout       2\n",
              "Name: class_label, dtype: int64"
            ]
          },
          "metadata": {
            "tags": []
          },
          "execution_count": 118
        }
      ]
    },
    {
      "cell_type": "markdown",
      "metadata": {
        "id": "XV53ZY_U59rX"
      },
      "source": [
        "#### Converting text to vector representation"
      ]
    },
    {
      "cell_type": "code",
      "metadata": {
        "id": "DexOteT8Farf"
      },
      "source": [
        "import nltk\r\n",
        "from nltk.corpus import stopwords\r\n",
        "# nltk.download('stopwords')\r\n",
        "print(stopwords.words('english'))"
      ],
      "execution_count": null,
      "outputs": []
    },
    {
      "cell_type": "code",
      "metadata": {
        "id": "SpXEbmPIEuty"
      },
      "source": [
        "stopwords_list = ['i', 'me', 'my', 'myself', 'we', 'our', 'ours', 'ourselves', 'you', \"you're\", \"you've\", \"you'll\", \"you'd\", 'your', 'yours', 'yourself', \r\n",
        "                  'yourselves', 'he', 'him', 'his', 'himself', 'she', \"she's\", 'her', 'hers', 'herself', 'it', \"it's\", 'its', 'itself', 'they', 'them', \r\n",
        "                  'their', 'theirs', 'themselves', 'what', 'which', 'who', 'whom', 'this', 'that', \"that'll\", 'these', 'those', 'am', 'is', 'are', 'was',\r\n",
        "                  'were', 'be', 'been', 'being', 'have', 'has', 'had', 'having', 'do', 'does', 'did', 'doing', 'a', 'an', 'the', 'and', 'but', 'if', 'or', \r\n",
        "                  'because', 'as', 'until', 'while', 'of', 'at', 'by', 'for', 'with', 'about', 'against', 'between', 'into', 'through', 'during', 'before', \r\n",
        "                  'after', 'above', 'below', 'to', 'from', 'up', 'down', 'in', 'out', 'on', 'off', 'over', 'under', 'again', 'further', 'then', 'once', 'here', \r\n",
        "                  'there', 'when', 'where', 'why', 'how', 'all', 'any', 'both', 'each', 'few', 'more', 'most', 'other', 'some', 'such', 'nor', 'only', \r\n",
        "                  'own', 'same', 'so', 'than', 'too', 'very', 's', 't', 'can', 'will', 'just', 'don', \"don't\", 'should', \"should've\", 'now', 'd', 'll', 'm', 'o', 're', \r\n",
        "                  've', 'y', 'ain', 'aren', \"aren't\", 'couldn', \"couldn't\", 'didn', \"didn't\", 'doesn', \"doesn't\", 'hadn', \"hadn't\", 'hasn', \"hasn't\", 'haven', \"haven't\", \r\n",
        "                  'isn', \"isn't\", 'ma', 'mightn', \"mightn't\", 'mustn', \"mustn't\", 'needn', \"needn't\", 'shan', \"shan't\", 'shouldn', \"shouldn't\", 'wasn', \"wasn't\", 'weren', \r\n",
        "                  \"weren't\", 'won', \"won't\", 'wouldn', \"wouldn't\"]"
      ],
      "execution_count": null,
      "outputs": []
    },
    {
      "cell_type": "markdown",
      "metadata": {
        "id": "HHOWSu5e6FZ-"
      },
      "source": [
        "Initializing  count vectorizer"
      ]
    },
    {
      "cell_type": "code",
      "metadata": {
        "colab": {
          "base_uri": "https://localhost:8080/"
        },
        "id": "i0j6QTpu9H_x",
        "outputId": "ceb4894d-3ede-4823-b802-99eecd9ec153"
      },
      "source": [
        "# BoW vector representaion for the Conv Script\r\n",
        "del uncontracted_vectorizer\r\n",
        "uncontracted_vectorizer = CountVectorizer(stop_words=stopwords_list, max_features= 60000)\r\n",
        "uncontracted_vectorizer.fit(X_train.values)"
      ],
      "execution_count": null,
      "outputs": [
        {
          "output_type": "execute_result",
          "data": {
            "text/plain": [
              "CountVectorizer(analyzer='word', binary=False, decode_error='strict',\n",
              "                dtype=<class 'numpy.int64'>, encoding='utf-8', input='content',\n",
              "                lowercase=True, max_df=1.0, max_features=60000, min_df=1,\n",
              "                ngram_range=(1, 1), preprocessor=None,\n",
              "                stop_words=['i', 'me', 'my', 'myself', 'we', 'our', 'ours',\n",
              "                            'ourselves', 'you', \"you're\", \"you've\", \"you'll\",\n",
              "                            \"you'd\", 'your', 'yours', 'yourself', 'yourselves',\n",
              "                            'he', 'him', 'his', 'himself', 'she', \"she's\",\n",
              "                            'her', 'hers', 'herself', 'it', \"it's\", 'its',\n",
              "                            'itself', ...],\n",
              "                strip_accents=None, token_pattern='(?u)\\\\b\\\\w\\\\w+\\\\b',\n",
              "                tokenizer=None, vocabulary=None)"
            ]
          },
          "metadata": {
            "tags": []
          },
          "execution_count": 215
        }
      ]
    },
    {
      "cell_type": "markdown",
      "metadata": {
        "id": "CYD7_aU26RAL"
      },
      "source": [
        "Converting text to Numeric vector with vectorizer"
      ]
    },
    {
      "cell_type": "code",
      "metadata": {
        "id": "RbIhgTNTG87p"
      },
      "source": [
        "X_train_bow = uncontracted_vectorizer.transform(X_train.values)\r\n",
        "X_test_bow = uncontracted_vectorizer.transform(X_test.values)"
      ],
      "execution_count": null,
      "outputs": []
    },
    {
      "cell_type": "markdown",
      "metadata": {
        "id": "H6jpnnrK85D2"
      },
      "source": [
        "#### Converting class labels to numerical representation"
      ]
    },
    {
      "cell_type": "code",
      "metadata": {
        "colab": {
          "base_uri": "https://localhost:8080/"
        },
        "id": "YK7rGLkfIWzb",
        "outputId": "0779fa8f-c214-44a4-c0d2-467503fde3be"
      },
      "source": [
        "# Also convert classes into categories\r\n",
        "label_encoder = preprocessing.LabelEncoder()\r\n",
        "label_encoder.fit(y_train)"
      ],
      "execution_count": null,
      "outputs": [
        {
          "output_type": "execute_result",
          "data": {
            "text/plain": [
              "LabelEncoder()"
            ]
          },
          "metadata": {
            "tags": []
          },
          "execution_count": 218
        }
      ]
    },
    {
      "cell_type": "code",
      "metadata": {
        "colab": {
          "base_uri": "https://localhost:8080/"
        },
        "id": "i_JKvGgWJmJ1",
        "outputId": "d5a42ae0-c5e2-4f7c-a664-19aa4ef57e43"
      },
      "source": [
        "label_encoder.classes_"
      ],
      "execution_count": null,
      "outputs": [
        {
          "output_type": "execute_result",
          "data": {
            "text/plain": [
              "array(['Bank Bailout', 'Budget', 'Credit Card', 'Family Finance',\n",
              "       'Job Benefits', 'Taxes'], dtype=object)"
            ]
          },
          "metadata": {
            "tags": []
          },
          "execution_count": 219
        }
      ]
    },
    {
      "cell_type": "code",
      "metadata": {
        "id": "51bEcZMYJQ49"
      },
      "source": [
        "train_y = label_encoder.transform(y_train.values)\r\n",
        "test_y = label_encoder.transform(y_test.values)"
      ],
      "execution_count": null,
      "outputs": []
    },
    {
      "cell_type": "code",
      "metadata": {
        "colab": {
          "base_uri": "https://localhost:8080/"
        },
        "id": "8wlUe2gfJeXU",
        "outputId": "5088d799-80c9-47fd-e340-5a5b53684a23"
      },
      "source": [
        "train_y.shape"
      ],
      "execution_count": null,
      "outputs": [
        {
          "output_type": "execute_result",
          "data": {
            "text/plain": [
              "(168,)"
            ]
          },
          "metadata": {
            "tags": []
          },
          "execution_count": 221
        }
      ]
    },
    {
      "cell_type": "markdown",
      "metadata": {
        "id": "QiwILqxv9Mc3"
      },
      "source": [
        "### Model\r\n",
        "#### Hyperparameter tunning the Niave Bayse"
      ]
    },
    {
      "cell_type": "code",
      "metadata": {
        "colab": {
          "base_uri": "https://localhost:8080/"
        },
        "id": "KTWALSdcdZdn",
        "outputId": "0e8d48bc-e428-4748-8e07-81609b983be7"
      },
      "source": [
        "#this model with 6193 vocab size\r\n",
        "\r\n",
        "#CV\r\n",
        "alpha_cv = []     #stores log(alpha) for plotting\r\n",
        "auc_cv = []    #stores auc value Test\r\n",
        "\r\n",
        "alpha_ = []  #stores alpha vaslue\r\n",
        "\r\n",
        "alpha_tr = []     #stores log(alpha) for plotting \r\n",
        "auc_tr = []       #stores AUC Score on Train\r\n",
        "\r\n",
        "i = 0.00001 #alpha value starting range\r\n",
        "\r\n",
        "while i<=1000:   \r\n",
        "    NB = MultinomialNB(alpha = i)\r\n",
        "    ovr_NB = OneVsRestClassifier(NB)    \r\n",
        "    ovr_NB.fit(X_train_bow, train_y)\r\n",
        "    \r\n",
        "    #Train Data\r\n",
        "    predicted = ovr_NB.predict_proba(X_train_bow)   #returns probablity score\r\n",
        "    # print(predicted.shape)\r\n",
        "    auc = metrics.roc_auc_score(train_y, predicted[:, :], multi_class='ovr')\r\n",
        "    auc_tr.append(auc)\r\n",
        "    alpha_tr.append(math.log(i))\r\n",
        "    \r\n",
        "    # #Cv Data\r\n",
        "    predicted_ = ovr_NB.predict_proba(X_test_bow)   #returns probablity score\r\n",
        "    # print(predicted_.shape)\r\n",
        "    auc_ = metrics.roc_auc_score(test_y, predicted_[:, :], multi_class='ovr')\r\n",
        "    auc_cv.append(auc_)\r\n",
        "    alpha_cv.append(math.log(i))\r\n",
        "    \r\n",
        "    \r\n",
        "    alpha_.append(i)\r\n",
        "    \r\n",
        "    i *= 10\r\n",
        "    \r\n",
        "    \r\n",
        "#printing the alpha and corresponding AUC value\r\n",
        "print(\"AUC Score on CV:\")\r\n",
        "for x in range(0, len(alpha_)):\r\n",
        "    print(\"Alpha: {}, AUC: {}\".format(alpha_[x], auc_cv[x]))\r\n",
        "\r\n",
        "print(\"\\nAUC Score on Train:\")\r\n",
        "for x in range(0, len(alpha_)):\r\n",
        "    print(\"Alpha: {}, AUC: {}\".format(alpha_[x], auc_tr[x]))"
      ],
      "execution_count": null,
      "outputs": [
        {
          "output_type": "stream",
          "text": [
            "AUC Score on CV:\n",
            "Alpha: 1e-05, AUC: 0.8809021718367237\n",
            "Alpha: 0.0001, AUC: 0.8896736365486365\n",
            "Alpha: 0.001, AUC: 0.9219813606532358\n",
            "Alpha: 0.01, AUC: 0.9725773936711436\n",
            "Alpha: 0.1, AUC: 0.9875713840557592\n",
            "Alpha: 1.0, AUC: 0.9742715328652829\n",
            "Alpha: 10.0, AUC: 0.953750445156695\n",
            "Alpha: 100.0, AUC: 0.9452984989409704\n",
            "Alpha: 1000.0, AUC: 0.9449242389279319\n",
            "\n",
            "AUC Score on Train:\n",
            "Alpha: 1e-05, AUC: 1.0\n",
            "Alpha: 0.0001, AUC: 1.0\n",
            "Alpha: 0.001, AUC: 1.0\n",
            "Alpha: 0.01, AUC: 1.0\n",
            "Alpha: 0.1, AUC: 1.0\n",
            "Alpha: 1.0, AUC: 1.0\n",
            "Alpha: 10.0, AUC: 0.9977001984378067\n",
            "Alpha: 100.0, AUC: 0.9887389878235773\n",
            "Alpha: 1000.0, AUC: 0.9821700417274698\n"
          ],
          "name": "stdout"
        }
      ]
    },
    {
      "cell_type": "code",
      "metadata": {
        "colab": {
          "base_uri": "https://localhost:8080/"
        },
        "id": "T9XxaJBNdZds",
        "outputId": "9860a45f-ae5e-429f-9466-0dd0e3d85eac"
      },
      "source": [
        "predicted_[0:1, :].shape"
      ],
      "execution_count": null,
      "outputs": [
        {
          "output_type": "execute_result",
          "data": {
            "text/plain": [
              "(1, 6)"
            ]
          },
          "metadata": {
            "tags": []
          },
          "execution_count": 170
        }
      ]
    },
    {
      "cell_type": "markdown",
      "metadata": {
        "id": "Eb16skSY-hgo"
      },
      "source": [
        "#### Plotting AUC vs Alpha value"
      ]
    },
    {
      "cell_type": "code",
      "metadata": {
        "colab": {
          "base_uri": "https://localhost:8080/",
          "height": 295
        },
        "id": "scykYyuDdZdu",
        "outputId": "0ce93ee3-166f-4e06-f9e6-426452100f4a"
      },
      "source": [
        "plt.plot(alpha_tr, auc_tr, label=\"Train-AUC\")\r\n",
        "plt.plot(alpha_cv, auc_cv, label=\"Velidation-AUC\")\r\n",
        "plt.xlabel(\"Hyperparameter(alpha)\")\r\n",
        "plt.ylabel(\"Area Under Curve\"); plt.title(\"Performance of model for diff alpha\")\r\n",
        "plt.legend()\r\n",
        "plt.grid()\r\n",
        "plt.show()"
      ],
      "execution_count": null,
      "outputs": [
        {
          "output_type": "display_data",
          "data": {
            "image/png": "[encoded data removed]",
            "text/plain": [
              "<Figure size 432x288 with 1 Axes>"
            ]
          },
          "metadata": {
            "tags": []
          }
        }
      ]
    },
    {
      "cell_type": "markdown",
      "metadata": {
        "id": "1D3xc0uR9aeg"
      },
      "source": [
        "The optimal value for alpha = 0.1 for that we have max AUC score"
      ]
    },
    {
      "cell_type": "code",
      "metadata": {
        "colab": {
          "base_uri": "https://localhost:8080/"
        },
        "id": "8xlZ-boHdZdw",
        "outputId": "b9af43ec-91c7-454b-a833-6afd1d15bda9"
      },
      "source": [
        "# train final model with optimal alpha = 0.1\r\n",
        "NB = MultinomialNB(alpha = 0.1)\r\n",
        "ovr_NB = OneVsRestClassifier(NB)    \r\n",
        "ovr_NB.fit(X_train_bow, train_y)\r\n",
        "\r\n",
        "#Train Data\r\n",
        "predicted = ovr_NB.predict_proba(X_train_bow)   #returns probablity score\r\n",
        "# print(predicted.shape)\r\n",
        "auc = metrics.roc_auc_score(train_y, predicted[:, :], multi_class='ovr')\r\n",
        "print('AUC with alpha = 0.1 on train : ', auc)\r\n",
        "\r\n",
        "# #Cv Data\r\n",
        "predicted_ = ovr_NB.predict_proba(X_test_bow)   #returns probablity score\r\n",
        "# print(predicted_.shape)\r\n",
        "auc_ = metrics.roc_auc_score(test_y, predicted_[:, :], multi_class='ovr')\r\n",
        "print('AUC with alpha = 0.1 on test : ', auc_)"
      ],
      "execution_count": null,
      "outputs": [
        {
          "output_type": "stream",
          "text": [
            "AUC with alpha = 0.1 on train :  1.0\n",
            "AUC with alpha = 0.1 on test :  0.9875713840557592\n"
          ],
          "name": "stdout"
        }
      ]
    },
    {
      "cell_type": "code",
      "metadata": {
        "colab": {
          "base_uri": "https://localhost:8080/"
        },
        "id": "giShx2wNdZdz",
        "outputId": "d465eb3e-5129-4166-9d84-31ab918103ab"
      },
      "source": [
        "y_test.value_counts()"
      ],
      "execution_count": null,
      "outputs": [
        {
          "output_type": "execute_result",
          "data": {
            "text/plain": [
              "Family Finance    19\n",
              "Taxes             16\n",
              "Job Benefits      16\n",
              "Credit Card       12\n",
              "Budget             7\n",
              "Bank Bailout       2\n",
              "Name: class_label, dtype: int64"
            ]
          },
          "metadata": {
            "tags": []
          },
          "execution_count": 173
        }
      ]
    },
    {
      "cell_type": "code",
      "metadata": {
        "colab": {
          "base_uri": "https://localhost:8080/",
          "height": 499
        },
        "id": "RiaeHy-udZd0",
        "outputId": "804225d5-0d99-4838-ad0d-3b771c11d978"
      },
      "source": [
        "#confusion maetrics too see what happening\r\n",
        "#https://medium.com/@dtuk81/confusion-matrix-visualization-fc31e3f30fea\r\n",
        "predict = ovr_NB.predict(X_test_bow)\r\n",
        "cm = metrics.confusion_matrix(test_y, predict)\r\n",
        "plt.figure(figsize=(10, 8))\r\n",
        "sns.heatmap(cm, annot=True, xticklabels=target_label, yticklabels=target_label)\r\n",
        "plt.title('confusion Matrix')\r\n",
        "plt.show()"
      ],
      "execution_count": null,
      "outputs": [
        {
          "output_type": "display_data",
          "data": {
            "image/png": "[encoded data removed]",
            "text/plain": [
              "<Figure size 720x576 with 2 Axes>"
            ]
          },
          "metadata": {
            "tags": []
          }
        }
      ]
    },
    {
      "cell_type": "markdown",
      "metadata": {
        "id": "g9flXBXh9jLg"
      },
      "source": [
        "So here we can see, this model is fairly good at minor class compare to others. AUC score is highest here."
      ]
    },
    {
      "cell_type": "code",
      "metadata": {
        "colab": {
          "base_uri": "https://localhost:8080/",
          "height": 499
        },
        "id": "ronNNgAmdZd2",
        "outputId": "964e444c-5b0f-41b4-e0a4-3032e2befa27"
      },
      "source": [
        "cm = metrics.confusion_matrix(test_y, predict)\r\n",
        "plt.figure(figsize=(10, 8))\r\n",
        "sns.heatmap(cm/np.sum(cm), annot=True, fmt='.01%', xticklabels=target_label, yticklabels=target_label)\r\n",
        "plt.title('confusion Matrix')\r\n",
        "plt.show()"
      ],
      "execution_count": null,
      "outputs": [
        {
          "output_type": "display_data",
          "data": {
            "image/png": "[encoded data removed]",
            "text/plain": [
              "<Figure size 720x576 with 2 Axes>"
            ]
          },
          "metadata": {
            "tags": []
          }
        }
      ]
    },
    {
      "cell_type": "code",
      "metadata": {
        "id": "2eb2hKBbdY06"
      },
      "source": [
        "#save this model on disk\r\n",
        "pickle.dump((ovr_NB),open('nb_over_optimal_2.pkl','wb'))\r\n",
        "\r\n",
        "# to reload the model\r\n",
        "#ovr_NB = pickle.load(open(\"nb_over_optimal.pkl\", 'rb'))\r\n",
        "\r\n",
        "#saving vectorizer\r\n",
        "pickle.dump((uncontracted_vectorizer),open('nb_uncontracted_vectorizer_2.pkl','wb'))\r\n",
        "\r\n",
        "#saving label encoder\r\n",
        "pickle.dump((label_encoder),open('nb_uncontracted_label_encoder_2.pkl','wb'))"
      ],
      "execution_count": null,
      "outputs": []
    },
    {
      "cell_type": "code",
      "metadata": {
        "id": "9ulcnLhr8fOh"
      },
      "source": [
        ""
      ],
      "execution_count": null,
      "outputs": []
    },
    {
      "cell_type": "markdown",
      "metadata": {
        "id": "j3xfyrbE012J"
      },
      "source": [
        "## Testing "
      ]
    },
    {
      "cell_type": "code",
      "metadata": {
        "colab": {
          "base_uri": "https://localhost:8080/",
          "height": 35
        },
        "id": "RFv01KfOCI8z",
        "outputId": "cf834db7-1832-4478-e5e4-4878459c48db"
      },
      "source": [
        "os.chdir('/content/drive/MyDrive/projects_assignment/idfy_nlp_assignment')\r\n",
        "os.getcwd()"
      ],
      "execution_count": 3,
      "outputs": [
        {
          "output_type": "execute_result",
          "data": {
            "application/vnd.google.colaboratory.intrinsic+json": {
              "type": "string"
            },
            "text/plain": [
              "'/content/drive/MyDrive/projects_assignment/idfy_nlp_assignment'"
            ]
          },
          "metadata": {
            "tags": []
          },
          "execution_count": 3
        }
      ]
    },
    {
      "cell_type": "markdown",
      "metadata": {
        "id": "h4T0tEW_-ywl"
      },
      "source": [
        "### Loading the model and other files from the disk"
      ]
    },
    {
      "cell_type": "code",
      "metadata": {
        "id": "-FAPj17BAoPx"
      },
      "source": [
        "#oad the model\r\n",
        "#save this model on disk\r\n",
        "# pickle.dump((ovr_NB),open('nb_over_optimal_2.pkl','wb'))\r\n",
        "\r\n",
        "# to reload the model\r\n",
        "ovr_NB = pickle.load(open(\"nb_over_optimal_2.pkl\", 'rb'))\r\n",
        "\r\n",
        "#saving vectorizer\r\n",
        "#pickle.dump((uncontracted_vectorizer),open('nb_uncontracted_vectorizer_2.pkl','wb'))\r\n",
        "uncontracted_vectorizer = pickle.load(open(\"nb_uncontracted_vectorizer_2.pkl\", 'rb'))\r\n",
        "\r\n",
        "#saving label encoder\r\n",
        "#pickle.dump((label_encoder),open('nb_uncontracted_label_encoder_2.pkl','wb'))\r\n",
        "label_encoder = pickle.load(open(\"nb_uncontracted_label_encoder_2.pkl\", 'rb'))"
      ],
      "execution_count": 4,
      "outputs": []
    },
    {
      "cell_type": "markdown",
      "metadata": {
        "id": "hPy4EpN0-7ND"
      },
      "source": [
        "### Data cleaning forca Query Script File"
      ]
    },
    {
      "cell_type": "code",
      "metadata": {
        "id": "gHcW4DQADDso"
      },
      "source": [
        "CONTRACTION_MAP = {\"ain't\": \"is not\", \"aren't\": \"are not\",\"can't\": \"cannot\", \r\n",
        "                   \"can't've\": \"cannot have\", \"'cause\": \"because\", \"could've\": \"could have\", \r\n",
        "                   \"couldn't\": \"could not\", \"couldn't've\": \"could not have\",\"didn't\": \"did not\", \r\n",
        "                   \"doesn't\": \"does not\", \"don't\": \"do not\", \"hadn't\": \"had not\", \r\n",
        "                   \"hadn't've\": \"had not have\", \"hasn't\": \"has not\", \"haven't\": \"have not\", \r\n",
        "                   \"he'd\": \"he would\", \"he'd've\": \"he would have\", \"he'll\": \"he will\", \r\n",
        "                   \"he'll've\": \"he he will have\", \"he's\": \"he is\", \"how'd\": \"how did\", \r\n",
        "                   \"how'd'y\": \"how do you\", \"how'll\": \"how will\", \"how's\": \"how is\", \r\n",
        "                   \"I'd\": \"I would\", \"I'd've\": \"I would have\", \"I'll\": \"I will\", \r\n",
        "                   \"I'll've\": \"I will have\",\"I'm\": \"I am\", \"I've\": \"I have\", \r\n",
        "                   \"i'd\": \"i would\", \"i'd've\": \"i would have\", \"i'll\": \"i will\", \r\n",
        "                   \"i'll've\": \"i will have\",\"i'm\": \"i am\", \"i've\": \"i have\", \r\n",
        "                   \"isn't\": \"is not\", \"it'd\": \"it would\", \"it'd've\": \"it would have\", \r\n",
        "                   \"it'll\": \"it will\", \"it'll've\": \"it will have\",\"it's\": \"it is\", \r\n",
        "                   \"let's\": \"let us\", \"ma'am\": \"madam\", \"mayn't\": \"may not\", \r\n",
        "                   \"might've\": \"might have\",\"mightn't\": \"might not\",\"mightn't've\": \"might not have\", \r\n",
        "                   \"must've\": \"must have\", \"mustn't\": \"must not\", \"mustn't've\": \"must not have\", \r\n",
        "                   \"needn't\": \"need not\", \"needn't've\": \"need not have\",\"o'clock\": \"of the clock\", \r\n",
        "                   \"oughtn't\": \"ought not\", \"oughtn't've\": \"ought not have\", \"shan't\": \"shall not\",\r\n",
        "                   \"sha'n't\": \"shall not\", \"shan't've\": \"shall not have\", \"she'd\": \"she would\", \r\n",
        "                   \"she'd've\": \"she would have\", \"she'll\": \"she will\", \"she'll've\": \"she will have\", \r\n",
        "                   \"she's\": \"she is\", \"should've\": \"should have\", \"shouldn't\": \"should not\", \r\n",
        "                   \"shouldn't've\": \"should not have\", \"so've\": \"so have\",\"so's\": \"so as\", \r\n",
        "                   \"this's\": \"this is\",\r\n",
        "                   \"that'd\": \"that would\", \"that'd've\": \"that would have\",\"that's\": \"that is\", \r\n",
        "                   \"there'd\": \"there would\", \"there'd've\": \"there would have\",\"there's\": \"there is\", \r\n",
        "                   \"they'd\": \"they would\", \"they'd've\": \"they would have\", \"they'll\": \"they will\", \r\n",
        "                   \"they'll've\": \"they will have\", \"they're\": \"they are\", \"they've\": \"they have\", \r\n",
        "                   \"to've\": \"to have\", \"wasn't\": \"was not\", \"we'd\": \"we would\", \r\n",
        "                   \"we'd've\": \"we would have\", \"we'll\": \"we will\", \"we'll've\": \"we will have\", \r\n",
        "                   \"we're\": \"we are\", \"we've\": \"we have\", \"weren't\": \"were not\", \r\n",
        "                   \"what'll\": \"what will\", \"what'll've\": \"what will have\", \"what're\": \"what are\", \r\n",
        "                   \"what's\": \"what is\", \"what've\": \"what have\", \"when's\": \"when is\", \r\n",
        "                   \"when've\": \"when have\", \"where'd\": \"where did\", \"where's\": \"where is\", \r\n",
        "                   \"where've\": \"where have\", \"who'll\": \"who will\", \"who'll've\": \"who will have\", \r\n",
        "                   \"who's\": \"who is\", \"who've\": \"who have\", \"why's\": \"why is\", \r\n",
        "                   \"why've\": \"why have\", \"will've\": \"will have\", \"won't\": \"will not\", \r\n",
        "                   \"won't've\": \"will not have\", \"would've\": \"would have\", \"wouldn't\": \"would not\", \r\n",
        "                   \"wouldn't've\": \"would not have\", \"y'all\": \"you all\", \"y'all'd\": \"you all would\",\r\n",
        "                   \"y'all'd've\": \"you all would have\",\"y'all're\": \"you all are\",\"y'all've\": \"you all have\",\r\n",
        "                   \"you'd\": \"you would\", \"you'd've\": \"you would have\", \"you'll\": \"you will\", \r\n",
        "                   \"you'll've\": \"you will have\", \"you're\": \"you are\", \"you've\": \"you have\" \r\n",
        "                   }"
      ],
      "execution_count": 11,
      "outputs": []
    },
    {
      "cell_type": "code",
      "metadata": {
        "id": "O1ToPFhpCrsA"
      },
      "source": [
        "def clean_script(script_text):\r\n",
        "  '''Takes each script line as an input. And returns the same after cleaning'''\r\n",
        "  script_text = script_text.lower()\r\n",
        "\r\n",
        "  #removes the token like '[silence]' or [']\r\n",
        "  script_text = re.sub('[\\[[a-z]*\\-[a-z]*]|[\\[[a-z]*]', ' ', script_text)\r\n",
        "\r\n",
        "  #this removes all the extra whitespace\r\n",
        "  script_text = re.sub('[\\s]{2,}', ' ',script_text)\r\n",
        "\r\n",
        "  #this removes the repeating 'yeah'. As this token is important so removing the repeating one\r\n",
        "  #what is does that it replace the yeah yeah with yeah or yeah yeah yeah with yeah and so on\r\n",
        "  script_text = re.sub('yeah\\syeah|yeah\\syeah\\syeah|yeah\\syeah\\syeah\\syeah|yeah\\syeah\\syeah\\syeah\\syeah', 'yeah', script_text)\r\n",
        "  script_text = re.sub('[\\s]{2,}', ' ',script_text)\r\n",
        "  script_text = re.sub('yeah\\syeah|yeah\\syeah\\syeah|yeah\\syeah\\syeah\\syeah|yeah\\syeah\\syeah\\syeah\\syeah', 'yeah', script_text)\r\n",
        "\r\n",
        "  #this removes the 'um', 'uh', 'um-hum', 'i-', '-i' or '-' from the script as alomst useless. As these are repeating alot and not adding much of value \r\n",
        "  script_text = re.sub('um|uh|]\\s\\w\\-|\\-\\s|\\-\\w|\\w\\-', '',script_text)\r\n",
        "\r\n",
        "  #removing tag like <b_aside> or <e_aside>\r\n",
        "  script_text = re.sub('<.*?>' ,'', script_text)\r\n",
        "\r\n",
        "  #this removes all the extra whitespace\r\n",
        "  script_text = re.sub('[\\s]{2,}', ' ',script_text)\r\n",
        "  return ' '+script_text.strip()\r\n",
        "\r\n",
        "def pre_process_conv_script(txt_file):\r\n",
        "  'This method takes text file and returns a string'\r\n",
        "\r\n",
        "  final_str = ''\r\n",
        "  script_lines = io.open(txt_file,encoding='UTF-8').read().split('\\n')\r\n",
        "  for script in script_lines:\r\n",
        "    script = ' '.join(script.split(' ')[3:])\r\n",
        "   \r\n",
        "    script = clean_script(script)\r\n",
        "    \r\n",
        "    final_str += script\r\n",
        "\r\n",
        "  #just removes extra white spaces\r\n",
        "  final_str = re.sub('[\\s]{2,}', ' ',final_str)\r\n",
        "\r\n",
        "  return final_str.strip()\r\n",
        "\r\n",
        "\r\n",
        "# For classical ML approach like Bow / tfidf we'll have to prepare the data with expanded contractions eg. 'don't' to 'do not'\r\n",
        "def expand_contraction(cleaned_script, key, value):\r\n",
        "  cleaned_script = re.sub(key, value, cleaned_script)\r\n",
        "  return cleaned_script\r\n",
        "\r\n",
        "# Modern state of the art algorithms like Bert do not care wether word is contracted or uncontracted. \r\n",
        "\r\n",
        "def prepare_data(text_file):\r\n",
        "  'This method is called to clean up the input script .txt file and returns the string'\r\n",
        "  \r\n",
        "  contraction_keys  = list(CONTRACTION_MAP.keys())\r\n",
        "  \r\n",
        "  clean_script = pre_process_conv_script(text_file)\r\n",
        "\r\n",
        "  for key in contraction_keys:\r\n",
        "    clean_script = expand_contraction(clean_script, key, CONTRACTION_MAP.get(key))\r\n",
        "\r\n",
        "  return [clean_script]\r\n"
      ],
      "execution_count": 23,
      "outputs": []
    },
    {
      "cell_type": "markdown",
      "metadata": {
        "id": "z8KBhvU5_F-H"
      },
      "source": [
        "### Predictor Method"
      ]
    },
    {
      "cell_type": "code",
      "metadata": {
        "id": "tios3QmgB_z2"
      },
      "source": [
        "def predict_topic(text_file, predictor, uncontracted_vectorizer, label_encoder):\r\n",
        "  'This method takes the query tex_file, model, vectorizer and label_encoder as an iput and gives the predicted class label'\r\n",
        "  \r\n",
        "  #cleanup the text\r\n",
        "  clean_com_script = prepare_data(text_file)\r\n",
        "\r\n",
        "  #get the bow vector representation\r\n",
        "  script_vector = uncontracted_vectorizer.transform(clean_com_script)\r\n",
        "\r\n",
        "  #do the prediction from the model\r\n",
        "  class_prob = predictor.predict_proba(script_vector)\r\n",
        "\r\n",
        "  #get the classesfrom label_encoder.classes_\r\n",
        "  predicted_class_label = label_encoder.classes_[class_prob[0].argmax()]\r\n",
        "\r\n",
        "  print('Topic for given Conv Script: ', predicted_class_label)"
      ],
      "execution_count": 46,
      "outputs": []
    },
    {
      "cell_type": "code",
      "metadata": {
        "colab": {
          "base_uri": "https://localhost:8080/",
          "height": 0
        },
        "id": "veNR-8m4DsGV",
        "outputId": "08fdf461-d448-4445-d5d8-82c1ec7adc50"
      },
      "source": [
        "predict_topic('tagging_test/trans.2228.txt', ovr_NB, uncontracted_vectorizer, label_encoder)"
      ],
      "execution_count": 50,
      "outputs": [
        {
          "output_type": "stream",
          "text": [
            "Topic for given Conv Script:  Bank Bailout\n"
          ],
          "name": "stdout"
        }
      ]
    },
    {
      "cell_type": "code",
      "metadata": {
        "id": "1WmuypZPEP7W"
      },
      "source": [
        ""
      ],
      "execution_count": null,
      "outputs": []
    }
  ]
}