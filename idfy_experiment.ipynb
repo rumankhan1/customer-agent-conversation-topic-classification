{
  "nbformat": 4,
  "nbformat_minor": 0,
  "metadata": {
    "colab": {
      "name": "idfy_experiment.ipynb",
      "provenance": [],
      "collapsed_sections": []
    },
    "kernelspec": {
      "name": "python3",
      "display_name": "Python 3"
    }
  },
  "cells": [
    {
      "cell_type": "markdown",
      "metadata": {
        "id": "hKje8m6X2JMg"
      },
      "source": [
        "## Agent-Customer Conversation Topic Classification"
      ]
    },
    {
      "cell_type": "markdown",
      "metadata": {
        "id": "V7Yqrc6L9EBg"
      },
      "source": [
        "### Refrence <br>\r\n",
        "https://monkeylearn.com/blog/introduction-to-topic-modeling/ <br>\r\n",
        "<h4>classification and implimentation ref</h4>\r\n",
        "https://towardsdatascience.com/working-with-hugging-face-transformers-and-tf-2-0-89bf35e3555a"
      ]
    },
    {
      "cell_type": "code",
      "metadata": {
        "id": "Vb32S0c7QIj7"
      },
      "source": [
        "import os\r\n",
        "import io\r\n",
        "import re\r\n",
        "import numpy as np\r\n",
        "import pandas as pd\r\n",
        "import pickle\r\n",
        "import seaborn as sns\r\n",
        "import matplotlib.pyplot as plt\r\n",
        "import pickle"
      ],
      "execution_count": 2,
      "outputs": []
    },
    {
      "cell_type": "code",
      "metadata": {
        "colab": {
          "base_uri": "https://localhost:8080/",
          "height": 35
        },
        "id": "aW9F6l2xQyfr",
        "outputId": "584e706d-393f-4853-db28-ef172975e20c"
      },
      "source": [
        "os.chdir('/content/drive/MyDrive/projects_assignment/idfy_nlp_assignment')\r\n",
        "os.getcwd()"
      ],
      "execution_count": 3,
      "outputs": [
        {
          "output_type": "execute_result",
          "data": {
            "application/vnd.google.colaboratory.intrinsic+json": {
              "type": "string"
            },
            "text/plain": [
              "'/content/drive/MyDrive/projects_assignment/idfy_nlp_assignment'"
            ]
          },
          "metadata": {
            "tags": []
          },
          "execution_count": 3
        }
      ]
    },
    {
      "cell_type": "markdown",
      "metadata": {
        "id": "rkL8HPV02aSu"
      },
      "source": [
        "Dictionary for expanding the contracted words"
      ]
    },
    {
      "cell_type": "code",
      "metadata": {
        "id": "q7ersbefc1aB"
      },
      "source": [
        "CONTRACTION_MAP = {\"ain't\": \"is not\", \"aren't\": \"are not\",\"can't\": \"cannot\", \r\n",
        "                   \"can't've\": \"cannot have\", \"'cause\": \"because\", \"could've\": \"could have\", \r\n",
        "                   \"couldn't\": \"could not\", \"couldn't've\": \"could not have\",\"didn't\": \"did not\", \r\n",
        "                   \"doesn't\": \"does not\", \"don't\": \"do not\", \"hadn't\": \"had not\", \r\n",
        "                   \"hadn't've\": \"had not have\", \"hasn't\": \"has not\", \"haven't\": \"have not\", \r\n",
        "                   \"he'd\": \"he would\", \"he'd've\": \"he would have\", \"he'll\": \"he will\", \r\n",
        "                   \"he'll've\": \"he he will have\", \"he's\": \"he is\", \"how'd\": \"how did\", \r\n",
        "                   \"how'd'y\": \"how do you\", \"how'll\": \"how will\", \"how's\": \"how is\", \r\n",
        "                   \"I'd\": \"I would\", \"I'd've\": \"I would have\", \"I'll\": \"I will\", \r\n",
        "                   \"I'll've\": \"I will have\",\"I'm\": \"I am\", \"I've\": \"I have\", \r\n",
        "                   \"i'd\": \"i would\", \"i'd've\": \"i would have\", \"i'll\": \"i will\", \r\n",
        "                   \"i'll've\": \"i will have\",\"i'm\": \"i am\", \"i've\": \"i have\", \r\n",
        "                   \"isn't\": \"is not\", \"it'd\": \"it would\", \"it'd've\": \"it would have\", \r\n",
        "                   \"it'll\": \"it will\", \"it'll've\": \"it will have\",\"it's\": \"it is\", \r\n",
        "                   \"let's\": \"let us\", \"ma'am\": \"madam\", \"mayn't\": \"may not\", \r\n",
        "                   \"might've\": \"might have\",\"mightn't\": \"might not\",\"mightn't've\": \"might not have\", \r\n",
        "                   \"must've\": \"must have\", \"mustn't\": \"must not\", \"mustn't've\": \"must not have\", \r\n",
        "                   \"needn't\": \"need not\", \"needn't've\": \"need not have\",\"o'clock\": \"of the clock\", \r\n",
        "                   \"oughtn't\": \"ought not\", \"oughtn't've\": \"ought not have\", \"shan't\": \"shall not\",\r\n",
        "                   \"sha'n't\": \"shall not\", \"shan't've\": \"shall not have\", \"she'd\": \"she would\", \r\n",
        "                   \"she'd've\": \"she would have\", \"she'll\": \"she will\", \"she'll've\": \"she will have\", \r\n",
        "                   \"she's\": \"she is\", \"should've\": \"should have\", \"shouldn't\": \"should not\", \r\n",
        "                   \"shouldn't've\": \"should not have\", \"so've\": \"so have\",\"so's\": \"so as\", \r\n",
        "                   \"this's\": \"this is\",\r\n",
        "                   \"that'd\": \"that would\", \"that'd've\": \"that would have\",\"that's\": \"that is\", \r\n",
        "                   \"there'd\": \"there would\", \"there'd've\": \"there would have\",\"there's\": \"there is\", \r\n",
        "                   \"they'd\": \"they would\", \"they'd've\": \"they would have\", \"they'll\": \"they will\", \r\n",
        "                   \"they'll've\": \"they will have\", \"they're\": \"they are\", \"they've\": \"they have\", \r\n",
        "                   \"to've\": \"to have\", \"wasn't\": \"was not\", \"we'd\": \"we would\", \r\n",
        "                   \"we'd've\": \"we would have\", \"we'll\": \"we will\", \"we'll've\": \"we will have\", \r\n",
        "                   \"we're\": \"we are\", \"we've\": \"we have\", \"weren't\": \"were not\", \r\n",
        "                   \"what'll\": \"what will\", \"what'll've\": \"what will have\", \"what're\": \"what are\", \r\n",
        "                   \"what's\": \"what is\", \"what've\": \"what have\", \"when's\": \"when is\", \r\n",
        "                   \"when've\": \"when have\", \"where'd\": \"where did\", \"where's\": \"where is\", \r\n",
        "                   \"where've\": \"where have\", \"who'll\": \"who will\", \"who'll've\": \"who will have\", \r\n",
        "                   \"who's\": \"who is\", \"who've\": \"who have\", \"why's\": \"why is\", \r\n",
        "                   \"why've\": \"why have\", \"will've\": \"will have\", \"won't\": \"will not\", \r\n",
        "                   \"won't've\": \"will not have\", \"would've\": \"would have\", \"wouldn't\": \"would not\", \r\n",
        "                   \"wouldn't've\": \"would not have\", \"y'all\": \"you all\", \"y'all'd\": \"you all would\",\r\n",
        "                   \"y'all'd've\": \"you all would have\",\"y'all're\": \"you all are\",\"y'all've\": \"you all have\",\r\n",
        "                   \"you'd\": \"you would\", \"you'd've\": \"you would have\", \"you'll\": \"you will\", \r\n",
        "                   \"you'll've\": \"you will have\", \"you're\": \"you are\", \"you've\": \"you have\" \r\n",
        "                   }"
      ],
      "execution_count": 4,
      "outputs": []
    },
    {
      "cell_type": "markdown",
      "metadata": {
        "id": "BZI1FReo2lRe"
      },
      "source": [
        "### Data Cleaning\r\n",
        "Different helper methods to clean and Prepare the data"
      ]
    },
    {
      "cell_type": "code",
      "metadata": {
        "id": "GJDo-mV79DZg"
      },
      "source": [
        "def clean_script(script_text):\r\n",
        "  'This method takes the script_text:string as an input and returns the same after cleaning'\r\n",
        "\r\n",
        "  # print(script_text)\r\n",
        "  script_text = script_text.lower()\r\n",
        "\r\n",
        "  #removes the token like '[silence]' or [']\r\n",
        "  script_text = re.sub('[\\[[a-z]*\\-[a-z]*]|[\\[[a-z]*]', ' ', script_text)\r\n",
        "\r\n",
        "  #this removes all the extra whitespace\r\n",
        "  script_text = re.sub('[\\s]{2,}', ' ',script_text)\r\n",
        "\r\n",
        "  #this removes the repeating 'yeah'. As this token is important so removing the repeating one\r\n",
        "  #what is does that it replace the yeah yeah with yeah or yeah yeah yeah with yeah and so on\r\n",
        "  script_text = re.sub('yeah\\syeah|yeah\\syeah\\syeah|yeah\\syeah\\syeah\\syeah|yeah\\syeah\\syeah\\syeah\\syeah', 'yeah', script_text)\r\n",
        "  script_text = re.sub('[\\s]{2,}', ' ',script_text)\r\n",
        "  script_text = re.sub('yeah\\syeah|yeah\\syeah\\syeah|yeah\\syeah\\syeah\\syeah|yeah\\syeah\\syeah\\syeah\\syeah', 'yeah', script_text)\r\n",
        "\r\n",
        "  #this removes the 'um', 'uh', 'um-hum', 'i-', '-i' or '-' from the script as alomst useless. As these are repeating alot and not adding much of value \r\n",
        "  script_text = re.sub('um|uh|]\\s\\w\\-|\\-\\s|\\-\\w|\\w\\-', '',script_text)\r\n",
        "\r\n",
        "  #removing tag like <b_aside> or <e_aside>\r\n",
        "  script_text = re.sub('<.*?>' ,'', script_text)\r\n",
        "\r\n",
        "  #this removes all the extra whitespace\r\n",
        "  script_text = re.sub('[\\s]{2,}', ' ',script_text)\r\n",
        "  return ' '+script_text.strip()\r\n",
        "\r\n",
        "def pre_process_conv_script(txt_file): \r\n",
        "  'This method takes the conversation script file_path as input and returns the cleaned string'\r\n",
        "\r\n",
        "  #we'll get the file id from the text file name - will be used later to build the train and test dataset\r\n",
        "  file_id_search = re.search('[0-9]+', txt_file)\r\n",
        "  file_id = txt_file[file_id_search.start():file_id_search.end()]\r\n",
        "\r\n",
        "  final_str = ''\r\n",
        "  script_lines = io.open(txt_file,encoding='UTF-8').read().split('\\n')\r\n",
        "  for script in script_lines:\r\n",
        "    script = ' '.join(script.split(' ')[3:])\r\n",
        "   \r\n",
        "    script = clean_script(script)\r\n",
        "    \r\n",
        "    final_str += script\r\n",
        "\r\n",
        "  #just removes extra white spaces\r\n",
        "  final_str = re.sub('[\\s]{2,}', ' ',final_str)\r\n",
        "\r\n",
        "  return final_str.strip(), file_id\r\n",
        "    "
      ],
      "execution_count": 345,
      "outputs": []
    },
    {
      "cell_type": "code",
      "metadata": {
        "id": "egOyZKflfLtc"
      },
      "source": [
        "# Prepare Data \r\n",
        "# For classical ML approach like Bow / tfidf we'll have to prepare the data with expanded contractions eg. 'don't' to 'do not'\r\n",
        "def expand_contraction(cleaned_script, key, value):\r\n",
        "  'This method expands the contracted word. Takes words, key and value as an input'\r\n",
        "  cleaned_script = re.sub(key, value, cleaned_script)\r\n",
        "  return cleaned_script\r\n",
        "\r\n",
        "# Modern state of the art algorithms like Bert do not care wether word is contracted or uncontracted. \r\n",
        "\r\n",
        "def prep_data():\r\n",
        "  'This method prepares the data. returns the label_list and list of cleaned conversation script'\r\n",
        "  #this list stores all the clean conv script\r\n",
        "  clean_script_list = []\r\n",
        "  clean_script_uncontracted = []\r\n",
        "  label_list = []\r\n",
        "  \r\n",
        "  # Storing all text files in a list\r\n",
        "  text_files = os.listdir('tagging_test')[:-1]\r\n",
        "  contraction_keys  = list(CONTRACTION_MAP.keys())\r\n",
        "  \r\n",
        "  for text_file in text_files:\r\n",
        "    # get the clean text for each text file\r\n",
        "    clean_script, label_id = pre_process_conv_script('tagging_test/'+text_file)\r\n",
        "    clean_script_list.append(clean_script)\r\n",
        "    label_list.append(label_id)\r\n",
        "\r\n",
        "    for key in contraction_keys:\r\n",
        "      clean_script = expand_contraction(clean_script, key, CONTRACTION_MAP.get(key))\r\n",
        "    clean_script_uncontracted.append(clean_script)\r\n",
        "\r\n",
        "  return label_list, clean_script_list, clean_script_uncontracted\r\n"
      ],
      "execution_count": 375,
      "outputs": []
    },
    {
      "cell_type": "code",
      "metadata": {
        "id": "Lf4y_lTX3fk9"
      },
      "source": [
        "label_list, clean_script_list, clean_script_uncontracted = prep_data()"
      ],
      "execution_count": 376,
      "outputs": []
    },
    {
      "cell_type": "markdown",
      "metadata": {
        "id": "gsKGsg814HMh"
      },
      "source": [
        "### Building dataframe\r\n",
        "We'll prepare data out of list returned by prep_data"
      ]
    },
    {
      "cell_type": "code",
      "metadata": {
        "id": "SOL17E9QSbOL"
      },
      "source": [
        "#prep pandas dataframe out of it\r\n",
        "data_uncontracted = pd.DataFrame(data=list(zip(label_list, clean_script_uncontracted)), columns = ['label_id', 'conv_script'])\r\n",
        "data_contracted  = pd.DataFrame(data=list(zip(label_list, clean_script_list)), columns = ['label_id', 'conv_script'])"
      ],
      "execution_count": 381,
      "outputs": []
    },
    {
      "cell_type": "code",
      "metadata": {
        "colab": {
          "base_uri": "https://localhost:8080/",
          "height": 359
        },
        "id": "JUhAXfswXOqL",
        "outputId": "da447031-5014-415b-8f97-1e3e386af8db"
      },
      "source": [
        "data_uncontracted.sample(10)"
      ],
      "execution_count": 383,
      "outputs": [
        {
          "output_type": "execute_result",
          "data": {
            "text/html": [
              "<div>\n",
              "<style scoped>\n",
              "    .dataframe tbody tr th:only-of-type {\n",
              "        vertical-align: middle;\n",
              "    }\n",
              "\n",
              "    .dataframe tbody tr th {\n",
              "        vertical-align: top;\n",
              "    }\n",
              "\n",
              "    .dataframe thead th {\n",
              "        text-align: right;\n",
              "    }\n",
              "</style>\n",
              "<table border=\"1\" class=\"dataframe\">\n",
              "  <thead>\n",
              "    <tr style=\"text-align: right;\">\n",
              "      <th></th>\n",
              "      <th>label_id</th>\n",
              "      <th>conv_script</th>\n",
              "    </tr>\n",
              "  </thead>\n",
              "  <tbody>\n",
              "    <tr>\n",
              "      <th>170</th>\n",
              "      <td>4615</td>\n",
              "      <td>why do not you go ahead first okay short term ...</td>\n",
              "    </tr>\n",
              "    <tr>\n",
              "      <th>165</th>\n",
              "      <td>4383</td>\n",
              "      <td>do you think should be done for the the huge b...</td>\n",
              "    </tr>\n",
              "    <tr>\n",
              "      <th>103</th>\n",
              "      <td>2478</td>\n",
              "      <td>colorado springs oh right up in ti out there y...</td>\n",
              "    </tr>\n",
              "    <tr>\n",
              "      <th>22</th>\n",
              "      <td>2092</td>\n",
              "      <td>well the thing is is that since i am in school...</td>\n",
              "    </tr>\n",
              "    <tr>\n",
              "      <th>106</th>\n",
              "      <td>2591</td>\n",
              "      <td>the whole savings and loan thing seems to be a...</td>\n",
              "    </tr>\n",
              "    <tr>\n",
              "      <th>46</th>\n",
              "      <td>2235</td>\n",
              "      <td>okay hi okay you wanna start hi yeah sure i th...</td>\n",
              "    </tr>\n",
              "    <tr>\n",
              "      <th>217</th>\n",
              "      <td>2791</td>\n",
              "      <td>okay official time well what do you think of a...</td>\n",
              "    </tr>\n",
              "    <tr>\n",
              "      <th>4</th>\n",
              "      <td>3077</td>\n",
              "      <td>americans like me and whether or not not i thi...</td>\n",
              "    </tr>\n",
              "    <tr>\n",
              "      <th>81</th>\n",
              "      <td>4240</td>\n",
              "      <td>so how do you like the benefits of ti well act...</td>\n",
              "    </tr>\n",
              "    <tr>\n",
              "      <th>147</th>\n",
              "      <td>2916</td>\n",
              "      <td>okay i do not think i have ever met anybody th...</td>\n",
              "    </tr>\n",
              "  </tbody>\n",
              "</table>\n",
              "</div>"
            ],
            "text/plain": [
              "    label_id                                        conv_script\n",
              "170     4615  why do not you go ahead first okay short term ...\n",
              "165     4383  do you think should be done for the the huge b...\n",
              "103     2478  colorado springs oh right up in ti out there y...\n",
              "22      2092  well the thing is is that since i am in school...\n",
              "106     2591  the whole savings and loan thing seems to be a...\n",
              "46      2235  okay hi okay you wanna start hi yeah sure i th...\n",
              "217     2791  okay official time well what do you think of a...\n",
              "4       3077  americans like me and whether or not not i thi...\n",
              "81      4240  so how do you like the benefits of ti well act...\n",
              "147     2916  okay i do not think i have ever met anybody th..."
            ]
          },
          "metadata": {
            "tags": []
          },
          "execution_count": 383
        }
      ]
    },
    {
      "cell_type": "code",
      "metadata": {
        "colab": {
          "base_uri": "https://localhost:8080/",
          "height": 359
        },
        "id": "X5yUf967erD6",
        "outputId": "b6615670-3c03-4d96-d47b-1dbe73033d6b"
      },
      "source": [
        "data_contracted.sample(10)"
      ],
      "execution_count": 384,
      "outputs": [
        {
          "output_type": "execute_result",
          "data": {
            "text/html": [
              "<div>\n",
              "<style scoped>\n",
              "    .dataframe tbody tr th:only-of-type {\n",
              "        vertical-align: middle;\n",
              "    }\n",
              "\n",
              "    .dataframe tbody tr th {\n",
              "        vertical-align: top;\n",
              "    }\n",
              "\n",
              "    .dataframe thead th {\n",
              "        text-align: right;\n",
              "    }\n",
              "</style>\n",
              "<table border=\"1\" class=\"dataframe\">\n",
              "  <thead>\n",
              "    <tr style=\"text-align: right;\">\n",
              "      <th></th>\n",
              "      <th>label_id</th>\n",
              "      <th>conv_script</th>\n",
              "    </tr>\n",
              "  </thead>\n",
              "  <tbody>\n",
              "    <tr>\n",
              "      <th>22</th>\n",
              "      <td>2092</td>\n",
              "      <td>well the thing is is that since i'm in school ...</td>\n",
              "    </tr>\n",
              "    <tr>\n",
              "      <th>216</th>\n",
              "      <td>2447</td>\n",
              "      <td>probably the lifestyles and the size of the ar...</td>\n",
              "    </tr>\n",
              "    <tr>\n",
              "      <th>21</th>\n",
              "      <td>2234</td>\n",
              "      <td>well my family moved to texas about eight year...</td>\n",
              "    </tr>\n",
              "    <tr>\n",
              "      <th>8</th>\n",
              "      <td>3312</td>\n",
              "      <td>kind of options do you have in your work as fa...</td>\n",
              "    </tr>\n",
              "    <tr>\n",
              "      <th>130</th>\n",
              "      <td>2782</td>\n",
              "      <td>i guess so okay ready to talk okay i want to t...</td>\n",
              "    </tr>\n",
              "    <tr>\n",
              "      <th>54</th>\n",
              "      <td>3084</td>\n",
              "      <td>okay i guess we're going to talk about budgets...</td>\n",
              "    </tr>\n",
              "    <tr>\n",
              "      <th>167</th>\n",
              "      <td>3786</td>\n",
              "      <td>o okay so you were with ti h yeah i've been wi...</td>\n",
              "    </tr>\n",
              "    <tr>\n",
              "      <th>117</th>\n",
              "      <td>2508</td>\n",
              "      <td>how do you manage your budget well let's see w...</td>\n",
              "    </tr>\n",
              "    <tr>\n",
              "      <th>95</th>\n",
              "      <td>2917</td>\n",
              "      <td>hi what do you do with your credit cards oh we...</td>\n",
              "    </tr>\n",
              "    <tr>\n",
              "      <th>39</th>\n",
              "      <td>2250</td>\n",
              "      <td>so what kind of benefits do you have in your j...</td>\n",
              "    </tr>\n",
              "  </tbody>\n",
              "</table>\n",
              "</div>"
            ],
            "text/plain": [
              "    label_id                                        conv_script\n",
              "22      2092  well the thing is is that since i'm in school ...\n",
              "216     2447  probably the lifestyles and the size of the ar...\n",
              "21      2234  well my family moved to texas about eight year...\n",
              "8       3312  kind of options do you have in your work as fa...\n",
              "130     2782  i guess so okay ready to talk okay i want to t...\n",
              "54      3084  okay i guess we're going to talk about budgets...\n",
              "167     3786  o okay so you were with ti h yeah i've been wi...\n",
              "117     2508  how do you manage your budget well let's see w...\n",
              "95      2917  hi what do you do with your credit cards oh we...\n",
              "39      2250  so what kind of benefits do you have in your j..."
            ]
          },
          "metadata": {
            "tags": []
          },
          "execution_count": 384
        }
      ]
    },
    {
      "cell_type": "code",
      "metadata": {
        "colab": {
          "base_uri": "https://localhost:8080/",
          "height": 35
        },
        "id": "rQ4I2Ty4e8RK",
        "outputId": "6dd61d83-6a26-45c3-9c1b-8facce31b63c"
      },
      "source": [
        "os.getcwd()"
      ],
      "execution_count": 388,
      "outputs": [
        {
          "output_type": "execute_result",
          "data": {
            "application/vnd.google.colaboratory.intrinsic+json": {
              "type": "string"
            },
            "text/plain": [
              "'/content/drive/My Drive/projects_assignment/idfy_nlp_assignment'"
            ]
          },
          "metadata": {
            "tags": []
          },
          "execution_count": 388
        }
      ]
    },
    {
      "cell_type": "markdown",
      "metadata": {
        "id": "MZhXAMnx4XmT"
      },
      "source": [
        "### Preparing class labels\r\n",
        "Since class labels for each conversation script is in different files so we'll have to process those all"
      ]
    },
    {
      "cell_type": "code",
      "metadata": {
        "id": "8BK1A_MipDvX"
      },
      "source": [
        "#now let's process the label text file and conact that with script dataFrame\r\n",
        "def prep_label():\r\n",
        "  'This methods prepares the lis of labels and label ids'\r\n",
        "  all_labels_list = []\r\n",
        "  all_labels_id = []\r\n",
        "\r\n",
        "  path_to_file = 'tagging_test/metadata/mapping_conv_topic.train.txt'\r\n",
        "  label_lines = io.open(path_to_file,encoding='UTF-8').read().split('\\n')\r\n",
        "\r\n",
        "  for label_line in label_lines:\r\n",
        "    \r\n",
        "    try:\r\n",
        "      all_labels_id.append(label_line.split()[0])\r\n",
        "      all_labels_list.append(re.sub('\"', '', ' '.join(label_line.split()[1:])))\r\n",
        "    #putting exception block as few problem with the text file in last line. So all good with exception\r\n",
        "    except:\r\n",
        "      continue\r\n",
        "    \r\n",
        "    \r\n",
        "  return all_labels_list, all_labels_id\r\n"
      ],
      "execution_count": 413,
      "outputs": []
    },
    {
      "cell_type": "code",
      "metadata": {
        "id": "BUAV_GkjqpVS"
      },
      "source": [
        "all_labels_list, all_labels_id = prep_label()"
      ],
      "execution_count": 414,
      "outputs": []
    },
    {
      "cell_type": "code",
      "metadata": {
        "id": "lm4gl4d74qQQ"
      },
      "source": [
        "#### "
      ],
      "execution_count": null,
      "outputs": []
    },
    {
      "cell_type": "markdown",
      "metadata": {
        "id": "r6W5mdl04rYP"
      },
      "source": [
        "Building dataframe for the class labels"
      ]
    },
    {
      "cell_type": "code",
      "metadata": {
        "colab": {
          "base_uri": "https://localhost:8080/",
          "height": 204
        },
        "id": "yfDoFCWvsLoq",
        "outputId": "3e71e617-dc7b-448a-a919-3d95fbc192c4"
      },
      "source": [
        "data_label  = pd.DataFrame(data=list(zip(all_labels_id, all_labels_list)), columns = ['label_id', 'class_label'])\r\n",
        "data_label.sample(5)"
      ],
      "execution_count": 416,
      "outputs": [
        {
          "output_type": "execute_result",
          "data": {
            "text/html": [
              "<div>\n",
              "<style scoped>\n",
              "    .dataframe tbody tr th:only-of-type {\n",
              "        vertical-align: middle;\n",
              "    }\n",
              "\n",
              "    .dataframe tbody tr th {\n",
              "        vertical-align: top;\n",
              "    }\n",
              "\n",
              "    .dataframe thead th {\n",
              "        text-align: right;\n",
              "    }\n",
              "</style>\n",
              "<table border=\"1\" class=\"dataframe\">\n",
              "  <thead>\n",
              "    <tr style=\"text-align: right;\">\n",
              "      <th></th>\n",
              "      <th>label_id</th>\n",
              "      <th>class_label</th>\n",
              "    </tr>\n",
              "  </thead>\n",
              "  <tbody>\n",
              "    <tr>\n",
              "      <th>142</th>\n",
              "      <td>4254</td>\n",
              "      <td>Job Benefits</td>\n",
              "    </tr>\n",
              "    <tr>\n",
              "      <th>16</th>\n",
              "      <td>2800</td>\n",
              "      <td>Credit Card</td>\n",
              "    </tr>\n",
              "    <tr>\n",
              "      <th>102</th>\n",
              "      <td>2129</td>\n",
              "      <td>Job Benefits</td>\n",
              "    </tr>\n",
              "    <tr>\n",
              "      <th>49</th>\n",
              "      <td>2327</td>\n",
              "      <td>Taxes</td>\n",
              "    </tr>\n",
              "    <tr>\n",
              "      <th>208</th>\n",
              "      <td>4379</td>\n",
              "      <td>Family Finance</td>\n",
              "    </tr>\n",
              "  </tbody>\n",
              "</table>\n",
              "</div>"
            ],
            "text/plain": [
              "    label_id     class_label\n",
              "142     4254    Job Benefits\n",
              "16      2800     Credit Card\n",
              "102     2129    Job Benefits\n",
              "49      2327           Taxes\n",
              "208     4379  Family Finance"
            ]
          },
          "metadata": {
            "tags": []
          },
          "execution_count": 416
        }
      ]
    },
    {
      "cell_type": "markdown",
      "metadata": {
        "id": "QYb76XMQ41K5"
      },
      "source": [
        "### Merging class labels and Conversation Scripts together"
      ]
    },
    {
      "cell_type": "code",
      "metadata": {
        "colab": {
          "base_uri": "https://localhost:8080/",
          "height": 419
        },
        "id": "8xCJh7JDqqNf",
        "outputId": "2282f717-5cdb-4acc-ff57-4369ca588815"
      },
      "source": [
        "#concatinatng Labels dataframe with the script\r\n",
        "data_uncontracted = data_uncontracted.merge(data_label)\r\n",
        "data_uncontracted"
      ],
      "execution_count": 421,
      "outputs": [
        {
          "output_type": "execute_result",
          "data": {
            "text/html": [
              "<div>\n",
              "<style scoped>\n",
              "    .dataframe tbody tr th:only-of-type {\n",
              "        vertical-align: middle;\n",
              "    }\n",
              "\n",
              "    .dataframe tbody tr th {\n",
              "        vertical-align: top;\n",
              "    }\n",
              "\n",
              "    .dataframe thead th {\n",
              "        text-align: right;\n",
              "    }\n",
              "</style>\n",
              "<table border=\"1\" class=\"dataframe\">\n",
              "  <thead>\n",
              "    <tr style=\"text-align: right;\">\n",
              "      <th></th>\n",
              "      <th>label_id</th>\n",
              "      <th>conv_script</th>\n",
              "      <th>class_label</th>\n",
              "    </tr>\n",
              "  </thead>\n",
              "  <tbody>\n",
              "    <tr>\n",
              "      <th>0</th>\n",
              "      <td>4160</td>\n",
              "      <td>so do you keep a family budget well not a real...</td>\n",
              "      <td>Family Finance</td>\n",
              "    </tr>\n",
              "    <tr>\n",
              "      <th>1</th>\n",
              "      <td>3196</td>\n",
              "      <td>hello hello hi boy it took forever to find som...</td>\n",
              "      <td>Credit Card</td>\n",
              "    </tr>\n",
              "    <tr>\n",
              "      <th>2</th>\n",
              "      <td>2424</td>\n",
              "      <td>there we go okay well what do you think about ...</td>\n",
              "      <td>Taxes</td>\n",
              "    </tr>\n",
              "    <tr>\n",
              "      <th>3</th>\n",
              "      <td>3270</td>\n",
              "      <td>well i do not know if there is gonna be a solu...</td>\n",
              "      <td>Budget</td>\n",
              "    </tr>\n",
              "    <tr>\n",
              "      <th>4</th>\n",
              "      <td>3077</td>\n",
              "      <td>americans like me and whether or not not i thi...</td>\n",
              "      <td>Taxes</td>\n",
              "    </tr>\n",
              "    <tr>\n",
              "      <th>...</th>\n",
              "      <td>...</td>\n",
              "      <td>...</td>\n",
              "      <td>...</td>\n",
              "    </tr>\n",
              "    <tr>\n",
              "      <th>235</th>\n",
              "      <td>3673</td>\n",
              "      <td>you keep a budget yes i do okay how do you wor...</td>\n",
              "      <td>Family Finance</td>\n",
              "    </tr>\n",
              "    <tr>\n",
              "      <th>236</th>\n",
              "      <td>4031</td>\n",
              "      <td>is all you need h i think just one is all you ...</td>\n",
              "      <td>Family Finance</td>\n",
              "    </tr>\n",
              "    <tr>\n",
              "      <th>237</th>\n",
              "      <td>4209</td>\n",
              "      <td>jeff what do you think are you paying to much ...</td>\n",
              "      <td>Taxes</td>\n",
              "    </tr>\n",
              "    <tr>\n",
              "      <th>238</th>\n",
              "      <td>4222</td>\n",
              "      <td>cathy i am in boston hi i am ralph cincinnati ...</td>\n",
              "      <td>Taxes</td>\n",
              "    </tr>\n",
              "    <tr>\n",
              "      <th>239</th>\n",
              "      <td>2642</td>\n",
              "      <td>okay how do you feel about them_1 well i keep ...</td>\n",
              "      <td>Credit Card</td>\n",
              "    </tr>\n",
              "  </tbody>\n",
              "</table>\n",
              "<p>240 rows × 3 columns</p>\n",
              "</div>"
            ],
            "text/plain": [
              "    label_id                                        conv_script     class_label\n",
              "0       4160  so do you keep a family budget well not a real...  Family Finance\n",
              "1       3196  hello hello hi boy it took forever to find som...     Credit Card\n",
              "2       2424  there we go okay well what do you think about ...           Taxes\n",
              "3       3270  well i do not know if there is gonna be a solu...          Budget\n",
              "4       3077  americans like me and whether or not not i thi...           Taxes\n",
              "..       ...                                                ...             ...\n",
              "235     3673  you keep a budget yes i do okay how do you wor...  Family Finance\n",
              "236     4031  is all you need h i think just one is all you ...  Family Finance\n",
              "237     4209  jeff what do you think are you paying to much ...           Taxes\n",
              "238     4222  cathy i am in boston hi i am ralph cincinnati ...           Taxes\n",
              "239     2642  okay how do you feel about them_1 well i keep ...     Credit Card\n",
              "\n",
              "[240 rows x 3 columns]"
            ]
          },
          "metadata": {
            "tags": []
          },
          "execution_count": 421
        }
      ]
    },
    {
      "cell_type": "code",
      "metadata": {
        "colab": {
          "base_uri": "https://localhost:8080/",
          "height": 419
        },
        "id": "op1Zvgv6sCwA",
        "outputId": "463d6ebf-884d-4c9c-81ed-45fb6640902e"
      },
      "source": [
        "#concatinatng Labels dataframe with the script\r\n",
        "data_contracted = data_contracted.merge(data_label)\r\n",
        "data_contracted"
      ],
      "execution_count": 422,
      "outputs": [
        {
          "output_type": "execute_result",
          "data": {
            "text/html": [
              "<div>\n",
              "<style scoped>\n",
              "    .dataframe tbody tr th:only-of-type {\n",
              "        vertical-align: middle;\n",
              "    }\n",
              "\n",
              "    .dataframe tbody tr th {\n",
              "        vertical-align: top;\n",
              "    }\n",
              "\n",
              "    .dataframe thead th {\n",
              "        text-align: right;\n",
              "    }\n",
              "</style>\n",
              "<table border=\"1\" class=\"dataframe\">\n",
              "  <thead>\n",
              "    <tr style=\"text-align: right;\">\n",
              "      <th></th>\n",
              "      <th>label_id</th>\n",
              "      <th>conv_script</th>\n",
              "      <th>class_label</th>\n",
              "    </tr>\n",
              "  </thead>\n",
              "  <tbody>\n",
              "    <tr>\n",
              "      <th>0</th>\n",
              "      <td>4160</td>\n",
              "      <td>so do you keep a family budget well not a real...</td>\n",
              "      <td>Family Finance</td>\n",
              "    </tr>\n",
              "    <tr>\n",
              "      <th>1</th>\n",
              "      <td>3196</td>\n",
              "      <td>hello hello hi boy it took forever to find som...</td>\n",
              "      <td>Credit Card</td>\n",
              "    </tr>\n",
              "    <tr>\n",
              "      <th>2</th>\n",
              "      <td>2424</td>\n",
              "      <td>there we go okay well what do you think about ...</td>\n",
              "      <td>Taxes</td>\n",
              "    </tr>\n",
              "    <tr>\n",
              "      <th>3</th>\n",
              "      <td>3270</td>\n",
              "      <td>well i don't know if there's gonna be a soluti...</td>\n",
              "      <td>Budget</td>\n",
              "    </tr>\n",
              "    <tr>\n",
              "      <th>4</th>\n",
              "      <td>3077</td>\n",
              "      <td>americans like me and whether or not not i thi...</td>\n",
              "      <td>Taxes</td>\n",
              "    </tr>\n",
              "    <tr>\n",
              "      <th>...</th>\n",
              "      <td>...</td>\n",
              "      <td>...</td>\n",
              "      <td>...</td>\n",
              "    </tr>\n",
              "    <tr>\n",
              "      <th>235</th>\n",
              "      <td>3673</td>\n",
              "      <td>you keep a budget yes i do okay how do you wor...</td>\n",
              "      <td>Family Finance</td>\n",
              "    </tr>\n",
              "    <tr>\n",
              "      <th>236</th>\n",
              "      <td>4031</td>\n",
              "      <td>is all you need h i think just one is all you ...</td>\n",
              "      <td>Family Finance</td>\n",
              "    </tr>\n",
              "    <tr>\n",
              "      <th>237</th>\n",
              "      <td>4209</td>\n",
              "      <td>jeff what do you think are you paying to much ...</td>\n",
              "      <td>Taxes</td>\n",
              "    </tr>\n",
              "    <tr>\n",
              "      <th>238</th>\n",
              "      <td>4222</td>\n",
              "      <td>cathy i'm in boston hi i'm ralph cincinnati hi...</td>\n",
              "      <td>Taxes</td>\n",
              "    </tr>\n",
              "    <tr>\n",
              "      <th>239</th>\n",
              "      <td>2642</td>\n",
              "      <td>okay how do you feel about them_1 well i keep ...</td>\n",
              "      <td>Credit Card</td>\n",
              "    </tr>\n",
              "  </tbody>\n",
              "</table>\n",
              "<p>240 rows × 3 columns</p>\n",
              "</div>"
            ],
            "text/plain": [
              "    label_id                                        conv_script     class_label\n",
              "0       4160  so do you keep a family budget well not a real...  Family Finance\n",
              "1       3196  hello hello hi boy it took forever to find som...     Credit Card\n",
              "2       2424  there we go okay well what do you think about ...           Taxes\n",
              "3       3270  well i don't know if there's gonna be a soluti...          Budget\n",
              "4       3077  americans like me and whether or not not i thi...           Taxes\n",
              "..       ...                                                ...             ...\n",
              "235     3673  you keep a budget yes i do okay how do you wor...  Family Finance\n",
              "236     4031  is all you need h i think just one is all you ...  Family Finance\n",
              "237     4209  jeff what do you think are you paying to much ...           Taxes\n",
              "238     4222  cathy i'm in boston hi i'm ralph cincinnati hi...           Taxes\n",
              "239     2642  okay how do you feel about them_1 well i keep ...     Credit Card\n",
              "\n",
              "[240 rows x 3 columns]"
            ]
          },
          "metadata": {
            "tags": []
          },
          "execution_count": 422
        }
      ]
    },
    {
      "cell_type": "markdown",
      "metadata": {
        "id": "khBRaPo747ex"
      },
      "source": [
        "Dumping files to the local disk to reload in future"
      ]
    },
    {
      "cell_type": "code",
      "metadata": {
        "id": "9Tu7LYU3yhpz"
      },
      "source": [
        "import pickle"
      ],
      "execution_count": 5,
      "outputs": []
    },
    {
      "cell_type": "code",
      "metadata": {
        "id": "X7qIcrENxSw6"
      },
      "source": [
        "# Save all the on the disk to avoid re computation \r\n",
        "#pickle.dump((data_contracted, data_uncontracted),open('clean_data_with_label.pkl','wb'))\r\n",
        "\r\n",
        "# Loading \r\n",
        "data_contracted, data_uncontracted= pickle.load(open('clean_data_with_label.pkl', 'rb'))"
      ],
      "execution_count": 111,
      "outputs": []
    },
    {
      "cell_type": "markdown",
      "metadata": {
        "id": "IK9oAUrs5DET"
      },
      "source": [
        "### Basic Analysis on Data\r\n",
        "We'll have a look at class distribution "
      ]
    },
    {
      "cell_type": "code",
      "metadata": {
        "colab": {
          "base_uri": "https://localhost:8080/"
        },
        "id": "lo4_cUtpyg7V",
        "outputId": "ec4baae9-396d-467d-ee93-0b49c9cfee39"
      },
      "source": [
        "# we'll do basic data Analysis\r\n",
        "\r\n",
        "# Looking at class distribution\r\n",
        "data_uncontracted.class_label.value_counts()\r\n"
      ],
      "execution_count": 112,
      "outputs": [
        {
          "output_type": "execute_result",
          "data": {
            "text/plain": [
              "Family Finance    63\n",
              "Taxes             54\n",
              "Job Benefits      54\n",
              "Credit Card       41\n",
              "Budget            22\n",
              "Bank Bailout       6\n",
              "Name: class_label, dtype: int64"
            ]
          },
          "metadata": {
            "tags": []
          },
          "execution_count": 112
        }
      ]
    },
    {
      "cell_type": "markdown",
      "metadata": {
        "id": "DxyLTxrb5K87"
      },
      "source": [
        "we can see Bank Bailout is minor class here with just 6 examples. We'll have to look at this label while building model. <br>\r\n",
        "\r\n",
        "#### Let's visualize the class distribution"
      ]
    },
    {
      "cell_type": "code",
      "metadata": {
        "colab": {
          "base_uri": "https://localhost:8080/",
          "height": 333
        },
        "id": "1dqCgm7Y58nH",
        "outputId": "b0bbde92-59d6-49cf-9f16-3ad8d2a329ee"
      },
      "source": [
        "class_plot = data_uncontracted.class_label.value_counts()\r\n",
        "sns.set_style('darkgrid')\r\n",
        "sns.barplot(class_plot.index, class_plot.values)\r\n",
        "plt.xlabel(\"Class\")\r\n",
        "plt.ylabel(\"Project_count\")\r\n",
        "plt.show()"
      ],
      "execution_count": 113,
      "outputs": [
        {
          "output_type": "stream",
          "text": [
            "/usr/local/lib/python3.7/dist-packages/seaborn/_decorators.py:43: FutureWarning: Pass the following variables as keyword args: x, y. From version 0.12, the only valid positional argument will be `data`, and passing other arguments without an explicit keyword will result in an error or misinterpretation.\n",
            "  FutureWarning\n"
          ],
          "name": "stderr"
        },
        {
          "output_type": "display_data",
          "data": {
            "image/png": "[encoded data removed]",
            "text/plain": [
              "<Figure size 432x288 with 1 Axes>"
            ]
          },
          "metadata": {
            "tags": []
          }
        }
      ]
    },
    {
      "cell_type": "markdown",
      "metadata": {
        "id": "w2U_uqO75bgT"
      },
      "source": [
        "#### Doing analysis on conversation Script"
      ]
    },
    {
      "cell_type": "code",
      "metadata": {
        "colab": {
          "base_uri": "https://localhost:8080/"
        },
        "id": "gJqDzr5C4ik_",
        "outputId": "65310db1-7377-4f38-bfb7-6e803eab1fd4"
      },
      "source": [
        "# like getting average size of conv script\r\n",
        "\r\n",
        "uncontracted_lengths = data_uncontracted['conv_script'].str.split().apply(len)\r\n",
        "contracted_lengths = data_contracted['conv_script'].str.split().apply(len)\r\n",
        "\r\n",
        "\r\n",
        "\r\n",
        "print('*******Conv Script with contracted words ***********')\r\n",
        "\r\n",
        "for i in range(0, 101,10):\r\n",
        "  print(i, 'percentile', np.percentile(contracted_lengths, i))\r\n",
        "print('\\n')\r\n",
        "for i in range(90, 102,2):\r\n",
        "  print(i, 'percentile', np.percentile(contracted_lengths, i))\r\n",
        "print('\\n')\r\n",
        "for i in [99.1,99.2,99.3,99.4,99.5,99.6,99.7,99.8,99.9,100]:\r\n",
        "  print(i, 'percentile', np.percentile(contracted_lengths, i))\r\n",
        "\r\n",
        "print('\\n')\r\n",
        "\r\n",
        "\r\n",
        "print('*******Conv Script with uncontracted words***********')\r\n",
        "\r\n",
        "for i in range(0, 101,10):\r\n",
        "  print(i, 'percentile', np.percentile(uncontracted_lengths, i))\r\n",
        "print('\\n')\r\n",
        "for i in range(90, 102,2):\r\n",
        "  print(i, 'percentile', np.percentile(uncontracted_lengths, i))\r\n",
        "print('\\n')\r\n",
        "for i in [99.1,99.2,99.3,99.4,99.5,99.6,99.7,99.8,99.9,100]:\r\n",
        "  print(i, 'percentile', np.percentile(uncontracted_lengths, i))"
      ],
      "execution_count": 114,
      "outputs": [
        {
          "output_type": "stream",
          "text": [
            "*******Conv Script with contracted words ***********\n",
            "0 percentile 557.0\n",
            "10 percentile 796.0\n",
            "20 percentile 844.8000000000001\n",
            "30 percentile 893.7\n",
            "40 percentile 927.6\n",
            "50 percentile 996.0\n",
            "60 percentile 1063.6\n",
            "70 percentile 1351.3999999999996\n",
            "80 percentile 1621.0000000000007\n",
            "90 percentile 1898.1\n",
            "100 percentile 2249.0\n",
            "\n",
            "\n",
            "90 percentile 1898.1\n",
            "92 percentile 1923.52\n",
            "94 percentile 2000.86\n",
            "96 percentile 2074.2\n",
            "98 percentile 2113.7200000000003\n",
            "100 percentile 2249.0\n",
            "\n",
            "\n",
            "99.1 percentile 2207.617999999999\n",
            "99.2 percentile 2222.3759999999997\n",
            "99.3 percentile 2228.8289999999997\n",
            "99.4 percentile 2235.282000000001\n",
            "99.5 percentile 2241.735\n",
            "99.6 percentile 2247.088\n",
            "99.7 percentile 2247.566\n",
            "99.8 percentile 2248.044\n",
            "99.9 percentile 2248.522\n",
            "100 percentile 2249.0\n",
            "\n",
            "\n",
            "*******Conv Script with uncontracted words***********\n",
            "0 percentile 594.0\n",
            "10 percentile 840.3\n",
            "20 percentile 887.0\n",
            "30 percentile 935.7\n",
            "40 percentile 976.6\n",
            "50 percentile 1042.5\n",
            "60 percentile 1115.0\n",
            "70 percentile 1422.3\n",
            "80 percentile 1697.400000000001\n",
            "90 percentile 1988.3999999999999\n",
            "100 percentile 2398.0\n",
            "\n",
            "\n",
            "90 percentile 1988.3999999999999\n",
            "92 percentile 2036.9599999999998\n",
            "94 percentile 2111.6400000000003\n",
            "96 percentile 2188.64\n",
            "98 percentile 2227.44\n",
            "100 percentile 2398.0\n",
            "\n",
            "\n",
            "99.1 percentile 2292.0339999999997\n",
            "99.2 percentile 2306.5759999999996\n",
            "99.3 percentile 2319.004\n",
            "99.4 percentile 2331.4320000000016\n",
            "99.5 percentile 2343.8600000000006\n",
            "99.6 percentile 2355.936\n",
            "99.7 percentile 2366.4519999999993\n",
            "99.8 percentile 2376.968\n",
            "99.9 percentile 2387.4840000000013\n",
            "100 percentile 2398.0\n"
          ],
          "name": "stdout"
        }
      ]
    },
    {
      "cell_type": "markdown",
      "metadata": {
        "id": "s7_PLUAt5j1z"
      },
      "source": [
        "As we can see above each converation script is fairy large."
      ]
    },
    {
      "cell_type": "markdown",
      "metadata": {
        "id": "YOe6tY3o51K2"
      },
      "source": [
        "### Prepare data for Models"
      ]
    },
    {
      "cell_type": "code",
      "metadata": {
        "id": "OhWGphp3B7Zg"
      },
      "source": [
        "from sklearn.model_selection import train_test_split\r\n",
        "from sklearn.feature_extraction.text import CountVectorizer\r\n",
        "from sklearn.naive_bayes import MultinomialNB\r\n",
        "from sklearn import  preprocessing\r\n",
        "from sklearn import metrics\r\n",
        "from sklearn.multiclass import OneVsRestClassifier\r\n",
        "import math"
      ],
      "execution_count": 115,
      "outputs": []
    },
    {
      "cell_type": "markdown",
      "metadata": {
        "id": "xMoZk9YZ54xS"
      },
      "source": [
        "#### Train, Test dataset"
      ]
    },
    {
      "cell_type": "code",
      "metadata": {
        "colab": {
          "base_uri": "https://localhost:8080/"
        },
        "id": "87246g69Byej",
        "outputId": "02794553-187b-4657-8bf8-00c9c85cdd1d"
      },
      "source": [
        "#we'll have to split into train and test data\r\n",
        "X_train, X_test, y_train, y_test = train_test_split(data_uncontracted['conv_script'], data_uncontracted['class_label'], test_size=0.30, stratify=data_uncontracted['class_label'])\r\n",
        "print(X_train.shape, X_test.shape)"
      ],
      "execution_count": 116,
      "outputs": [
        {
          "output_type": "stream",
          "text": [
            "(168,) (72,)\n"
          ],
          "name": "stdout"
        }
      ]
    },
    {
      "cell_type": "code",
      "metadata": {
        "colab": {
          "base_uri": "https://localhost:8080/"
        },
        "id": "x6cbBesyCXh1",
        "outputId": "0f64d4b8-a93e-4110-9415-e5f235880c95"
      },
      "source": [
        "y_train.value_counts()"
      ],
      "execution_count": 117,
      "outputs": [
        {
          "output_type": "execute_result",
          "data": {
            "text/plain": [
              "Family Finance    44\n",
              "Taxes             38\n",
              "Job Benefits      38\n",
              "Credit Card       29\n",
              "Budget            15\n",
              "Bank Bailout       4\n",
              "Name: class_label, dtype: int64"
            ]
          },
          "metadata": {
            "tags": []
          },
          "execution_count": 117
        }
      ]
    },
    {
      "cell_type": "code",
      "metadata": {
        "colab": {
          "base_uri": "https://localhost:8080/"
        },
        "id": "VoP1y_9IDfRN",
        "outputId": "71c4b332-b705-4a62-97b2-59547046785e"
      },
      "source": [
        "y_test.value_counts()"
      ],
      "execution_count": 118,
      "outputs": [
        {
          "output_type": "execute_result",
          "data": {
            "text/plain": [
              "Family Finance    19\n",
              "Taxes             16\n",
              "Job Benefits      16\n",
              "Credit Card       12\n",
              "Budget             7\n",
              "Bank Bailout       2\n",
              "Name: class_label, dtype: int64"
            ]
          },
          "metadata": {
            "tags": []
          },
          "execution_count": 118
        }
      ]
    },
    {
      "cell_type": "markdown",
      "metadata": {
        "id": "XV53ZY_U59rX"
      },
      "source": [
        "#### Converting text to vector representation"
      ]
    },
    {
      "cell_type": "code",
      "metadata": {
        "id": "DexOteT8Farf"
      },
      "source": [
        "import nltk\r\n",
        "from nltk.corpus import stopwords\r\n",
        "# nltk.download('stopwords')\r\n",
        "print(stopwords.words('english'))"
      ],
      "execution_count": null,
      "outputs": []
    },
    {
      "cell_type": "code",
      "metadata": {
        "id": "SpXEbmPIEuty"
      },
      "source": [
        "stopwords_list = ['i', 'me', 'my', 'myself', 'we', 'our', 'ours', 'ourselves', 'you', \"you're\", \"you've\", \"you'll\", \"you'd\", 'your', 'yours', 'yourself', \r\n",
        "                  'yourselves', 'he', 'him', 'his', 'himself', 'she', \"she's\", 'her', 'hers', 'herself', 'it', \"it's\", 'its', 'itself', 'they', 'them', \r\n",
        "                  'their', 'theirs', 'themselves', 'what', 'which', 'who', 'whom', 'this', 'that', \"that'll\", 'these', 'those', 'am', 'is', 'are', 'was',\r\n",
        "                  'were', 'be', 'been', 'being', 'have', 'has', 'had', 'having', 'do', 'does', 'did', 'doing', 'a', 'an', 'the', 'and', 'but', 'if', 'or', \r\n",
        "                  'because', 'as', 'until', 'while', 'of', 'at', 'by', 'for', 'with', 'about', 'against', 'between', 'into', 'through', 'during', 'before', \r\n",
        "                  'after', 'above', 'below', 'to', 'from', 'up', 'down', 'in', 'out', 'on', 'off', 'over', 'under', 'again', 'further', 'then', 'once', 'here', \r\n",
        "                  'there', 'when', 'where', 'why', 'how', 'all', 'any', 'both', 'each', 'few', 'more', 'most', 'other', 'some', 'such', 'nor', 'only', \r\n",
        "                  'own', 'same', 'so', 'than', 'too', 'very', 's', 't', 'can', 'will', 'just', 'don', \"don't\", 'should', \"should've\", 'now', 'd', 'll', 'm', 'o', 're', \r\n",
        "                  've', 'y', 'ain', 'aren', \"aren't\", 'couldn', \"couldn't\", 'didn', \"didn't\", 'doesn', \"doesn't\", 'hadn', \"hadn't\", 'hasn', \"hasn't\", 'haven', \"haven't\", \r\n",
        "                  'isn', \"isn't\", 'ma', 'mightn', \"mightn't\", 'mustn', \"mustn't\", 'needn', \"needn't\", 'shan', \"shan't\", 'shouldn', \"shouldn't\", 'wasn', \"wasn't\", 'weren', \r\n",
        "                  \"weren't\", 'won', \"won't\", 'wouldn', \"wouldn't\"]"
      ],
      "execution_count": 119,
      "outputs": []
    },
    {
      "cell_type": "markdown",
      "metadata": {
        "id": "HHOWSu5e6FZ-"
      },
      "source": [
        "Initializing  count vectorizer"
      ]
    },
    {
      "cell_type": "code",
      "metadata": {
        "colab": {
          "base_uri": "https://localhost:8080/"
        },
        "id": "i0j6QTpu9H_x",
        "outputId": "ceb4894d-3ede-4823-b802-99eecd9ec153"
      },
      "source": [
        "# BoW vector representaion for the Conv Script\r\n",
        "del uncontracted_vectorizer\r\n",
        "uncontracted_vectorizer = CountVectorizer(stop_words=stopwords_list, max_features= 60000)\r\n",
        "uncontracted_vectorizer.fit(X_train.values)"
      ],
      "execution_count": 215,
      "outputs": [
        {
          "output_type": "execute_result",
          "data": {
            "text/plain": [
              "CountVectorizer(analyzer='word', binary=False, decode_error='strict',\n",
              "                dtype=<class 'numpy.int64'>, encoding='utf-8', input='content',\n",
              "                lowercase=True, max_df=1.0, max_features=60000, min_df=1,\n",
              "                ngram_range=(1, 1), preprocessor=None,\n",
              "                stop_words=['i', 'me', 'my', 'myself', 'we', 'our', 'ours',\n",
              "                            'ourselves', 'you', \"you're\", \"you've\", \"you'll\",\n",
              "                            \"you'd\", 'your', 'yours', 'yourself', 'yourselves',\n",
              "                            'he', 'him', 'his', 'himself', 'she', \"she's\",\n",
              "                            'her', 'hers', 'herself', 'it', \"it's\", 'its',\n",
              "                            'itself', ...],\n",
              "                strip_accents=None, token_pattern='(?u)\\\\b\\\\w\\\\w+\\\\b',\n",
              "                tokenizer=None, vocabulary=None)"
            ]
          },
          "metadata": {
            "tags": []
          },
          "execution_count": 215
        }
      ]
    },
    {
      "cell_type": "markdown",
      "metadata": {
        "id": "CYD7_aU26RAL"
      },
      "source": [
        "Converting text to Numeric vector with vectorizer"
      ]
    },
    {
      "cell_type": "code",
      "metadata": {
        "id": "RbIhgTNTG87p"
      },
      "source": [
        "\r\n",
        "X_train_bow = uncontracted_vectorizer.transform(X_train.values)\r\n",
        "X_test_bow = uncontracted_vectorizer.transform(X_test.values)"
      ],
      "execution_count": 217,
      "outputs": []
    },
    {
      "cell_type": "markdown",
      "metadata": {
        "id": "H6jpnnrK85D2"
      },
      "source": [
        "#### Converting class labels to numerical representation"
      ]
    },
    {
      "cell_type": "code",
      "metadata": {
        "colab": {
          "base_uri": "https://localhost:8080/"
        },
        "id": "YK7rGLkfIWzb",
        "outputId": "0779fa8f-c214-44a4-c0d2-467503fde3be"
      },
      "source": [
        "# Also convert classes into categories\r\n",
        "label_encoder = preprocessing.LabelEncoder()\r\n",
        "label_encoder.fit(y_train)"
      ],
      "execution_count": 218,
      "outputs": [
        {
          "output_type": "execute_result",
          "data": {
            "text/plain": [
              "LabelEncoder()"
            ]
          },
          "metadata": {
            "tags": []
          },
          "execution_count": 218
        }
      ]
    },
    {
      "cell_type": "code",
      "metadata": {
        "colab": {
          "base_uri": "https://localhost:8080/"
        },
        "id": "i_JKvGgWJmJ1",
        "outputId": "d5a42ae0-c5e2-4f7c-a664-19aa4ef57e43"
      },
      "source": [
        "label_encoder.classes_"
      ],
      "execution_count": 219,
      "outputs": [
        {
          "output_type": "execute_result",
          "data": {
            "text/plain": [
              "array(['Bank Bailout', 'Budget', 'Credit Card', 'Family Finance',\n",
              "       'Job Benefits', 'Taxes'], dtype=object)"
            ]
          },
          "metadata": {
            "tags": []
          },
          "execution_count": 219
        }
      ]
    },
    {
      "cell_type": "code",
      "metadata": {
        "id": "51bEcZMYJQ49"
      },
      "source": [
        "train_y = label_encoder.transform(y_train.values)\r\n",
        "test_y = label_encoder.transform(y_test.values)"
      ],
      "execution_count": 220,
      "outputs": []
    },
    {
      "cell_type": "code",
      "metadata": {
        "colab": {
          "base_uri": "https://localhost:8080/"
        },
        "id": "8wlUe2gfJeXU",
        "outputId": "5088d799-80c9-47fd-e340-5a5b53684a23"
      },
      "source": [
        "train_y.shape"
      ],
      "execution_count": 221,
      "outputs": [
        {
          "output_type": "execute_result",
          "data": {
            "text/plain": [
              "(168,)"
            ]
          },
          "metadata": {
            "tags": []
          },
          "execution_count": 221
        }
      ]
    },
    {
      "cell_type": "markdown",
      "metadata": {
        "id": "4bWOBP_S9CRb"
      },
      "source": [
        "# Only experiments \r\n",
        "For final look over final notebook\r\n",
        "## Naive Bayse"
      ]
    },
    {
      "cell_type": "code",
      "metadata": {
        "colab": {
          "base_uri": "https://localhost:8080/"
        },
        "id": "_xwKJlqHeml2",
        "outputId": "24a67a60-c67c-478e-e95b-26688b90680d"
      },
      "source": [
        "#this model with 6193 vocab size\r\n",
        "\r\n",
        "#CV\r\n",
        "alpha_cv = []     #stores log(alpha) for plotting\r\n",
        "auc_cv = []    #stores auc value Test\r\n",
        "\r\n",
        "alpha_ = []  #stores alpha vaslue\r\n",
        "\r\n",
        "alpha_tr = []     #stores log(alpha) for plotting \r\n",
        "auc_tr = []       #stores AUC Score on Train\r\n",
        "\r\n",
        "i = 0.00001 #alpha value starting range\r\n",
        "\r\n",
        "while i<=1000:   \r\n",
        "    NB = MultinomialNB(alpha = i)\r\n",
        "    ovr_NB = OneVsRestClassifier(NB)    \r\n",
        "    ovr_NB.fit(X_train_bow, train_y)\r\n",
        "    \r\n",
        "    #Train Data\r\n",
        "    predicted = ovr_NB.predict_proba(X_train_bow)   #returns probablity score\r\n",
        "    # print(predicted.shape)\r\n",
        "    auc = metrics.roc_auc_score(train_y, predicted[:, :], multi_class='ovr')\r\n",
        "    auc_tr.append(auc)\r\n",
        "    alpha_tr.append(math.log(i))\r\n",
        "    \r\n",
        "    # #Cv Data\r\n",
        "    predicted_ = ovr_NB.predict_proba(X_test_bow)   #returns probablity score\r\n",
        "    # print(predicted_.shape)\r\n",
        "    auc_ = metrics.roc_auc_score(test_y, predicted_[:, :], multi_class='ovr')\r\n",
        "    auc_cv.append(auc_)\r\n",
        "    alpha_cv.append(math.log(i))\r\n",
        "    \r\n",
        "    \r\n",
        "    alpha_.append(i)\r\n",
        "    \r\n",
        "    i *= 10\r\n",
        "    \r\n",
        "    \r\n",
        "#printing the alpha and corresponding AUC value\r\n",
        "print(\"AUC Score on CV:\")\r\n",
        "for x in range(0, len(alpha_)):\r\n",
        "    print(\"Alpha: {}, AUC: {}\".format(alpha_[x], auc_cv[x]))\r\n",
        "\r\n",
        "print(\"\\nAUC Score on Train:\")\r\n",
        "for x in range(0, len(alpha_)):\r\n",
        "    print(\"Alpha: {}, AUC: {}\".format(alpha_[x], auc_tr[x]))"
      ],
      "execution_count": 223,
      "outputs": [
        {
          "output_type": "stream",
          "text": [
            "AUC Score on CV:\n",
            "Alpha: 1e-05, AUC: 0.8833947313605331\n",
            "Alpha: 0.0001, AUC: 0.8912660556381075\n",
            "Alpha: 0.001, AUC: 0.9257521558302809\n",
            "Alpha: 0.01, AUC: 0.9692374465811966\n",
            "Alpha: 0.1, AUC: 0.9824027968559218\n",
            "Alpha: 1.0, AUC: 0.9259736212861213\n",
            "Alpha: 10.0, AUC: 0.8426978703511722\n",
            "Alpha: 100.0, AUC: 0.8283195124462504\n",
            "Alpha: 1000.0, AUC: 0.8090433453159992\n",
            "\n",
            "AUC Score on Train:\n",
            "Alpha: 1e-05, AUC: 1.0\n",
            "Alpha: 0.0001, AUC: 1.0\n",
            "Alpha: 0.001, AUC: 1.0\n",
            "Alpha: 0.01, AUC: 1.0\n",
            "Alpha: 0.1, AUC: 1.0\n",
            "Alpha: 1.0, AUC: 1.0\n",
            "Alpha: 10.0, AUC: 0.9480538430498046\n",
            "Alpha: 100.0, AUC: 0.8689959138014496\n",
            "Alpha: 1000.0, AUC: 0.839068445944299\n"
          ],
          "name": "stdout"
        }
      ]
    },
    {
      "cell_type": "code",
      "metadata": {
        "colab": {
          "base_uri": "https://localhost:8080/",
          "height": 295
        },
        "id": "qXb2fU9_eml3",
        "outputId": "53035081-8927-4a5e-c567-7e6a911f562e"
      },
      "source": [
        "plt.plot(alpha_tr, auc_tr, label=\"Train-AUC\")\r\n",
        "plt.plot(alpha_cv, auc_cv, label=\"Velidation-AUC\")\r\n",
        "plt.xlabel(\"Hyperparameter(alpha)\")\r\n",
        "plt.ylabel(\"Area Under Curve\"); plt.title(\"Performance of model for diff alpha\")\r\n",
        "plt.legend()\r\n",
        "plt.grid()\r\n",
        "plt.show()"
      ],
      "execution_count": 224,
      "outputs": [
        {
          "output_type": "display_data",
          "data": {
            "image/png": "[encoded data removed]",
            "text/plain": [
              "<Figure size 432x288 with 1 Axes>"
            ]
          },
          "metadata": {
            "tags": []
          }
        }
      ]
    },
    {
      "cell_type": "code",
      "metadata": {
        "colab": {
          "base_uri": "https://localhost:8080/"
        },
        "id": "EpO6TTBQeml4",
        "outputId": "3fd31294-4853-4202-f90d-2ad613bb32cc"
      },
      "source": [
        "# train final model with optimal alpha = 0.1\r\n",
        "NB = MultinomialNB(alpha = 0.1)\r\n",
        "ovr_NB = OneVsRestClassifier(NB)    \r\n",
        "ovr_NB.fit(X_train_bow, train_y)\r\n",
        "\r\n",
        "#Train Data\r\n",
        "predicted = ovr_NB.predict_proba(X_train_bow)   #returns probablity score\r\n",
        "# print(predicted.shape)\r\n",
        "auc = metrics.roc_auc_score(train_y, predicted[:, :], multi_class='ovr')\r\n",
        "print('AUC with alpha = 0.1 on train : ', auc)\r\n",
        "\r\n",
        "# #Cv Data\r\n",
        "predicted_ = ovr_NB.predict_proba(X_test_bow)   #returns probablity score\r\n",
        "# print(predicted_.shape)\r\n",
        "auc_ = metrics.roc_auc_score(test_y, predicted_[:, :], multi_class='ovr')\r\n",
        "print('AUC with alpha = 0.1 on test : ', auc_)"
      ],
      "execution_count": 225,
      "outputs": [
        {
          "output_type": "stream",
          "text": [
            "AUC with alpha = 0.1 on train :  1.0\n",
            "AUC with alpha = 0.1 on test :  0.9824027968559218\n"
          ],
          "name": "stdout"
        }
      ]
    },
    {
      "cell_type": "code",
      "metadata": {
        "colab": {
          "base_uri": "https://localhost:8080/"
        },
        "id": "qqZhNbRQeml5",
        "outputId": "fb24a410-75db-41de-cb66-f5745c7e4972"
      },
      "source": [
        "y_test.value_counts()"
      ],
      "execution_count": 226,
      "outputs": [
        {
          "output_type": "execute_result",
          "data": {
            "text/plain": [
              "Family Finance    19\n",
              "Taxes             16\n",
              "Job Benefits      16\n",
              "Credit Card       12\n",
              "Budget             7\n",
              "Bank Bailout       2\n",
              "Name: class_label, dtype: int64"
            ]
          },
          "metadata": {
            "tags": []
          },
          "execution_count": 226
        }
      ]
    },
    {
      "cell_type": "code",
      "metadata": {
        "colab": {
          "base_uri": "https://localhost:8080/",
          "height": 499
        },
        "id": "hhHJ1MRveml5",
        "outputId": "04625e52-8e23-4303-ae27-48e400da8c43"
      },
      "source": [
        "#confusion maetrics too see what happening\r\n",
        "#https://medium.com/@dtuk81/confusion-matrix-visualization-fc31e3f30fea\r\n",
        "predict = ovr_NB.predict(X_test_bow)\r\n",
        "cm = metrics.confusion_matrix(test_y, predict)\r\n",
        "plt.figure(figsize=(10, 8))\r\n",
        "sns.heatmap(cm, annot=True, xticklabels=target_label, yticklabels=target_label)\r\n",
        "plt.title('confusion Matrix')\r\n",
        "plt.show()"
      ],
      "execution_count": 227,
      "outputs": [
        {
          "output_type": "display_data",
          "data": {
            "image/png": "[encoded data removed]",
            "text/plain": [
              "<Figure size 720x576 with 2 Axes>"
            ]
          },
          "metadata": {
            "tags": []
          }
        }
      ]
    },
    {
      "cell_type": "markdown",
      "metadata": {
        "id": "f7On85ED9wG1"
      },
      "source": [
        "here AUC is good and model is also doing failry well on all of the class except on 'budget' class"
      ]
    },
    {
      "cell_type": "code",
      "metadata": {
        "colab": {
          "base_uri": "https://localhost:8080/",
          "height": 499
        },
        "id": "8YkfdBRweml5",
        "outputId": "994e10bc-96f8-4270-c509-6ba2479e2836"
      },
      "source": [
        "cm = metrics.confusion_matrix(test_y, predict)\r\n",
        "plt.figure(figsize=(10, 8))\r\n",
        "sns.heatmap(cm/np.sum(cm), annot=True, fmt='.01%', xticklabels=target_label, yticklabels=target_label)\r\n",
        "plt.title('confusion Matrix')\r\n",
        "plt.show()"
      ],
      "execution_count": 228,
      "outputs": [
        {
          "output_type": "display_data",
          "data": {
            "image/png": "[encoded data removed]",
            "text/plain": [
              "<Figure size 720x576 with 2 Axes>"
            ]
          },
          "metadata": {
            "tags": []
          }
        }
      ]
    },
    {
      "cell_type": "code",
      "metadata": {
        "id": "Av2fyH6tea9O"
      },
      "source": [
        ""
      ],
      "execution_count": null,
      "outputs": []
    },
    {
      "cell_type": "code",
      "metadata": {
        "id": "33RvEghxea_i"
      },
      "source": [
        ""
      ],
      "execution_count": null,
      "outputs": []
    },
    {
      "cell_type": "code",
      "metadata": {
        "id": "pLCkcywFdYyO"
      },
      "source": [
        ""
      ],
      "execution_count": null,
      "outputs": []
    },
    {
      "cell_type": "markdown",
      "metadata": {
        "id": "QiwILqxv9Mc3"
      },
      "source": [
        "### Model\r\n",
        "#### Hyperparameter tunning the Niave Bayse"
      ]
    },
    {
      "cell_type": "code",
      "metadata": {
        "colab": {
          "base_uri": "https://localhost:8080/"
        },
        "id": "KTWALSdcdZdn",
        "outputId": "0e8d48bc-e428-4748-8e07-81609b983be7"
      },
      "source": [
        "#this model with 6193 vocab size\r\n",
        "\r\n",
        "#CV\r\n",
        "alpha_cv = []     #stores log(alpha) for plotting\r\n",
        "auc_cv = []    #stores auc value Test\r\n",
        "\r\n",
        "alpha_ = []  #stores alpha vaslue\r\n",
        "\r\n",
        "alpha_tr = []     #stores log(alpha) for plotting \r\n",
        "auc_tr = []       #stores AUC Score on Train\r\n",
        "\r\n",
        "i = 0.00001 #alpha value starting range\r\n",
        "\r\n",
        "while i<=1000:   \r\n",
        "    NB = MultinomialNB(alpha = i)\r\n",
        "    ovr_NB = OneVsRestClassifier(NB)    \r\n",
        "    ovr_NB.fit(X_train_bow, train_y)\r\n",
        "    \r\n",
        "    #Train Data\r\n",
        "    predicted = ovr_NB.predict_proba(X_train_bow)   #returns probablity score\r\n",
        "    # print(predicted.shape)\r\n",
        "    auc = metrics.roc_auc_score(train_y, predicted[:, :], multi_class='ovr')\r\n",
        "    auc_tr.append(auc)\r\n",
        "    alpha_tr.append(math.log(i))\r\n",
        "    \r\n",
        "    # #Cv Data\r\n",
        "    predicted_ = ovr_NB.predict_proba(X_test_bow)   #returns probablity score\r\n",
        "    # print(predicted_.shape)\r\n",
        "    auc_ = metrics.roc_auc_score(test_y, predicted_[:, :], multi_class='ovr')\r\n",
        "    auc_cv.append(auc_)\r\n",
        "    alpha_cv.append(math.log(i))\r\n",
        "    \r\n",
        "    \r\n",
        "    alpha_.append(i)\r\n",
        "    \r\n",
        "    i *= 10\r\n",
        "    \r\n",
        "    \r\n",
        "#printing the alpha and corresponding AUC value\r\n",
        "print(\"AUC Score on CV:\")\r\n",
        "for x in range(0, len(alpha_)):\r\n",
        "    print(\"Alpha: {}, AUC: {}\".format(alpha_[x], auc_cv[x]))\r\n",
        "\r\n",
        "print(\"\\nAUC Score on Train:\")\r\n",
        "for x in range(0, len(alpha_)):\r\n",
        "    print(\"Alpha: {}, AUC: {}\".format(alpha_[x], auc_tr[x]))"
      ],
      "execution_count": 169,
      "outputs": [
        {
          "output_type": "stream",
          "text": [
            "AUC Score on CV:\n",
            "Alpha: 1e-05, AUC: 0.8809021718367237\n",
            "Alpha: 0.0001, AUC: 0.8896736365486365\n",
            "Alpha: 0.001, AUC: 0.9219813606532358\n",
            "Alpha: 0.01, AUC: 0.9725773936711436\n",
            "Alpha: 0.1, AUC: 0.9875713840557592\n",
            "Alpha: 1.0, AUC: 0.9742715328652829\n",
            "Alpha: 10.0, AUC: 0.953750445156695\n",
            "Alpha: 100.0, AUC: 0.9452984989409704\n",
            "Alpha: 1000.0, AUC: 0.9449242389279319\n",
            "\n",
            "AUC Score on Train:\n",
            "Alpha: 1e-05, AUC: 1.0\n",
            "Alpha: 0.0001, AUC: 1.0\n",
            "Alpha: 0.001, AUC: 1.0\n",
            "Alpha: 0.01, AUC: 1.0\n",
            "Alpha: 0.1, AUC: 1.0\n",
            "Alpha: 1.0, AUC: 1.0\n",
            "Alpha: 10.0, AUC: 0.9977001984378067\n",
            "Alpha: 100.0, AUC: 0.9887389878235773\n",
            "Alpha: 1000.0, AUC: 0.9821700417274698\n"
          ],
          "name": "stdout"
        }
      ]
    },
    {
      "cell_type": "code",
      "metadata": {
        "colab": {
          "base_uri": "https://localhost:8080/"
        },
        "id": "T9XxaJBNdZds",
        "outputId": "9860a45f-ae5e-429f-9466-0dd0e3d85eac"
      },
      "source": [
        "predicted_[0:1, :].shape"
      ],
      "execution_count": 170,
      "outputs": [
        {
          "output_type": "execute_result",
          "data": {
            "text/plain": [
              "(1, 6)"
            ]
          },
          "metadata": {
            "tags": []
          },
          "execution_count": 170
        }
      ]
    },
    {
      "cell_type": "code",
      "metadata": {
        "colab": {
          "base_uri": "https://localhost:8080/",
          "height": 295
        },
        "id": "scykYyuDdZdu",
        "outputId": "0ce93ee3-166f-4e06-f9e6-426452100f4a"
      },
      "source": [
        "plt.plot(alpha_tr, auc_tr, label=\"Train-AUC\")\r\n",
        "plt.plot(alpha_cv, auc_cv, label=\"Velidation-AUC\")\r\n",
        "plt.xlabel(\"Hyperparameter(alpha)\")\r\n",
        "plt.ylabel(\"Area Under Curve\"); plt.title(\"Performance of model for diff alpha\")\r\n",
        "plt.legend()\r\n",
        "plt.grid()\r\n",
        "plt.show()"
      ],
      "execution_count": 171,
      "outputs": [
        {
          "output_type": "display_data",
          "data": {
            "image/png": "[encoded data removed]",
            "text/plain": [
              "<Figure size 432x288 with 1 Axes>"
            ]
          },
          "metadata": {
            "tags": []
          }
        }
      ]
    },
    {
      "cell_type": "markdown",
      "metadata": {
        "id": "1D3xc0uR9aeg"
      },
      "source": [
        "The optimal value for alpha = 0.1 for that we have max AUC score"
      ]
    },
    {
      "cell_type": "code",
      "metadata": {
        "colab": {
          "base_uri": "https://localhost:8080/"
        },
        "id": "8xlZ-boHdZdw",
        "outputId": "b9af43ec-91c7-454b-a833-6afd1d15bda9"
      },
      "source": [
        "# train final model with optimal alpha = 0.1\r\n",
        "NB = MultinomialNB(alpha = 0.1)\r\n",
        "ovr_NB = OneVsRestClassifier(NB)    \r\n",
        "ovr_NB.fit(X_train_bow, train_y)\r\n",
        "\r\n",
        "#Train Data\r\n",
        "predicted = ovr_NB.predict_proba(X_train_bow)   #returns probablity score\r\n",
        "# print(predicted.shape)\r\n",
        "auc = metrics.roc_auc_score(train_y, predicted[:, :], multi_class='ovr')\r\n",
        "print('AUC with alpha = 0.1 on train : ', auc)\r\n",
        "\r\n",
        "# #Cv Data\r\n",
        "predicted_ = ovr_NB.predict_proba(X_test_bow)   #returns probablity score\r\n",
        "# print(predicted_.shape)\r\n",
        "auc_ = metrics.roc_auc_score(test_y, predicted_[:, :], multi_class='ovr')\r\n",
        "print('AUC with alpha = 0.1 on test : ', auc_)"
      ],
      "execution_count": 172,
      "outputs": [
        {
          "output_type": "stream",
          "text": [
            "AUC with alpha = 0.1 on train :  1.0\n",
            "AUC with alpha = 0.1 on test :  0.9875713840557592\n"
          ],
          "name": "stdout"
        }
      ]
    },
    {
      "cell_type": "code",
      "metadata": {
        "colab": {
          "base_uri": "https://localhost:8080/"
        },
        "id": "giShx2wNdZdz",
        "outputId": "d465eb3e-5129-4166-9d84-31ab918103ab"
      },
      "source": [
        "y_test.value_counts()"
      ],
      "execution_count": 173,
      "outputs": [
        {
          "output_type": "execute_result",
          "data": {
            "text/plain": [
              "Family Finance    19\n",
              "Taxes             16\n",
              "Job Benefits      16\n",
              "Credit Card       12\n",
              "Budget             7\n",
              "Bank Bailout       2\n",
              "Name: class_label, dtype: int64"
            ]
          },
          "metadata": {
            "tags": []
          },
          "execution_count": 173
        }
      ]
    },
    {
      "cell_type": "code",
      "metadata": {
        "colab": {
          "base_uri": "https://localhost:8080/",
          "height": 499
        },
        "id": "RiaeHy-udZd0",
        "outputId": "804225d5-0d99-4838-ad0d-3b771c11d978"
      },
      "source": [
        "#confusion maetrics too see what happening\r\n",
        "#https://medium.com/@dtuk81/confusion-matrix-visualization-fc31e3f30fea\r\n",
        "predict = ovr_NB.predict(X_test_bow)\r\n",
        "cm = metrics.confusion_matrix(test_y, predict)\r\n",
        "plt.figure(figsize=(10, 8))\r\n",
        "sns.heatmap(cm, annot=True, xticklabels=target_label, yticklabels=target_label)\r\n",
        "plt.title('confusion Matrix')\r\n",
        "plt.show()"
      ],
      "execution_count": 174,
      "outputs": [
        {
          "output_type": "display_data",
          "data": {
            "image/png": "[encoded data removed]",
            "text/plain": [
              "<Figure size 720x576 with 2 Axes>"
            ]
          },
          "metadata": {
            "tags": []
          }
        }
      ]
    },
    {
      "cell_type": "markdown",
      "metadata": {
        "id": "g9flXBXh9jLg"
      },
      "source": [
        "So here we can see, this model is fairly good at minor class compare to others. AUC score is highest here."
      ]
    },
    {
      "cell_type": "code",
      "metadata": {
        "colab": {
          "base_uri": "https://localhost:8080/",
          "height": 499
        },
        "id": "ronNNgAmdZd2",
        "outputId": "964e444c-5b0f-41b4-e0a4-3032e2befa27"
      },
      "source": [
        "cm = metrics.confusion_matrix(test_y, predict)\r\n",
        "plt.figure(figsize=(10, 8))\r\n",
        "sns.heatmap(cm/np.sum(cm), annot=True, fmt='.01%', xticklabels=target_label, yticklabels=target_label)\r\n",
        "plt.title('confusion Matrix')\r\n",
        "plt.show()"
      ],
      "execution_count": 175,
      "outputs": [
        {
          "output_type": "display_data",
          "data": {
            "image/png": "[encoded data removed]",
            "text/plain": [
              "<Figure size 720x576 with 2 Axes>"
            ]
          },
          "metadata": {
            "tags": []
          }
        }
      ]
    },
    {
      "cell_type": "code",
      "metadata": {
        "id": "2eb2hKBbdY06"
      },
      "source": [
        "#save this model on disk\r\n",
        "pickle.dump((ovr_NB),open('nb_over_optimal_2.pkl','wb'))\r\n",
        "\r\n",
        "# to reload the model\r\n",
        "#ovr_NB = pickle.load(open(\"nb_over_optimal.pkl\", 'rb'))\r\n",
        "\r\n",
        "#saving vectorizer\r\n",
        "pickle.dump((uncontracted_vectorizer),open('nb_uncontracted_vectorizer_2.pkl','wb'))\r\n",
        "\r\n",
        "#saving label encoder\r\n",
        "pickle.dump((label_encoder),open('nb_uncontracted_label_encoder_2.pkl','wb'))"
      ],
      "execution_count": 176,
      "outputs": []
    },
    {
      "cell_type": "code",
      "metadata": {
        "id": "c_MhQCBKdY3I"
      },
      "source": [
        ""
      ],
      "execution_count": null,
      "outputs": []
    },
    {
      "cell_type": "code",
      "metadata": {
        "id": "LARepF6ZdY5T"
      },
      "source": [
        ""
      ],
      "execution_count": null,
      "outputs": []
    },
    {
      "cell_type": "code",
      "metadata": {
        "id": "QKv4UCZ_dY8M"
      },
      "source": [
        ""
      ],
      "execution_count": null,
      "outputs": []
    },
    {
      "cell_type": "code",
      "metadata": {
        "id": "xL_qjuN5dY-U"
      },
      "source": [
        ""
      ],
      "execution_count": null,
      "outputs": []
    },
    {
      "cell_type": "code",
      "metadata": {
        "id": "ylwQVtB-HVTw"
      },
      "source": [
        "# I removed those stopwords that's why the vocab size so the vector dimentionality is only 6k"
      ],
      "execution_count": 96,
      "outputs": []
    },
    {
      "cell_type": "code",
      "metadata": {
        "colab": {
          "base_uri": "https://localhost:8080/"
        },
        "id": "68TR5hzsHe4o",
        "outputId": "ee213d0b-cd6d-4a61-9264-911e558969d9"
      },
      "source": [
        "#this model with 6249 vocab size\r\n",
        "\r\n",
        "#CV\r\n",
        "alpha_cv = []     #stores log(alpha) for plotting\r\n",
        "auc_cv = []    #stores auc value Test\r\n",
        "\r\n",
        "alpha_ = []  #stores alpha vaslue\r\n",
        "\r\n",
        "alpha_tr = []     #stores log(alpha) for plotting \r\n",
        "auc_tr = []       #stores AUC Score on Train\r\n",
        "\r\n",
        "i = 0.00001 #alpha value starting range\r\n",
        "\r\n",
        "while i<=1000:   \r\n",
        "    NB = MultinomialNB(alpha = i)\r\n",
        "    ovr_NB = OneVsRestClassifier(NB)    \r\n",
        "    ovr_NB.fit(X_train_bow, train_y)\r\n",
        "    \r\n",
        "    #Train Data\r\n",
        "    predicted = ovr_NB.predict_proba(X_train_bow)   #returns probablity score\r\n",
        "    # print(predicted.shape)\r\n",
        "    auc = metrics.roc_auc_score(train_y, predicted[:, :], multi_class='ovr')\r\n",
        "    auc_tr.append(auc)\r\n",
        "    alpha_tr.append(math.log(i))\r\n",
        "    \r\n",
        "    # #Cv Data\r\n",
        "    predicted_ = ovr_NB.predict_proba(X_test_bow)   #returns probablity score\r\n",
        "    # print(predicted_.shape)\r\n",
        "    auc_ = metrics.roc_auc_score(test_y, predicted_[:, :], multi_class='ovr')\r\n",
        "    auc_cv.append(auc_)\r\n",
        "    alpha_cv.append(math.log(i))\r\n",
        "    \r\n",
        "    \r\n",
        "    alpha_.append(i)\r\n",
        "    \r\n",
        "    i *= 10\r\n",
        "    \r\n",
        "    \r\n",
        "#printing the alpha and corresponding AUC value\r\n",
        "print(\"AUC Score on CV:\")\r\n",
        "for x in range(0, len(alpha_)):\r\n",
        "    print(\"Alpha: {}, AUC: {}\".format(alpha_[x], auc_cv[x]))\r\n",
        "\r\n",
        "print(\"\\nAUC Score on Train:\")\r\n",
        "for x in range(0, len(alpha_)):\r\n",
        "    print(\"Alpha: {}, AUC: {}\".format(alpha_[x], auc_tr[x]))"
      ],
      "execution_count": 97,
      "outputs": [
        {
          "output_type": "stream",
          "text": [
            "AUC Score on CV:\n",
            "Alpha: 1e-05, AUC: 0.8758976762530014\n",
            "Alpha: 0.0001, AUC: 0.8892343518611984\n",
            "Alpha: 0.001, AUC: 0.8603708791208792\n",
            "Alpha: 0.01, AUC: 0.9806175595238096\n",
            "Alpha: 0.1, AUC: 0.9867216117216118\n",
            "Alpha: 1.0, AUC: 0.9048138874944982\n",
            "Alpha: 10.0, AUC: 0.8106746933553041\n",
            "Alpha: 100.0, AUC: 0.8072058150183151\n",
            "Alpha: 1000.0, AUC: 0.8064565156996264\n",
            "\n",
            "AUC Score on Train:\n",
            "Alpha: 1e-05, AUC: 1.0\n",
            "Alpha: 0.0001, AUC: 1.0\n",
            "Alpha: 0.001, AUC: 1.0\n",
            "Alpha: 0.01, AUC: 1.0\n",
            "Alpha: 0.1, AUC: 1.0\n",
            "Alpha: 1.0, AUC: 1.0\n",
            "Alpha: 10.0, AUC: 0.9352158969522074\n",
            "Alpha: 100.0, AUC: 0.8717885449134205\n",
            "Alpha: 1000.0, AUC: 0.8504471700113984\n"
          ],
          "name": "stdout"
        }
      ]
    },
    {
      "cell_type": "code",
      "metadata": {
        "colab": {
          "base_uri": "https://localhost:8080/"
        },
        "id": "ZesWEMNpHkjx",
        "outputId": "a8723a6f-bba8-4e26-9698-125845fe7b48"
      },
      "source": [
        "predicted_[0:1, :].shape"
      ],
      "execution_count": 98,
      "outputs": [
        {
          "output_type": "execute_result",
          "data": {
            "text/plain": [
              "(1, 6)"
            ]
          },
          "metadata": {
            "tags": []
          },
          "execution_count": 98
        }
      ]
    },
    {
      "cell_type": "code",
      "metadata": {
        "colab": {
          "base_uri": "https://localhost:8080/",
          "height": 295
        },
        "id": "2HvN7GGGVk72",
        "outputId": "88b44520-6bb2-4562-ddf5-0a1c5441e18a"
      },
      "source": [
        "plt.plot(alpha_tr, auc_tr, label=\"Train-AUC\")\r\n",
        "plt.plot(alpha_cv, auc_cv, label=\"Velidation-AUC\")\r\n",
        "plt.xlabel(\"Hyperparameter(alpha)\")\r\n",
        "plt.ylabel(\"Area Under Curve\"); plt.title(\"Performance of model for diff alpha\")\r\n",
        "plt.legend()\r\n",
        "plt.grid()\r\n",
        "plt.show()"
      ],
      "execution_count": 99,
      "outputs": [
        {
          "output_type": "display_data",
          "data": {
            "image/png": "[encoded data removed]",
            "text/plain": [
              "<Figure size 432x288 with 1 Axes>"
            ]
          },
          "metadata": {
            "tags": [],
            "needs_background": "light"
          }
        }
      ]
    },
    {
      "cell_type": "code",
      "metadata": {
        "colab": {
          "base_uri": "https://localhost:8080/"
        },
        "id": "qCKjW8pqWOda",
        "outputId": "fd3ac8aa-1520-4ee0-cd97-2037c3896c0d"
      },
      "source": [
        "# train final model with optimal alpha = 0.1\r\n",
        "NB = MultinomialNB(alpha = 0.1)\r\n",
        "ovr_NB = OneVsRestClassifier(NB)    \r\n",
        "ovr_NB.fit(X_train_bow, train_y)\r\n",
        "\r\n",
        "#Train Data\r\n",
        "predicted = ovr_NB.predict_proba(X_train_bow)   #returns probablity score\r\n",
        "# print(predicted.shape)\r\n",
        "auc = metrics.roc_auc_score(train_y, predicted[:, :], multi_class='ovr')\r\n",
        "print('AUC with alpha = 0.1 on train : ', auc)\r\n",
        "\r\n",
        "# #Cv Data\r\n",
        "predicted_ = ovr_NB.predict_proba(X_test_bow)   #returns probablity score\r\n",
        "# print(predicted_.shape)\r\n",
        "auc_ = metrics.roc_auc_score(test_y, predicted_[:, :], multi_class='ovr')\r\n",
        "print('AUC with alpha = 0.1 on test : ', auc_)"
      ],
      "execution_count": 129,
      "outputs": [
        {
          "output_type": "stream",
          "text": [
            "AUC with alpha = 0.1 on train :  1.0\n",
            "AUC with alpha = 0.1 on test :  0.9824027968559218\n"
          ],
          "name": "stdout"
        }
      ]
    },
    {
      "cell_type": "code",
      "metadata": {
        "colab": {
          "base_uri": "https://localhost:8080/"
        },
        "id": "rX8KZhK3yy32",
        "outputId": "5c461159-fd79-4703-c2b2-06976e5ea5dc"
      },
      "source": [
        "y_test.value_counts().values / y_test.value_counts().values.sum()"
      ],
      "execution_count": 130,
      "outputs": [
        {
          "output_type": "execute_result",
          "data": {
            "text/plain": [
              "array([0.26388889, 0.22222222, 0.22222222, 0.16666667, 0.09722222,\n",
              "       0.02777778])"
            ]
          },
          "metadata": {
            "tags": []
          },
          "execution_count": 130
        }
      ]
    },
    {
      "cell_type": "code",
      "metadata": {
        "colab": {
          "base_uri": "https://localhost:8080/"
        },
        "id": "285FHaZ89yU9",
        "outputId": "03e5240d-5682-438b-f753-339488049f1e"
      },
      "source": [
        "y_test.value_counts()"
      ],
      "execution_count": 131,
      "outputs": [
        {
          "output_type": "execute_result",
          "data": {
            "text/plain": [
              "Family Finance    19\n",
              "Taxes             16\n",
              "Job Benefits      16\n",
              "Credit Card       12\n",
              "Budget             7\n",
              "Bank Bailout       2\n",
              "Name: class_label, dtype: int64"
            ]
          },
          "metadata": {
            "tags": []
          },
          "execution_count": 131
        }
      ]
    },
    {
      "cell_type": "code",
      "metadata": {
        "id": "udVFwkFnX94f"
      },
      "source": [
        "target_label = list(label_encoder.classes_)"
      ],
      "execution_count": 132,
      "outputs": []
    },
    {
      "cell_type": "code",
      "metadata": {
        "colab": {
          "base_uri": "https://localhost:8080/",
          "height": 499
        },
        "id": "WfDeBaodXMfL",
        "outputId": "d7396db0-6812-4d63-8460-0f1e3a0281f2"
      },
      "source": [
        "#confusion maetrics too see what happening\r\n",
        "#https://medium.com/@dtuk81/confusion-matrix-visualization-fc31e3f30fea\r\n",
        "predict = ovr_NB.predict(X_test_bow)\r\n",
        "cm = metrics.confusion_matrix(test_y, predict)\r\n",
        "plt.figure(figsize=(10, 8))\r\n",
        "sns.heatmap(cm, annot=True, xticklabels=target_label, yticklabels=target_label)\r\n",
        "plt.title('confusion Matrix')\r\n",
        "plt.show()"
      ],
      "execution_count": 133,
      "outputs": [
        {
          "output_type": "display_data",
          "data": {
            "image/png": "[encoded data removed]",
            "text/plain": [
              "<Figure size 720x576 with 2 Axes>"
            ]
          },
          "metadata": {
            "tags": []
          }
        }
      ]
    },
    {
      "cell_type": "code",
      "metadata": {
        "colab": {
          "base_uri": "https://localhost:8080/",
          "height": 499
        },
        "id": "A46s0o_fXdkl",
        "outputId": "816d48ad-4a2d-4eaa-956d-693c2acfba17"
      },
      "source": [
        "cm = metrics.confusion_matrix(test_y, predict)\r\n",
        "plt.figure(figsize=(10, 8))\r\n",
        "sns.heatmap(cm/np.sum(cm), annot=True, fmt='.01%', xticklabels=target_label, yticklabels=target_label)\r\n",
        "plt.title('confusion Matrix')\r\n",
        "plt.show()"
      ],
      "execution_count": 134,
      "outputs": [
        {
          "output_type": "display_data",
          "data": {
            "image/png": "[encoded data removed]",
            "text/plain": [
              "<Figure size 720x576 with 2 Axes>"
            ]
          },
          "metadata": {
            "tags": []
          }
        }
      ]
    },
    {
      "cell_type": "code",
      "metadata": {
        "id": "JsVdp08YHU28"
      },
      "source": [
        "#save this model on disk\r\n",
        "pickle.dump((ovr_NB),open('nb_over_optimal.pkl','wb'))\r\n",
        "\r\n",
        "# to reload the model\r\n",
        "#ovr_NB = pickle.load(open(\"nb_over_optimal.pkl\", 'rb'))\r\n",
        "\r\n",
        "#saving vectorizer\r\n",
        "pickle.dump((uncontracted_vectorizer),open('nb_uncontracted_vectorizer.pkl','wb'))\r\n",
        "\r\n",
        "#saving label encoder\r\n",
        "pickle.dump((label_encoder),open('nb_uncontracted_label_encoder.pkl','wb'))"
      ],
      "execution_count": 135,
      "outputs": []
    },
    {
      "cell_type": "code",
      "metadata": {
        "id": "lG0PpWoFV884"
      },
      "source": [
        "#saving vectorizer\r\n",
        "pickle.dump((uncontracted_vectorizer),open('nb_uncontracted_vectorizer.pkl','wb'))"
      ],
      "execution_count": 136,
      "outputs": []
    },
    {
      "cell_type": "code",
      "metadata": {
        "id": "BVPp0DGPXcMc"
      },
      "source": [
        "#saving label encoder\r\n",
        "pickle.dump((label_encoder),open('nb_uncontracted_label_encoder.pkl','wb'))"
      ],
      "execution_count": 137,
      "outputs": []
    },
    {
      "cell_type": "code",
      "metadata": {
        "id": "3tQvA1amXsY6"
      },
      "source": [
        "# We'll get feature importance"
      ],
      "execution_count": 138,
      "outputs": []
    },
    {
      "cell_type": "markdown",
      "metadata": {
        "id": "_5-Co54-_2zg"
      },
      "source": [
        "## logisitc Regression"
      ]
    },
    {
      "cell_type": "code",
      "metadata": {
        "id": "cSZzM1d1bTXT"
      },
      "source": [
        "#logistic regression and see how does it work - main goal is to have a model which works fairly good on 'Budget' and 'Bank Bailout' samples"
      ],
      "execution_count": null,
      "outputs": []
    },
    {
      "cell_type": "code",
      "metadata": {
        "id": "VNsSh_fh_vYu"
      },
      "source": [
        "from sklearn.linear_model import SGDClassifier"
      ],
      "execution_count": 561,
      "outputs": []
    },
    {
      "cell_type": "code",
      "metadata": {
        "colab": {
          "base_uri": "https://localhost:8080/"
        },
        "id": "-JIZIX14_vbH",
        "outputId": "e7679f3a-378d-44de-9e77-9085a6f5aec5"
      },
      "source": [
        "#define SGD classifier\r\n",
        "\r\n",
        "#AUC on Train & CV\r\n",
        "cv_auc = []\r\n",
        "tr_auc = []\r\n",
        "\r\n",
        "c_list = []\r\n",
        "c_log = []\r\n",
        "\r\n",
        "i = 10**-4\r\n",
        "while i<=1000:\r\n",
        "    log_clsfr = SGDClassifier(loss='log', alpha=i, penalty='l2',learning_rate='adaptive', eta0=0.01)\r\n",
        "    log_clsfr_ovr = OneVsRestClassifier(log_clsfr)\r\n",
        "    log_clsfr_ovr.fit(X_train_bow, train_y)\r\n",
        "    \r\n",
        "    #Train\r\n",
        "    proba_score = log_clsfr_ovr.predict_proba(X_train_bow)\r\n",
        "    auc = metrics.roc_auc_score(train_y, proba_score[:, :], multi_class='ovr')\r\n",
        "    tr_auc.append(auc)\r\n",
        "    \r\n",
        "    #Velidation\r\n",
        "    proba_score_ = log_clsfr_ovr.predict_proba(X_test_bow)\r\n",
        "    auc_ = metrics.roc_auc_score(test_y, proba_score_[:, :], multi_class='ovr')\r\n",
        "    cv_auc.append(auc_)\r\n",
        "    \r\n",
        "    #Storing C and log(c) to list\r\n",
        "    c_list.append(i)\r\n",
        "    c_log.append(math.log(i))\r\n",
        "    \r\n",
        "    i*=10\r\n",
        "\r\n",
        "#Displaying message to Output\r\n",
        "print(\"AUC Score on Train\")\r\n",
        "for i in range(0, len(tr_auc)):\r\n",
        "    print(\"C:{}, Lambda:{}, AUC:{}\".format(c_list[i], 1/c_list[i], tr_auc[i]))\r\n",
        "    \r\n",
        "print(\"\\nAUC Score on Velidation\")\r\n",
        "for i in range(0, len(cv_auc)):\r\n",
        "    print(\"C:{}, Lambda:{}, AUC:{}\".format(c_list[i], 1/c_list[i], cv_auc[i]))"
      ],
      "execution_count": 587,
      "outputs": [
        {
          "output_type": "stream",
          "text": [
            "AUC Score on Train\n",
            "C:0.0001, Lambda:10000.0, AUC:1.0\n",
            "C:0.001, Lambda:1000.0, AUC:1.0\n",
            "C:0.01, Lambda:100.0, AUC:1.0\n",
            "C:0.1, Lambda:10.0, AUC:1.0\n",
            "C:1.0, Lambda:1.0, AUC:1.0\n",
            "C:10.0, Lambda:0.1, AUC:0.9686588440161996\n",
            "C:100.0, Lambda:0.01, AUC:0.8245623749783108\n",
            "C:1000.0, Lambda:0.001, AUC:0.7132171733526733\n",
            "\n",
            "AUC Score on Velidation\n",
            "C:0.0001, Lambda:10000.0, AUC:0.9371757940650692\n",
            "C:0.001, Lambda:1000.0, AUC:0.9265552779657175\n",
            "C:0.01, Lambda:100.0, AUC:0.9663415276646098\n",
            "C:0.1, Lambda:10.0, AUC:0.9280880843279986\n",
            "C:1.0, Lambda:1.0, AUC:0.9444353771159878\n",
            "C:10.0, Lambda:0.1, AUC:0.8847097797484155\n",
            "C:100.0, Lambda:0.01, AUC:0.8030378013247924\n",
            "C:1000.0, Lambda:0.001, AUC:0.7075105399009942\n"
          ],
          "name": "stdout"
        }
      ]
    },
    {
      "cell_type": "code",
      "metadata": {
        "colab": {
          "base_uri": "https://localhost:8080/",
          "height": 295
        },
        "id": "KytKcJ5s_vgc",
        "outputId": "6004b318-4463-4d4f-bdaf-cbc42aa1282e"
      },
      "source": [
        "plt.plot(c_log, tr_auc, label=\"Train-AUC\")\r\n",
        "plt.plot(c_log, cv_auc, label=\"Velidation-AUC\")\r\n",
        "plt.xlabel(\"Hyperparameter(alpha)\")\r\n",
        "plt.ylabel(\"Area Under Curve\"); plt.title(\"Performance of model for diff alpha\")\r\n",
        "plt.legend()\r\n",
        "plt.grid()\r\n",
        "plt.show()"
      ],
      "execution_count": 588,
      "outputs": [
        {
          "output_type": "display_data",
          "data": {
            "image/png": "[encoded data removed]",
            "text/plain": [
              "<Figure size 432x288 with 1 Axes>"
            ]
          },
          "metadata": {
            "tags": []
          }
        }
      ]
    },
    {
      "cell_type": "code",
      "metadata": {
        "colab": {
          "base_uri": "https://localhost:8080/"
        },
        "id": "kr27nL5pFX75",
        "outputId": "25b22381-4ec1-4ad4-dcfc-4daf5f5fa4b8"
      },
      "source": [
        "# finally we'll train a model with optimal alpha = \r\n",
        "\r\n",
        "log_clsfr = SGDClassifier(loss='log', alpha=0.01, penalty='l2',learning_rate='adaptive', eta0=0.01)\r\n",
        "log_clsfr_ovr = OneVsRestClassifier(log_clsfr)\r\n",
        "log_clsfr_ovr.fit(X_train_bow, train_y)\r\n",
        "\r\n",
        "#Train\r\n",
        "proba_score = log_clsfr_ovr.predict_proba(X_train_bow)\r\n",
        "auc = metrics.roc_auc_score(train_y, proba_score[:, :], multi_class='ovr')\r\n",
        "\r\n",
        "\r\n",
        "#Velidation\r\n",
        "proba_score_ = log_clsfr_ovr.predict_proba(X_test_bow)\r\n",
        "auc_ = metrics.roc_auc_score(test_y, proba_score_[:, :], multi_class='ovr')\r\n",
        "\r\n",
        "# #Cv Data\r\n",
        "predicted_ = log_clsfr_ovr.predict_proba(X_test_bow)   #returns probablity score\r\n",
        "# print(predicted_.shape)\r\n",
        "auc_ = metrics.roc_auc_score(test_y, predicted_[:, :], multi_class='ovr')\r\n",
        "print('AUC with alpha = 0.1 on test : ', auc_)"
      ],
      "execution_count": 589,
      "outputs": [
        {
          "output_type": "stream",
          "text": [
            "AUC with alpha = 0.1 on test :  0.9687931916930489\n"
          ],
          "name": "stdout"
        }
      ]
    },
    {
      "cell_type": "code",
      "metadata": {
        "colab": {
          "base_uri": "https://localhost:8080/",
          "height": 499
        },
        "id": "6wsbsgHAGKV6",
        "outputId": "7388565b-dba2-4c76-c185-1092dc3036ce"
      },
      "source": [
        "predict = log_clsfr_ovr.predict(X_test_bow)\r\n",
        "cm = metrics.confusion_matrix(test_y, predict)\r\n",
        "plt.figure(figsize=(10, 8))\r\n",
        "sns.heatmap(cm, annot=True, xticklabels=target_label, yticklabels=target_label)\r\n",
        "plt.title('confusion Matrix')\r\n",
        "plt.show()"
      ],
      "execution_count": 591,
      "outputs": [
        {
          "output_type": "display_data",
          "data": {
            "image/png": "[encoded data removed]",
            "text/plain": [
              "<Figure size 720x576 with 2 Axes>"
            ]
          },
          "metadata": {
            "tags": []
          }
        }
      ]
    },
    {
      "cell_type": "markdown",
      "metadata": {
        "id": "3yKbDvFz_6EH"
      },
      "source": [
        "## Decision tree"
      ]
    },
    {
      "cell_type": "code",
      "metadata": {
        "id": "l-SuYMe6GxDb"
      },
      "source": [
        "#Tree based models \r\n",
        "from sklearn.tree import DecisionTreeClassifier"
      ],
      "execution_count": 594,
      "outputs": []
    },
    {
      "cell_type": "code",
      "metadata": {
        "id": "XrewzK5rJAK9"
      },
      "source": [
        "cv_AUC = []  #this list stores AUC on CV data for different hyperparamter values\r\n",
        "train_AUC = [] #stores AUC on Train data for different hyperparameter values\r\n",
        "depth = [1, 5, 10, 50, 100, 500, 1000]\r\n",
        "min_samples_split=[5, 10, 100, 500]\r\n",
        "\r\n",
        "#for each depth\r\n",
        "for dept in depth:\r\n",
        "    \r\n",
        "    #storing auc score for each depth and all min_split to below list\r\n",
        "    train_auc = []\r\n",
        "    cv_auc = []\r\n",
        "        \r\n",
        "    #train model on for evry min samples split\r\n",
        "    for min_split in min_samples_split:\r\n",
        "        \r\n",
        "        #here i'm choosing splitter=random just because we have large dimenionality so choosing randomly \r\n",
        "        #will require less computional power\r\n",
        "        clsfr = DecisionTreeClassifier(splitter=\"random\", max_depth=dept, min_samples_split=min_split)\r\n",
        "        clsfr.fit(X_train_bow, train_y)\r\n",
        "        \r\n",
        "        #predicitng probablity score to compute AUC score on Train itself\r\n",
        "        probablity_score = clsfr.predict_proba(X_train_bow)\r\n",
        "        auc_score = metrics.roc_auc_score(train_y, probablity_score[:, :], multi_class='ovr')\r\n",
        "        \r\n",
        "        #storing AUC to train_AUC\r\n",
        "        train_auc.append(auc_score)\r\n",
        "        \r\n",
        "        \r\n",
        "        #predicting probablity score to compute AUC on CV \r\n",
        "        probablity_score = clsfr.predict_proba(X_test_bow)\r\n",
        "        auc_score = metrics.roc_auc_score(test_y, probablity_score[:, :], multi_class='ovr')\r\n",
        "        \r\n",
        "        #storing AUC to cv_AUC\r\n",
        "        cv_auc.append(auc_score)\r\n",
        "    \r\n",
        "    #appending list of AUC score on train and CV for each depth and min_sample_split\r\n",
        "    cv_AUC.append(cv_auc)\r\n",
        "    train_AUC.append(train_auc)"
      ],
      "execution_count": 595,
      "outputs": []
    },
    {
      "cell_type": "code",
      "metadata": {
        "colab": {
          "base_uri": "https://localhost:8080/"
        },
        "id": "BdxKYnYxJh70",
        "outputId": "67d8ee77-aa75-46b3-d86d-e01f6931fc3b"
      },
      "source": [
        "#print AUC on train & CV data\r\n",
        "for i in range(len(depth)):\r\n",
        "    for j in range(len(min_samples_split)):\r\n",
        "        print(\"For depth={} & min samples split={}; AUC on Train={} & CV={}\".format(depth[i], min_samples_split[j], train_AUC[i][j], cv_AUC[i][j]))"
      ],
      "execution_count": 598,
      "outputs": [
        {
          "output_type": "stream",
          "text": [
            "For depth=1 & min samples split=5; AUC on Train=0.6995835723185602 & CV=0.650880027233056\n",
            "For depth=1 & min samples split=10; AUC on Train=0.6495925525861412 & CV=0.6334318917455709\n",
            "For depth=1 & min samples split=100; AUC on Train=0.7100425156289241 & CV=0.7331174680169218\n",
            "For depth=1 & min samples split=500; AUC on Train=0.5 & CV=0.5\n",
            "For depth=5 & min samples split=5; AUC on Train=0.9702037988478982 & CV=0.8185231723289538\n",
            "For depth=5 & min samples split=10; AUC on Train=0.9758431522760794 & CV=0.8938861588071029\n",
            "For depth=5 & min samples split=100; AUC on Train=0.77981976267553 & CV=0.7219293409768676\n",
            "For depth=5 & min samples split=500; AUC on Train=0.5 & CV=0.5\n",
            "For depth=10 & min samples split=5; AUC on Train=0.9990361122673593 & CV=0.7794320581125448\n",
            "For depth=10 & min samples split=10; AUC on Train=0.9899506765870059 & CV=0.7841047513950473\n",
            "For depth=10 & min samples split=100; AUC on Train=0.8211523749168546 & CV=0.7846089150342191\n",
            "For depth=10 & min samples split=500; AUC on Train=0.5 & CV=0.5\n",
            "For depth=50 & min samples split=5; AUC on Train=0.9975370906240594 & CV=0.764111135374014\n",
            "For depth=50 & min samples split=10; AUC on Train=0.996927104555608 & CV=0.7908507832989585\n",
            "For depth=50 & min samples split=100; AUC on Train=0.7849823268127819 & CV=0.7769129780107623\n",
            "For depth=50 & min samples split=500; AUC on Train=0.5 & CV=0.5\n",
            "For depth=100 & min samples split=5; AUC on Train=0.9981319078988408 & CV=0.7864517592360194\n",
            "For depth=100 & min samples split=10; AUC on Train=0.9920725607806954 & CV=0.9304806896279868\n",
            "For depth=100 & min samples split=100; AUC on Train=0.8405444864860124 & CV=0.7879989422523713\n",
            "For depth=100 & min samples split=500; AUC on Train=0.5 & CV=0.5\n",
            "For depth=500 & min samples split=5; AUC on Train=0.9991030527538051 & CV=0.837951990977686\n",
            "For depth=500 & min samples split=10; AUC on Train=0.9943174936971976 & CV=0.8776923786117243\n",
            "For depth=500 & min samples split=100; AUC on Train=0.7899557313901253 & CV=0.7129360028488008\n",
            "For depth=500 & min samples split=500; AUC on Train=0.5 & CV=0.5\n",
            "For depth=1000 & min samples split=5; AUC on Train=0.9955590960727551 & CV=0.8421248826703612\n",
            "For depth=1000 & min samples split=10; AUC on Train=0.9964390591731122 & CV=0.8471095598136005\n",
            "For depth=1000 & min samples split=100; AUC on Train=0.8559603825972751 & CV=0.8509629240109627\n",
            "For depth=1000 & min samples split=500; AUC on Train=0.5 & CV=0.5\n"
          ],
          "name": "stdout"
        }
      ]
    },
    {
      "cell_type": "code",
      "metadata": {
        "colab": {
          "base_uri": "https://localhost:8080/"
        },
        "id": "KJ3toaX4Jjqq",
        "outputId": "08721b1a-dfaf-4da4-ca4c-b491b1bf615f"
      },
      "source": [
        "clsfr = DecisionTreeClassifier(splitter=\"best\", max_depth=10, min_samples_split=5)\r\n",
        "clsfr.fit(X_train_bow, train_y)\r\n",
        "\r\n",
        "#predicitng probablity score to compute AUC score on Train itself\r\n",
        "probablity_score = clsfr.predict_proba(X_train_bow)\r\n",
        "auc_score = metrics.roc_auc_score(train_y, probablity_score[:, :], multi_class='ovr')\r\n",
        "\r\n",
        "probablity_score = clsfr.predict_proba(X_test_bow)\r\n",
        "auc_score_ = metrics.roc_auc_score(test_y, probablity_score[:, :], multi_class='ovr')\r\n",
        "\r\n",
        "print(auc_score, auc_score_)"
      ],
      "execution_count": 612,
      "outputs": [
        {
          "output_type": "stream",
          "text": [
            "0.9993392369972675 0.8209956112311501\n"
          ],
          "name": "stdout"
        }
      ]
    },
    {
      "cell_type": "markdown",
      "metadata": {
        "id": "R-sve-DGMaeJ"
      },
      "source": [
        ""
      ]
    },
    {
      "cell_type": "code",
      "metadata": {
        "colab": {
          "base_uri": "https://localhost:8080/"
        },
        "id": "kpJuXh-iKEMb",
        "outputId": "c650c9b1-a68b-4182-8c0f-c0b76eb24488"
      },
      "source": [
        "#we'll upsample the data and try NB model with same parameters\r\n",
        "bank_ballout = data_uncontracted[data_uncontracted['class_label']=='Bank Bailout']"
      ],
      "execution_count": 616,
      "outputs": [
        {
          "output_type": "execute_result",
          "data": {
            "text/plain": [
              "(6, 3)"
            ]
          },
          "metadata": {
            "tags": []
          },
          "execution_count": 616
        }
      ]
    },
    {
      "cell_type": "code",
      "metadata": {
        "colab": {
          "base_uri": "https://localhost:8080/"
        },
        "id": "-nalfu__Lw-W",
        "outputId": "9811b725-16f9-4365-b992-404d090696c1"
      },
      "source": [
        "data_uncontracted.class_label.value_counts()"
      ],
      "execution_count": 614,
      "outputs": [
        {
          "output_type": "execute_result",
          "data": {
            "text/plain": [
              "Family Finance    63\n",
              "Taxes             54\n",
              "Job Benefits      54\n",
              "Credit Card       41\n",
              "Budget            22\n",
              "Bank Bailout       6\n",
              "Name: class_label, dtype: int64"
            ]
          },
          "metadata": {
            "tags": []
          },
          "execution_count": 614
        }
      ]
    },
    {
      "cell_type": "code",
      "metadata": {
        "colab": {
          "base_uri": "https://localhost:8080/"
        },
        "id": "bURAc2_dL0Cq",
        "outputId": "e9fc6674-8b91-40c1-f616-d9853fcc8a67"
      },
      "source": [
        "uncontracted_vectorizer = CountVectorizer(stop_words=stopwords_list, ngram_range=(1,2))\r\n",
        "uncontracted_vectorizer.fit(X_train.values)"
      ],
      "execution_count": 18,
      "outputs": [
        {
          "output_type": "execute_result",
          "data": {
            "text/plain": [
              "CountVectorizer(analyzer='word', binary=False, decode_error='strict',\n",
              "                dtype=<class 'numpy.int64'>, encoding='utf-8', input='content',\n",
              "                lowercase=True, max_df=1.0, max_features=None, min_df=1,\n",
              "                ngram_range=(1, 2), preprocessor=None,\n",
              "                stop_words=['i', 'me', 'my', 'myself', 'we', 'our', 'ours',\n",
              "                            'ourselves', 'you', \"you're\", \"you've\", \"you'll\",\n",
              "                            \"you'd\", 'your', 'yours', 'yourself', 'yourselves',\n",
              "                            'he', 'him', 'his', 'himself', 'she', \"she's\",\n",
              "                            'her', 'hers', 'herself', 'it', \"it's\", 'its',\n",
              "                            'itself', ...],\n",
              "                strip_accents=None, token_pattern='(?u)\\\\b\\\\w\\\\w+\\\\b',\n",
              "                tokenizer=None, vocabulary=None)"
            ]
          },
          "metadata": {
            "tags": []
          },
          "execution_count": 18
        }
      ]
    },
    {
      "cell_type": "code",
      "metadata": {
        "id": "rVJCmyxVMrTL"
      },
      "source": [
        "X_train_bow = uncontracted_vectorizer.transform(X_train.values)\r\n",
        "X_test_bow = uncontracted_vectorizer.transform(X_test.values)"
      ],
      "execution_count": 19,
      "outputs": []
    },
    {
      "cell_type": "code",
      "metadata": {
        "colab": {
          "base_uri": "https://localhost:8080/"
        },
        "id": "2zpFteBTM9aJ",
        "outputId": "3abe0cb0-2196-4e2c-a863-cce1d276de2d"
      },
      "source": [
        "X_train_bow.shape\r\n",
        "#no using bigram so vector size has increased significantly "
      ],
      "execution_count": 20,
      "outputs": [
        {
          "output_type": "execute_result",
          "data": {
            "text/plain": [
              "(168, 61077)"
            ]
          },
          "metadata": {
            "tags": []
          },
          "execution_count": 20
        }
      ]
    },
    {
      "cell_type": "code",
      "metadata": {
        "colab": {
          "base_uri": "https://localhost:8080/"
        },
        "id": "-4VxBlZPNZ6c",
        "outputId": "23993e38-5829-4457-ede4-0d88ccf2146d"
      },
      "source": [
        "X_test_bow.shape"
      ],
      "execution_count": 21,
      "outputs": [
        {
          "output_type": "execute_result",
          "data": {
            "text/plain": [
              "(72, 61077)"
            ]
          },
          "metadata": {
            "tags": []
          },
          "execution_count": 21
        }
      ]
    },
    {
      "cell_type": "code",
      "metadata": {
        "colab": {
          "base_uri": "https://localhost:8080/"
        },
        "id": "LEwaL_rTS-qr",
        "outputId": "56ff3a4d-529c-4657-ddc0-0ce9d82d5f75"
      },
      "source": [
        "label_encoder.classes_"
      ],
      "execution_count": 25,
      "outputs": [
        {
          "output_type": "execute_result",
          "data": {
            "text/plain": [
              "array(['Bank Bailout', 'Budget', 'Credit Card', 'Family Finance',\n",
              "       'Job Benefits', 'Taxes'], dtype=object)"
            ]
          },
          "metadata": {
            "tags": []
          },
          "execution_count": 25
        }
      ]
    },
    {
      "cell_type": "code",
      "metadata": {
        "colab": {
          "base_uri": "https://localhost:8080/"
        },
        "id": "5rntjNnPS71H",
        "outputId": "358da32a-85b1-4741-c16e-0fcb57fc5665"
      },
      "source": [
        "test_y[1]"
      ],
      "execution_count": 24,
      "outputs": [
        {
          "output_type": "execute_result",
          "data": {
            "text/plain": [
              "5"
            ]
          },
          "metadata": {
            "tags": []
          },
          "execution_count": 24
        }
      ]
    },
    {
      "cell_type": "code",
      "metadata": {
        "colab": {
          "base_uri": "https://localhost:8080/"
        },
        "id": "yTce8G7sM_Uk",
        "outputId": "a71ed2c6-75e2-4927-fe27-4a6d2cd36e1f"
      },
      "source": [
        "#CV\r\n",
        "alpha_cv = []     #stores log(alpha) for plotting\r\n",
        "auc_cv = []    #stores auc value Test\r\n",
        "\r\n",
        "alpha_ = []  #stores alpha vaslue\r\n",
        "\r\n",
        "alpha_tr = []     #stores log(alpha) for plotting \r\n",
        "auc_tr = []       #stores AUC Score on Train\r\n",
        "\r\n",
        "i = 0.01 #alpha value starting range\r\n",
        "\r\n",
        "while i<=1:\r\n",
        "    print(i) \r\n",
        "    NB = MultinomialNB(alpha = i)\r\n",
        "    ovr_NB = OneVsRestClassifier(NB)    \r\n",
        "    ovr_NB.fit(X_train_bow, train_y)\r\n",
        "    \r\n",
        "    #Train Data\r\n",
        "    predicted = ovr_NB.predict_proba(X_train_bow)   #returns probablity score\r\n",
        "    # print(predicted.shape)\r\n",
        "    auc = metrics.roc_auc_score(train_y, predicted[:, :], multi_class='ovr')\r\n",
        "    auc_tr.append(auc)\r\n",
        "    alpha_tr.append(math.log(i))\r\n",
        "    \r\n",
        "    # #Cv Data\r\n",
        "    predicted_ = ovr_NB.predict_proba(X_test_bow)   #returns probablity score\r\n",
        "    # print(predicted_)\r\n",
        "    # print(predicted_.shape)\r\n",
        "    auc_ = metrics.roc_auc_score(test_y, predicted_[:, :], multi_class='ovr')\r\n",
        "    auc_cv.append(auc_)\r\n",
        "    alpha_cv.append(math.log(i))\r\n",
        "    \r\n",
        "    \r\n",
        "    alpha_.append(i)\r\n",
        "    \r\n",
        "    i *= 10\r\n",
        "    \r\n",
        "    \r\n",
        "#printing the alpha and corresponding AUC value\r\n",
        "print(\"AUC Score on CV:\")\r\n",
        "for x in range(0, len(alpha_)):\r\n",
        "    print(\"Alpha: {}, AUC: {}\".format(alpha_[x], auc_cv[x]))\r\n",
        "\r\n",
        "print(\"\\nAUC Score on Train:\")\r\n",
        "for x in range(0, len(alpha_)):\r\n",
        "    print(\"Alpha: {}, AUC: {}\".format(alpha_[x], auc_tr[x]))"
      ],
      "execution_count": 40,
      "outputs": [
        {
          "output_type": "stream",
          "text": [
            "0.01\n",
            "0.1\n",
            "1.0\n",
            "AUC Score on CV:\n",
            "Alpha: 0.01, AUC: 0.8522664835164836\n",
            "Alpha: 0.1, AUC: 0.8956730769230768\n",
            "Alpha: 1.0, AUC: 0.8292124542124543\n",
            "\n",
            "AUC Score on Train:\n",
            "Alpha: 0.01, AUC: 1.0\n",
            "Alpha: 0.1, AUC: 1.0\n",
            "Alpha: 1.0, AUC: 1.0\n"
          ],
          "name": "stdout"
        }
      ]
    },
    {
      "cell_type": "code",
      "metadata": {
        "colab": {
          "base_uri": "https://localhost:8080/"
        },
        "id": "KfbEl0JtPYO-",
        "outputId": "5021e1da-8bc6-49fc-c411-6347ff61c456"
      },
      "source": [
        "# train final model with optimal alpha = 0.1\r\n",
        "NB = MultinomialNB(alpha = 0.1)\r\n",
        "ovr_NB = OneVsRestClassifier(NB)    \r\n",
        "ovr_NB.fit(X_train_bow, train_y)\r\n",
        "\r\n",
        "#Train Data\r\n",
        "predicted = ovr_NB.predict_proba(X_train_bow)   #returns probablity score\r\n",
        "# print(predicted.shape)\r\n",
        "auc = metrics.roc_auc_score(train_y, predicted[:, :], multi_class='ovr')\r\n",
        "print('AUC with alpha = 0.1 on train : ', auc)\r\n",
        "\r\n",
        "# #Cv Data\r\n",
        "predicted_ = ovr_NB.predict_proba(X_test_bow)   #returns probablity score\r\n",
        "# print(predicted_.shape)\r\n",
        "auc_ = metrics.roc_auc_score(test_y, predicted_[:, :], multi_class='ovr')\r\n",
        "print('AUC with alpha = 0.1 on test : ', auc_)"
      ],
      "execution_count": 42,
      "outputs": [
        {
          "output_type": "stream",
          "text": [
            "AUC with alpha = 0.1 on train :  1.0\n",
            "AUC with alpha = 0.1 on test :  0.8956730769230768\n"
          ],
          "name": "stdout"
        }
      ]
    },
    {
      "cell_type": "code",
      "metadata": {
        "id": "XOgoDNvsUcUF"
      },
      "source": [
        "target_label = label_encoder.classes_"
      ],
      "execution_count": 44,
      "outputs": []
    },
    {
      "cell_type": "code",
      "metadata": {
        "colab": {
          "base_uri": "https://localhost:8080/",
          "height": 499
        },
        "id": "PjiVl1Q_NNXp",
        "outputId": "50e3b199-9823-4787-a0ef-df7236921e9f"
      },
      "source": [
        "predict = ovr_NB.predict(X_test_bow)\r\n",
        "cm = metrics.confusion_matrix(test_y, predict)\r\n",
        "plt.figure(figsize=(10, 8))\r\n",
        "sns.heatmap(cm, annot=True, xticklabels=target_label, yticklabels=target_label)\r\n",
        "plt.title('confusion Matrix')\r\n",
        "plt.show()"
      ],
      "execution_count": 45,
      "outputs": [
        {
          "output_type": "display_data",
          "data": {
            "image/png": "[encoded data removed]",
            "text/plain": [
              "<Figure size 720x576 with 2 Axes>"
            ]
          },
          "metadata": {
            "tags": [],
            "needs_background": "light"
          }
        }
      ]
    },
    {
      "cell_type": "code",
      "metadata": {
        "id": "xflgRG0gUZ5M"
      },
      "source": [
        ""
      ],
      "execution_count": null,
      "outputs": []
    },
    {
      "cell_type": "code",
      "metadata": {
        "id": "XNMCzrjpgfTa"
      },
      "source": [
        ""
      ],
      "execution_count": null,
      "outputs": []
    },
    {
      "cell_type": "markdown",
      "metadata": {
        "id": "SL-NLKJGghZ9"
      },
      "source": [
        "# Deep Learning Bert"
      ]
    },
    {
      "cell_type": "code",
      "metadata": {
        "colab": {
          "base_uri": "https://localhost:8080/"
        },
        "id": "H-d1pE8Tovwf",
        "outputId": "074a8443-9735-432b-90d4-76e56acf521d"
      },
      "source": [
        "! pip install transformers"
      ],
      "execution_count": 231,
      "outputs": [
        {
          "output_type": "stream",
          "text": [
            "Collecting transformers\n",
            "\u001b[?25l  Downloading https://files.pythonhosted.org/packages/f9/54/5ca07ec9569d2f232f3166de5457b63943882f7950ddfcc887732fc7fb23/transformers-4.3.3-py3-none-any.whl (1.9MB)\n",
            "\u001b[K     |████████████████████████████████| 1.9MB 5.8MB/s \n",
            "\u001b[?25hRequirement already satisfied: filelock in /usr/local/lib/python3.7/dist-packages (from transformers) (3.0.12)\n",
            "Requirement already satisfied: tqdm>=4.27 in /usr/local/lib/python3.7/dist-packages (from transformers) (4.41.1)\n",
            "Requirement already satisfied: numpy>=1.17 in /usr/local/lib/python3.7/dist-packages (from transformers) (1.19.5)\n",
            "Requirement already satisfied: importlib-metadata; python_version < \"3.8\" in /usr/local/lib/python3.7/dist-packages (from transformers) (3.7.0)\n",
            "Collecting tokenizers<0.11,>=0.10.1\n",
            "\u001b[?25l  Downloading https://files.pythonhosted.org/packages/71/23/2ddc317b2121117bf34dd00f5b0de194158f2a44ee2bf5e47c7166878a97/tokenizers-0.10.1-cp37-cp37m-manylinux2010_x86_64.whl (3.2MB)\n",
            "\u001b[K     |████████████████████████████████| 3.2MB 22.4MB/s \n",
            "\u001b[?25hRequirement already satisfied: packaging in /usr/local/lib/python3.7/dist-packages (from transformers) (20.9)\n",
            "Requirement already satisfied: requests in /usr/local/lib/python3.7/dist-packages (from transformers) (2.23.0)\n",
            "Requirement already satisfied: regex!=2019.12.17 in /usr/local/lib/python3.7/dist-packages (from transformers) (2019.12.20)\n",
            "Collecting sacremoses\n",
            "\u001b[?25l  Downloading https://files.pythonhosted.org/packages/7d/34/09d19aff26edcc8eb2a01bed8e98f13a1537005d31e95233fd48216eed10/sacremoses-0.0.43.tar.gz (883kB)\n",
            "\u001b[K     |████████████████████████████████| 890kB 53.0MB/s \n",
            "\u001b[?25hRequirement already satisfied: zipp>=0.5 in /usr/local/lib/python3.7/dist-packages (from importlib-metadata; python_version < \"3.8\"->transformers) (3.4.0)\n",
            "Requirement already satisfied: typing-extensions>=3.6.4; python_version < \"3.8\" in /usr/local/lib/python3.7/dist-packages (from importlib-metadata; python_version < \"3.8\"->transformers) (3.7.4.3)\n",
            "Requirement already satisfied: pyparsing>=2.0.2 in /usr/local/lib/python3.7/dist-packages (from packaging->transformers) (2.4.7)\n",
            "Requirement already satisfied: urllib3!=1.25.0,!=1.25.1,<1.26,>=1.21.1 in /usr/local/lib/python3.7/dist-packages (from requests->transformers) (1.24.3)\n",
            "Requirement already satisfied: certifi>=2017.4.17 in /usr/local/lib/python3.7/dist-packages (from requests->transformers) (2020.12.5)\n",
            "Requirement already satisfied: idna<3,>=2.5 in /usr/local/lib/python3.7/dist-packages (from requests->transformers) (2.10)\n",
            "Requirement already satisfied: chardet<4,>=3.0.2 in /usr/local/lib/python3.7/dist-packages (from requests->transformers) (3.0.4)\n",
            "Requirement already satisfied: six in /usr/local/lib/python3.7/dist-packages (from sacremoses->transformers) (1.15.0)\n",
            "Requirement already satisfied: click in /usr/local/lib/python3.7/dist-packages (from sacremoses->transformers) (7.1.2)\n",
            "Requirement already satisfied: joblib in /usr/local/lib/python3.7/dist-packages (from sacremoses->transformers) (1.0.1)\n",
            "Building wheels for collected packages: sacremoses\n",
            "  Building wheel for sacremoses (setup.py) ... \u001b[?25l\u001b[?25hdone\n",
            "  Created wheel for sacremoses: filename=sacremoses-0.0.43-cp37-none-any.whl size=893262 sha256=df577fa079d4468d1ec1474ee9b9546bd6a0d9f4cd3c6dcbcf804857ea3f5d1a\n",
            "  Stored in directory: /root/.cache/pip/wheels/29/3c/fd/7ce5c3f0666dab31a50123635e6fb5e19ceb42ce38d4e58f45\n",
            "Successfully built sacremoses\n",
            "Installing collected packages: tokenizers, sacremoses, transformers\n",
            "Successfully installed sacremoses-0.0.43 tokenizers-0.10.1 transformers-4.3.3\n"
          ],
          "name": "stdout"
        }
      ]
    },
    {
      "cell_type": "code",
      "metadata": {
        "id": "Q6IZioASgjFN"
      },
      "source": [
        "import tensorflow as tf\r\n",
        "import tensorflow_hub as hub\r\n",
        "from tensorflow.keras.models import Model\r\n",
        "#importing DistilBert\r\n",
        "from transformers import DistilBertTokenizer, DistilBertModel "
      ],
      "execution_count": 323,
      "outputs": []
    },
    {
      "cell_type": "markdown",
      "metadata": {
        "id": "pYUdDQxDAA6d"
      },
      "source": [
        "### Split the data"
      ]
    },
    {
      "cell_type": "code",
      "metadata": {
        "colab": {
          "base_uri": "https://localhost:8080/"
        },
        "id": "BuKQ2y3fu4f7",
        "outputId": "b12fbe05-d311-41f4-fc3f-2a63bf0385ed"
      },
      "source": [
        "#we'll have to split into train and test data\r\n",
        "X_train, X_test, y_train, y_test = train_test_split(data_contracted['conv_script'], data_contracted['class_label'], test_size=0.30, stratify=data_contracted['class_label'])\r\n",
        "print(X_train.shape, X_test.shape)"
      ],
      "execution_count": 250,
      "outputs": [
        {
          "output_type": "stream",
          "text": [
            "(168,) (72,)\n"
          ],
          "name": "stdout"
        }
      ]
    },
    {
      "cell_type": "markdown",
      "metadata": {
        "id": "AyMNGeMeAEWn"
      },
      "source": [
        "### Load the Distillbert tokenizer from hugging face"
      ]
    },
    {
      "cell_type": "code",
      "metadata": {
        "id": "VSaZbeofokts"
      },
      "source": [
        "model = 'distilbert-base-uncased'\r\n",
        "tokenizer = DistilBertTokenizer.from_pretrained(model, do_lower_case=True, add_special_tokens=True, max_length=512, pad_to_max_length=True)"
      ],
      "execution_count": 305,
      "outputs": []
    },
    {
      "cell_type": "code",
      "metadata": {
        "colab": {
          "base_uri": "https://localhost:8080/"
        },
        "id": "ACzzQi-05Em5",
        "outputId": "4b7f2bd0-b299-4f25-997b-75271bc360a3"
      },
      "source": [
        "ss = ' '\r\n",
        "inputs = tokenizer.encode_plus(ss, add_special_tokens=True, max_length=512, pad_to_max_length=True,  return_attention_mask=True, return_token_type_ids=True)"
      ],
      "execution_count": 301,
      "outputs": [
        {
          "output_type": "stream",
          "text": [
            "/usr/local/lib/python3.7/dist-packages/transformers/tokenization_utils_base.py:2155: FutureWarning: The `pad_to_max_length` argument is deprecated and will be removed in a future version, use `padding=True` or `padding='longest'` to pad to the longest sequence in the batch, or use `padding='max_length'` to pad to a max length. In this case, you can give a specific length with `max_length` (e.g. `max_length=45`) or leave max_length to None to pad to the maximal input size of the model (e.g. 512 for Bert).\n",
            "  FutureWarning,\n"
          ],
          "name": "stderr"
        }
      ]
    },
    {
      "cell_type": "markdown",
      "metadata": {
        "id": "LGWWIQLZAJOT"
      },
      "source": [
        "### Helper methods to convert text into encoded sequence"
      ]
    },
    {
      "cell_type": "code",
      "metadata": {
        "id": "z7jsxZFp1a3V"
      },
      "source": [
        "def break_up_text(text):\r\n",
        "  text_1 = ' '.join(text.split()[0:460])\r\n",
        "  text_2 = ' '.join(text.split()[460:460*2])\r\n",
        "  text_3 = ' '.join(text.split()[460*2:460*3])\r\n",
        "  text_4 = ' '.join(text.split()[460*3:460*4])\r\n",
        "\r\n",
        "  return text_1, text_2, text_3, text_4\r\n",
        "\r\n",
        "def perfrom_tokenization(part_of_text, tokenizer):\r\n",
        "  inputs = tokenizer.encode_plus(part_of_text, add_special_tokens=True, max_length=512, pad_to_max_length=True,  return_attention_mask=True, return_token_type_ids=True)\r\n",
        "  return inputs"
      ],
      "execution_count": 307,
      "outputs": []
    },
    {
      "cell_type": "code",
      "metadata": {
        "id": "uKhfJ8_v1dIv"
      },
      "source": [
        "def tokenize_data(data, tokenizer):\r\n",
        "  input_ids_1, input_masks_1, input_segments_1 = [],[],[]\r\n",
        "  input_ids_2, input_masks_2, input_segments_2 = [],[],[]\r\n",
        "  input_ids_3, input_masks_3, input_segments_3 = [],[],[]\r\n",
        "  input_ids_4, input_masks_4, input_segments_4 = [],[],[]\r\n",
        "\r\n",
        "  for sentence in data.values:\r\n",
        "    sentence_1, sentence_2, sentence_3, sentence_4 = break_up_text(sentence)\r\n",
        "\r\n",
        "    inputs = perfrom_tokenization(sentence_1, tokenizer)\r\n",
        "    input_ids_1.append(inputs['input_ids'])\r\n",
        "    input_masks_1.append(inputs['attention_mask'])\r\n",
        "    input_segments_1.append(inputs['token_type_ids'])\r\n",
        "\r\n",
        "    inputs = perfrom_tokenization(sentence_2, tokenizer)\r\n",
        "    input_ids_2.append(inputs['input_ids'])\r\n",
        "    input_masks_2.append(inputs['attention_mask'])\r\n",
        "    input_segments_2.append(inputs['token_type_ids'])\r\n",
        "\r\n",
        "    inputs = perfrom_tokenization(sentence_3, tokenizer)\r\n",
        "    input_ids_3.append(inputs['input_ids'])\r\n",
        "    input_masks_3.append(inputs['attention_mask'])\r\n",
        "    input_segments_3.append(inputs['token_type_ids'])\r\n",
        "\r\n",
        "    inputs = perfrom_tokenization(sentence_4, tokenizer)\r\n",
        "    input_ids_4.append(inputs['input_ids'])\r\n",
        "    input_masks_4.append(inputs['attention_mask'])\r\n",
        "    input_segments_4.append(inputs['token_type_ids'])\r\n",
        "\r\n",
        "  #convert all to numpy\r\n",
        "  input_ids_1, input_masks_1, input_segments_1 = np.asarray(input_ids_1, dtype='int32'), np.asarray(input_masks_1, dtype='int32'), np.asarray(input_segments_1, dtype='int32')\r\n",
        "  input_ids_2, input_masks_2, input_segments_2 = np.asarray(input_ids_2, dtype='int32'), np.asarray(input_masks_2, dtype='int32'), np.asarray(input_segments_2, dtype='int32')\r\n",
        "  input_ids_3, input_masks_3, input_segments_3 = np.asarray(input_ids_3, dtype='int32'), np.asarray(input_masks_3, dtype='int32'), np.asarray(input_segments_3, dtype='int32')\r\n",
        "  input_ids_4, input_masks_4, input_segments_4 = np.asarray(input_ids_4, dtype='int32'), np.asarray(input_masks_4, dtype='int32'), np.asarray(input_segments_4, dtype='int32')\r\n",
        "\r\n",
        "  return input_ids_1, input_masks_1, input_segments_1, input_ids_2, input_masks_2, input_segments_2, input_ids_1, input_masks_3, input_segments_3, input_ids_4, input_masks_4, input_segments_4 "
      ],
      "execution_count": 308,
      "outputs": []
    },
    {
      "cell_type": "code",
      "metadata": {
        "colab": {
          "base_uri": "https://localhost:8080/"
        },
        "id": "jIYk-PDTr98L",
        "outputId": "006f5426-ef97-4f5f-ef8b-fcf3af49ab82"
      },
      "source": [
        "input_ids_1_tr, input_masks_1_tr, input_segments_1_tr, input_ids_2_tr, input_masks_2_tr, input_segments_2_tr, input_ids_3_tr, input_masks_3_tr, input_segments_3_tr, input_ids_4_tr, input_masks_4_tr, input_segments_4_tr = tokenize_data(X_train, tokenizer)"
      ],
      "execution_count": 330,
      "outputs": [
        {
          "output_type": "stream",
          "text": [
            "/usr/local/lib/python3.7/dist-packages/transformers/tokenization_utils_base.py:2155: FutureWarning: The `pad_to_max_length` argument is deprecated and will be removed in a future version, use `padding=True` or `padding='longest'` to pad to the longest sequence in the batch, or use `padding='max_length'` to pad to a max length. In this case, you can give a specific length with `max_length` (e.g. `max_length=45`) or leave max_length to None to pad to the maximal input size of the model (e.g. 512 for Bert).\n",
            "  FutureWarning,\n"
          ],
          "name": "stderr"
        }
      ]
    },
    {
      "cell_type": "code",
      "metadata": {
        "colab": {
          "base_uri": "https://localhost:8080/"
        },
        "id": "LdgL9oP9sIiy",
        "outputId": "a931ad49-d6a7-4503-8912-fa28ae11b43f"
      },
      "source": [
        "input_ids_1_test, input_masks_1_test, input_segments_1_test, input_ids_2_test, input_masks_2_test, input_segments_2_test, input_ids_3_test, input_masks_3_test, input_segments_3_test, input_ids_4_test, input_masks_4_test, input_segments_4_test = tokenize_data(X_test, tokenizer)"
      ],
      "execution_count": 334,
      "outputs": [
        {
          "output_type": "stream",
          "text": [
            "/usr/local/lib/python3.7/dist-packages/transformers/tokenization_utils_base.py:2155: FutureWarning: The `pad_to_max_length` argument is deprecated and will be removed in a future version, use `padding=True` or `padding='longest'` to pad to the longest sequence in the batch, or use `padding='max_length'` to pad to a max length. In this case, you can give a specific length with `max_length` (e.g. `max_length=45`) or leave max_length to None to pad to the maximal input size of the model (e.g. 512 for Bert).\n",
            "  FutureWarning,\n"
          ],
          "name": "stderr"
        }
      ]
    },
    {
      "cell_type": "code",
      "metadata": {
        "colab": {
          "base_uri": "https://localhost:8080/"
        },
        "id": "IJlPN5fv0cDy",
        "outputId": "ce698ad9-0024-4176-8731-239d0e41786c"
      },
      "source": [
        "tf.keras.backend.clear_session()\r\n",
        "\r\n",
        "# maximum length of a seq in the data we have, for now i am making it as 55. Maxium allowed input length is 512\r\n",
        "max_seq_length = 512\r\n",
        "\r\n",
        "#Bert takes 3 input to give embedding for the sentence\r\n",
        "#1. input word ids vector - Sequence of words represented as integers basically. \r\n",
        "#2. mask input vector - This is like for padding. If padding then what we'll do is simply mention 0 to make each input of same length\r\n",
        "#3. Segment vector - This is useful when we have two setence problem. Since here only one so all the entries would be 0.\r\n",
        "#If we are giving only one sentence for the classification, total seg vector is 0. \r\n",
        "\r\n",
        "input_word_ids = tf.keras.layers.Input(shape=(max_seq_length,), dtype=tf.int32, name=\"input_word_ids\")\r\n",
        "\r\n",
        "input_mask = tf.keras.layers.Input(shape=(max_seq_length,), dtype=tf.int32, name=\"input_mask\")\r\n",
        "\r\n",
        "segment_ids = tf.keras.layers.Input(shape=(max_seq_length,), dtype=tf.int32, name=\"segment_ids\")\r\n",
        "\r\n",
        "#bert layer \r\n",
        "#We'll load it with the help of tensorflow_hub\r\n",
        "bert_layer = hub.KerasLayer(\"https://tfhub.dev/tensorflow/bert_en_uncased_L-12_H-768_A-12/1\", trainable=False)\r\n",
        "pooled_output, sequence_output = bert_layer([input_word_ids, input_mask, segment_ids])\r\n",
        "\r\n",
        "#Bert model\r\n",
        "#initialize the Bert model. Here we're using only the Pooled Output. Pooled output is output corresponding to [CLS]\r\n",
        "bert_model = Model(inputs=[input_word_ids, input_mask, segment_ids], outputs=pooled_output)"
      ],
      "execution_count": 324,
      "outputs": [
        {
          "output_type": "stream",
          "text": [
            "INFO:absl:Using /tmp/tfhub_modules to cache modules.\n",
            "INFO:absl:Downloading TF-Hub Module 'https://tfhub.dev/tensorflow/bert_en_uncased_L-12_H-768_A-12/1'.\n",
            "INFO:absl:Downloaded https://tfhub.dev/tensorflow/bert_en_uncased_L-12_H-768_A-12/1, Total size: 423.26MB\n",
            "INFO:absl:Downloaded TF-Hub Module 'https://tfhub.dev/tensorflow/bert_en_uncased_L-12_H-768_A-12/1'.\n"
          ],
          "name": "stderr"
        }
      ]
    },
    {
      "cell_type": "code",
      "metadata": {
        "id": "3NqDHSBk9mNF"
      },
      "source": [
        "X_train_pooled_output_1=bert_model.predict([input_ids_1_tr,input_masks_1_tr,input_segments_1_tr])"
      ],
      "execution_count": 325,
      "outputs": []
    },
    {
      "cell_type": "code",
      "metadata": {
        "id": "Dn_Bk4v8_dMp"
      },
      "source": [
        "X_train_pooled_output_2=bert_model.predict([input_ids_2_tr,input_masks_2_tr,input_segments_2_tr])\r\n",
        "X_train_pooled_output_3=bert_model.predict([input_ids_3_tr,input_masks_3_tr,input_segments_3_tr])\r\n",
        "X_train_pooled_output_4=bert_model.predict([input_ids_4_tr,input_masks_4_tr,input_segments_4_tr])\r\n"
      ],
      "execution_count": 332,
      "outputs": []
    },
    {
      "cell_type": "code",
      "metadata": {
        "colab": {
          "base_uri": "https://localhost:8080/"
        },
        "id": "5d_rroGvBRZd",
        "outputId": "5bb05854-4c1a-43e3-e2ad-7786bf2acf27"
      },
      "source": [
        "input_ids_3_tr.shape"
      ],
      "execution_count": 331,
      "outputs": [
        {
          "output_type": "execute_result",
          "data": {
            "text/plain": [
              "(168, 512)"
            ]
          },
          "metadata": {
            "tags": []
          },
          "execution_count": 331
        }
      ]
    },
    {
      "cell_type": "code",
      "metadata": {
        "colab": {
          "base_uri": "https://localhost:8080/"
        },
        "id": "rUT6tJTr0ST_",
        "outputId": "58b55487-cbe6-44af-8da3-76f63252ba29"
      },
      "source": [
        "bert_model.summary()"
      ],
      "execution_count": 326,
      "outputs": [
        {
          "output_type": "stream",
          "text": [
            "Model: \"model\"\n",
            "__________________________________________________________________________________________________\n",
            "Layer (type)                    Output Shape         Param #     Connected to                     \n",
            "==================================================================================================\n",
            "input_word_ids (InputLayer)     [(None, 512)]        0                                            \n",
            "__________________________________________________________________________________________________\n",
            "input_mask (InputLayer)         [(None, 512)]        0                                            \n",
            "__________________________________________________________________________________________________\n",
            "segment_ids (InputLayer)        [(None, 512)]        0                                            \n",
            "__________________________________________________________________________________________________\n",
            "keras_layer (KerasLayer)        [(None, 768), (None, 109482241   input_word_ids[0][0]             \n",
            "                                                                 input_mask[0][0]                 \n",
            "                                                                 segment_ids[0][0]                \n",
            "==================================================================================================\n",
            "Total params: 109,482,241\n",
            "Trainable params: 0\n",
            "Non-trainable params: 109,482,241\n",
            "__________________________________________________________________________________________________\n"
          ],
          "name": "stdout"
        }
      ]
    },
    {
      "cell_type": "code",
      "metadata": {
        "id": "VpoWb5NQ_W6T"
      },
      "source": [
        "pickle.dump((X_train_pooled_output_1, X_train_pooled_output_2, X_train_pooled_output_3, X_train_pooled_output_4),open('bert_train_embedding_final.pkl','wb'))"
      ],
      "execution_count": 333,
      "outputs": []
    },
    {
      "cell_type": "code",
      "metadata": {
        "id": "mviAaFOXGB5V"
      },
      "source": [
        "X_test_pooled_output_1=bert_model.predict([input_ids_1_test, input_masks_1_test, input_segments_1_test])\r\n",
        "X_test_pooled_output_2=bert_model.predict([input_ids_2_test, input_masks_2_test, input_segments_2_test])\r\n",
        "X_test_pooled_output_3=bert_model.predict([input_ids_3_test, input_masks_3_test, input_segments_3_test])\r\n",
        "X_test_pooled_output_4=bert_model.predict([input_ids_4_test, input_masks_4_test, input_segments_4_test])"
      ],
      "execution_count": 335,
      "outputs": []
    },
    {
      "cell_type": "code",
      "metadata": {
        "id": "Pb9P7Rs5GkvJ"
      },
      "source": [
        "pickle.dump((X_test_pooled_output_1, X_test_pooled_output_2, X_test_pooled_output_3, X_test_pooled_output_4),open('bert_test_embedding_final.pkl','wb'))"
      ],
      "execution_count": 338,
      "outputs": []
    },
    {
      "cell_type": "code",
      "metadata": {
        "id": "AwEswaiiGrd1"
      },
      "source": [
        ""
      ],
      "execution_count": null,
      "outputs": []
    }
  ]
}